{
 "cells": [
  {
   "cell_type": "markdown",
   "metadata": {},
   "source": [
    "# EDA\n",
    "\n",
    "В README не объясняют, что за задачу мы решаем и какие у нас данные, надо разобраться.\n",
    "\n",
    "\n",
    "* В файле `problem_train.csv` в каждой строке содержится информация об объекте\n",
    "с уникальным идентификатором, заданным в столбце `id`.\n",
    "\n",
    "* В файле `problem_labels.csv` для каждого `id` из файла `problem_train.csv` приведена информация о\n",
    "принадлежности к 14 категориям.\n",
    "\n",
    "* В файле `problem_test.csv` дана информация об объектах, аналогичная содержащейся в файле\n",
    "`problem_train.csv`.\n",
    "\n",
    "* Используя `problem_train.csv` и `problem_labels.csv` в качестве данных для обучения, постройте файл\n",
    "`problem_test_labels.csv`, в котором для каждого объекта из файла `problem_test.csv` укажите\n",
    "вероятность его принадлежности к каждой из 14 рассматриваемых категорий.\n",
    "\n",
    "* Для оценки качества полученного результата будет использоваться метрика `LogLoss`. По каждой из 14 \n",
    "категорий метрика считается независимо, затем берется среднее арифметическое значений метрик,\n",
    "полученных для категорий.\n",
    "\n",
    "* Пожалуйста, предоставьте краткое описание пути поиска решения и код, использованный для получения\n",
    "результата."
   ]
  },
  {
   "cell_type": "code",
   "execution_count": 1,
   "metadata": {},
   "outputs": [
    {
     "data": {
      "text/html": [
       "\n",
       "<style>\n",
       "    .output-plaintext, .output-stream, .output {\n",
       "        font-family: \"JetBrainsMono Nerd Font Mono\"; # Any monospaced font should work\n",
       "    }\n",
       "</style>\n"
      ],
      "text/plain": [
       "<IPython.core.display.HTML object>"
      ]
     },
     "execution_count": 1,
     "metadata": {},
     "output_type": "execute_result"
    }
   ],
   "source": [
    "from IPython.core.display import HTML\n",
    "\n",
    "HTML(\n",
    "    r\"\"\"\n",
    "<style>\n",
    "    .output-plaintext, .output-stream, .output {\n",
    "        font-family: \"JetBrainsMono Nerd Font Mono\"; # Any monospaced font should work\n",
    "    }\n",
    "</style>\n",
    "\"\"\"\n",
    ")"
   ]
  },
  {
   "cell_type": "code",
   "execution_count": 2,
   "metadata": {},
   "outputs": [],
   "source": [
    "import os\n",
    "from pathlib import Path\n",
    "\n",
    "import numpy as np\n",
    "import matplotlib.pyplot as plt\n",
    "import seaborn as sns\n",
    "import plotly.express as px\n",
    "import plotly.io as pio\n",
    "import pandas as pd"
   ]
  },
  {
   "cell_type": "code",
   "execution_count": 3,
   "metadata": {},
   "outputs": [],
   "source": [
    "pio.templates.default = \"plotly_dark\""
   ]
  },
  {
   "cell_type": "markdown",
   "metadata": {},
   "source": [
    "## TODO: change to white before submitting"
   ]
  },
  {
   "cell_type": "markdown",
   "metadata": {},
   "source": [
    "### Откроем данные"
   ]
  },
  {
   "cell_type": "code",
   "execution_count": 4,
   "metadata": {},
   "outputs": [],
   "source": [
    "train_df = pd.read_csv(\"./data/problem_train.csv\", low_memory=False)"
   ]
  },
  {
   "cell_type": "code",
   "execution_count": 5,
   "metadata": {},
   "outputs": [
    {
     "data": {
      "text/html": [
       "<div>\n",
       "<style scoped>\n",
       "    .dataframe tbody tr th:only-of-type {\n",
       "        vertical-align: middle;\n",
       "    }\n",
       "\n",
       "    .dataframe tbody tr th {\n",
       "        vertical-align: top;\n",
       "    }\n",
       "\n",
       "    .dataframe thead th {\n",
       "        text-align: right;\n",
       "    }\n",
       "</style>\n",
       "<table border=\"1\" class=\"dataframe\">\n",
       "  <thead>\n",
       "    <tr style=\"text-align: right;\">\n",
       "      <th></th>\n",
       "      <th>id</th>\n",
       "      <th>release</th>\n",
       "      <th>n_0000</th>\n",
       "      <th>n_0001</th>\n",
       "      <th>n_0002</th>\n",
       "      <th>n_0003</th>\n",
       "      <th>n_0004</th>\n",
       "      <th>n_0005</th>\n",
       "      <th>n_0006</th>\n",
       "      <th>n_0007</th>\n",
       "      <th>...</th>\n",
       "      <th>c_1368</th>\n",
       "      <th>c_1369</th>\n",
       "      <th>c_1370</th>\n",
       "      <th>c_1371</th>\n",
       "      <th>c_1372</th>\n",
       "      <th>c_1373</th>\n",
       "      <th>c_1374</th>\n",
       "      <th>c_1375</th>\n",
       "      <th>c_1376</th>\n",
       "      <th>c_1377</th>\n",
       "    </tr>\n",
       "  </thead>\n",
       "  <tbody>\n",
       "    <tr>\n",
       "      <th>0</th>\n",
       "      <td>11193</td>\n",
       "      <td>a</td>\n",
       "      <td>NaN</td>\n",
       "      <td>NaN</td>\n",
       "      <td>0.025449</td>\n",
       "      <td>NaN</td>\n",
       "      <td>NaN</td>\n",
       "      <td>0.368421</td>\n",
       "      <td>NaN</td>\n",
       "      <td>NaN</td>\n",
       "      <td>...</td>\n",
       "      <td>NaN</td>\n",
       "      <td>NaN</td>\n",
       "      <td>NaN</td>\n",
       "      <td>NaN</td>\n",
       "      <td>a</td>\n",
       "      <td>NaN</td>\n",
       "      <td>q</td>\n",
       "      <td>NaN</td>\n",
       "      <td>NaN</td>\n",
       "      <td>NaN</td>\n",
       "    </tr>\n",
       "    <tr>\n",
       "      <th>1</th>\n",
       "      <td>11382</td>\n",
       "      <td>a</td>\n",
       "      <td>NaN</td>\n",
       "      <td>NaN</td>\n",
       "      <td>0.031297</td>\n",
       "      <td>NaN</td>\n",
       "      <td>NaN</td>\n",
       "      <td>0.315789</td>\n",
       "      <td>NaN</td>\n",
       "      <td>NaN</td>\n",
       "      <td>...</td>\n",
       "      <td>NaN</td>\n",
       "      <td>NaN</td>\n",
       "      <td>a</td>\n",
       "      <td>NaN</td>\n",
       "      <td>a</td>\n",
       "      <td>NaN</td>\n",
       "      <td>NaN</td>\n",
       "      <td>NaN</td>\n",
       "      <td>NaN</td>\n",
       "      <td>NaN</td>\n",
       "    </tr>\n",
       "    <tr>\n",
       "      <th>2</th>\n",
       "      <td>16531</td>\n",
       "      <td>a</td>\n",
       "      <td>NaN</td>\n",
       "      <td>NaN</td>\n",
       "      <td>0.024475</td>\n",
       "      <td>NaN</td>\n",
       "      <td>NaN</td>\n",
       "      <td>0.342105</td>\n",
       "      <td>NaN</td>\n",
       "      <td>NaN</td>\n",
       "      <td>...</td>\n",
       "      <td>NaN</td>\n",
       "      <td>NaN</td>\n",
       "      <td>a</td>\n",
       "      <td>NaN</td>\n",
       "      <td>a</td>\n",
       "      <td>NaN</td>\n",
       "      <td>b</td>\n",
       "      <td>NaN</td>\n",
       "      <td>NaN</td>\n",
       "      <td>NaN</td>\n",
       "    </tr>\n",
       "    <tr>\n",
       "      <th>3</th>\n",
       "      <td>1896</td>\n",
       "      <td>a</td>\n",
       "      <td>NaN</td>\n",
       "      <td>NaN</td>\n",
       "      <td>0.041694</td>\n",
       "      <td>NaN</td>\n",
       "      <td>NaN</td>\n",
       "      <td>0.447368</td>\n",
       "      <td>NaN</td>\n",
       "      <td>NaN</td>\n",
       "      <td>...</td>\n",
       "      <td>NaN</td>\n",
       "      <td>NaN</td>\n",
       "      <td>NaN</td>\n",
       "      <td>NaN</td>\n",
       "      <td>a</td>\n",
       "      <td>NaN</td>\n",
       "      <td>NaN</td>\n",
       "      <td>NaN</td>\n",
       "      <td>NaN</td>\n",
       "      <td>NaN</td>\n",
       "    </tr>\n",
       "    <tr>\n",
       "      <th>4</th>\n",
       "      <td>18262</td>\n",
       "      <td>c</td>\n",
       "      <td>NaN</td>\n",
       "      <td>NaN</td>\n",
       "      <td>0.038120</td>\n",
       "      <td>NaN</td>\n",
       "      <td>NaN</td>\n",
       "      <td>0.315789</td>\n",
       "      <td>NaN</td>\n",
       "      <td>NaN</td>\n",
       "      <td>...</td>\n",
       "      <td>NaN</td>\n",
       "      <td>NaN</td>\n",
       "      <td>b</td>\n",
       "      <td>NaN</td>\n",
       "      <td>a</td>\n",
       "      <td>NaN</td>\n",
       "      <td>a</td>\n",
       "      <td>NaN</td>\n",
       "      <td>NaN</td>\n",
       "      <td>NaN</td>\n",
       "    </tr>\n",
       "    <tr>\n",
       "      <th>...</th>\n",
       "      <td>...</td>\n",
       "      <td>...</td>\n",
       "      <td>...</td>\n",
       "      <td>...</td>\n",
       "      <td>...</td>\n",
       "      <td>...</td>\n",
       "      <td>...</td>\n",
       "      <td>...</td>\n",
       "      <td>...</td>\n",
       "      <td>...</td>\n",
       "      <td>...</td>\n",
       "      <td>...</td>\n",
       "      <td>...</td>\n",
       "      <td>...</td>\n",
       "      <td>...</td>\n",
       "      <td>...</td>\n",
       "      <td>...</td>\n",
       "      <td>...</td>\n",
       "      <td>...</td>\n",
       "      <td>...</td>\n",
       "      <td>...</td>\n",
       "    </tr>\n",
       "    <tr>\n",
       "      <th>7995</th>\n",
       "      <td>10898</td>\n",
       "      <td>a</td>\n",
       "      <td>NaN</td>\n",
       "      <td>NaN</td>\n",
       "      <td>0.053931</td>\n",
       "      <td>NaN</td>\n",
       "      <td>NaN</td>\n",
       "      <td>0.394737</td>\n",
       "      <td>NaN</td>\n",
       "      <td>NaN</td>\n",
       "      <td>...</td>\n",
       "      <td>NaN</td>\n",
       "      <td>NaN</td>\n",
       "      <td>NaN</td>\n",
       "      <td>NaN</td>\n",
       "      <td>a</td>\n",
       "      <td>NaN</td>\n",
       "      <td>NaN</td>\n",
       "      <td>NaN</td>\n",
       "      <td>NaN</td>\n",
       "      <td>b</td>\n",
       "    </tr>\n",
       "    <tr>\n",
       "      <th>7996</th>\n",
       "      <td>16664</td>\n",
       "      <td>a</td>\n",
       "      <td>NaN</td>\n",
       "      <td>NaN</td>\n",
       "      <td>0.031731</td>\n",
       "      <td>NaN</td>\n",
       "      <td>NaN</td>\n",
       "      <td>0.394737</td>\n",
       "      <td>NaN</td>\n",
       "      <td>NaN</td>\n",
       "      <td>...</td>\n",
       "      <td>NaN</td>\n",
       "      <td>NaN</td>\n",
       "      <td>NaN</td>\n",
       "      <td>NaN</td>\n",
       "      <td>a</td>\n",
       "      <td>NaN</td>\n",
       "      <td>a</td>\n",
       "      <td>NaN</td>\n",
       "      <td>NaN</td>\n",
       "      <td>NaN</td>\n",
       "    </tr>\n",
       "    <tr>\n",
       "      <th>7997</th>\n",
       "      <td>5334</td>\n",
       "      <td>c</td>\n",
       "      <td>NaN</td>\n",
       "      <td>0.904762</td>\n",
       "      <td>0.033463</td>\n",
       "      <td>NaN</td>\n",
       "      <td>NaN</td>\n",
       "      <td>0.394737</td>\n",
       "      <td>NaN</td>\n",
       "      <td>NaN</td>\n",
       "      <td>...</td>\n",
       "      <td>NaN</td>\n",
       "      <td>NaN</td>\n",
       "      <td>NaN</td>\n",
       "      <td>NaN</td>\n",
       "      <td>a</td>\n",
       "      <td>NaN</td>\n",
       "      <td>NaN</td>\n",
       "      <td>NaN</td>\n",
       "      <td>NaN</td>\n",
       "      <td>NaN</td>\n",
       "    </tr>\n",
       "    <tr>\n",
       "      <th>7998</th>\n",
       "      <td>7905</td>\n",
       "      <td>c</td>\n",
       "      <td>NaN</td>\n",
       "      <td>NaN</td>\n",
       "      <td>0.047109</td>\n",
       "      <td>NaN</td>\n",
       "      <td>NaN</td>\n",
       "      <td>0.289474</td>\n",
       "      <td>NaN</td>\n",
       "      <td>NaN</td>\n",
       "      <td>...</td>\n",
       "      <td>NaN</td>\n",
       "      <td>NaN</td>\n",
       "      <td>NaN</td>\n",
       "      <td>NaN</td>\n",
       "      <td>a</td>\n",
       "      <td>NaN</td>\n",
       "      <td>q</td>\n",
       "      <td>NaN</td>\n",
       "      <td>NaN</td>\n",
       "      <td>NaN</td>\n",
       "    </tr>\n",
       "    <tr>\n",
       "      <th>7999</th>\n",
       "      <td>3997</td>\n",
       "      <td>c</td>\n",
       "      <td>NaN</td>\n",
       "      <td>0.761905</td>\n",
       "      <td>0.049491</td>\n",
       "      <td>NaN</td>\n",
       "      <td>NaN</td>\n",
       "      <td>0.631579</td>\n",
       "      <td>0.0</td>\n",
       "      <td>0.0</td>\n",
       "      <td>...</td>\n",
       "      <td>NaN</td>\n",
       "      <td>NaN</td>\n",
       "      <td>NaN</td>\n",
       "      <td>NaN</td>\n",
       "      <td>b</td>\n",
       "      <td>NaN</td>\n",
       "      <td>NaN</td>\n",
       "      <td>NaN</td>\n",
       "      <td>NaN</td>\n",
       "      <td>NaN</td>\n",
       "    </tr>\n",
       "  </tbody>\n",
       "</table>\n",
       "<p>8000 rows × 1379 columns</p>\n",
       "</div>"
      ],
      "text/plain": [
       "         id release  n_0000    n_0001    n_0002  n_0003  n_0004    n_0005  \\\n",
       "0     11193       a     NaN       NaN  0.025449     NaN     NaN  0.368421   \n",
       "1     11382       a     NaN       NaN  0.031297     NaN     NaN  0.315789   \n",
       "2     16531       a     NaN       NaN  0.024475     NaN     NaN  0.342105   \n",
       "3      1896       a     NaN       NaN  0.041694     NaN     NaN  0.447368   \n",
       "4     18262       c     NaN       NaN  0.038120     NaN     NaN  0.315789   \n",
       "...     ...     ...     ...       ...       ...     ...     ...       ...   \n",
       "7995  10898       a     NaN       NaN  0.053931     NaN     NaN  0.394737   \n",
       "7996  16664       a     NaN       NaN  0.031731     NaN     NaN  0.394737   \n",
       "7997   5334       c     NaN  0.904762  0.033463     NaN     NaN  0.394737   \n",
       "7998   7905       c     NaN       NaN  0.047109     NaN     NaN  0.289474   \n",
       "7999   3997       c     NaN  0.761905  0.049491     NaN     NaN  0.631579   \n",
       "\n",
       "      n_0006  n_0007  ...  c_1368  c_1369  c_1370  c_1371  c_1372  c_1373  \\\n",
       "0        NaN     NaN  ...     NaN     NaN     NaN     NaN       a     NaN   \n",
       "1        NaN     NaN  ...     NaN     NaN       a     NaN       a     NaN   \n",
       "2        NaN     NaN  ...     NaN     NaN       a     NaN       a     NaN   \n",
       "3        NaN     NaN  ...     NaN     NaN     NaN     NaN       a     NaN   \n",
       "4        NaN     NaN  ...     NaN     NaN       b     NaN       a     NaN   \n",
       "...      ...     ...  ...     ...     ...     ...     ...     ...     ...   \n",
       "7995     NaN     NaN  ...     NaN     NaN     NaN     NaN       a     NaN   \n",
       "7996     NaN     NaN  ...     NaN     NaN     NaN     NaN       a     NaN   \n",
       "7997     NaN     NaN  ...     NaN     NaN     NaN     NaN       a     NaN   \n",
       "7998     NaN     NaN  ...     NaN     NaN     NaN     NaN       a     NaN   \n",
       "7999     0.0     0.0  ...     NaN     NaN     NaN     NaN       b     NaN   \n",
       "\n",
       "      c_1374  c_1375  c_1376  c_1377  \n",
       "0          q     NaN     NaN     NaN  \n",
       "1        NaN     NaN     NaN     NaN  \n",
       "2          b     NaN     NaN     NaN  \n",
       "3        NaN     NaN     NaN     NaN  \n",
       "4          a     NaN     NaN     NaN  \n",
       "...      ...     ...     ...     ...  \n",
       "7995     NaN     NaN     NaN       b  \n",
       "7996       a     NaN     NaN     NaN  \n",
       "7997     NaN     NaN     NaN     NaN  \n",
       "7998       q     NaN     NaN     NaN  \n",
       "7999     NaN     NaN     NaN     NaN  \n",
       "\n",
       "[8000 rows x 1379 columns]"
      ]
     },
     "execution_count": 5,
     "metadata": {},
     "output_type": "execute_result"
    }
   ],
   "source": [
    "train_df"
   ]
  },
  {
   "cell_type": "code",
   "execution_count": 6,
   "metadata": {},
   "outputs": [
    {
     "data": {
      "text/html": [
       "<div>\n",
       "<style scoped>\n",
       "    .dataframe tbody tr th:only-of-type {\n",
       "        vertical-align: middle;\n",
       "    }\n",
       "\n",
       "    .dataframe tbody tr th {\n",
       "        vertical-align: top;\n",
       "    }\n",
       "\n",
       "    .dataframe thead th {\n",
       "        text-align: right;\n",
       "    }\n",
       "</style>\n",
       "<table border=\"1\" class=\"dataframe\">\n",
       "  <thead>\n",
       "    <tr style=\"text-align: right;\">\n",
       "      <th></th>\n",
       "      <th>id</th>\n",
       "      <th>release</th>\n",
       "      <th>n_0000</th>\n",
       "      <th>n_0001</th>\n",
       "      <th>n_0002</th>\n",
       "      <th>n_0003</th>\n",
       "      <th>n_0004</th>\n",
       "      <th>n_0005</th>\n",
       "      <th>n_0006</th>\n",
       "      <th>n_0007</th>\n",
       "      <th>...</th>\n",
       "      <th>c_1368</th>\n",
       "      <th>c_1369</th>\n",
       "      <th>c_1370</th>\n",
       "      <th>c_1371</th>\n",
       "      <th>c_1372</th>\n",
       "      <th>c_1373</th>\n",
       "      <th>c_1374</th>\n",
       "      <th>c_1375</th>\n",
       "      <th>c_1376</th>\n",
       "      <th>c_1377</th>\n",
       "    </tr>\n",
       "  </thead>\n",
       "  <tbody>\n",
       "    <tr>\n",
       "      <th>count</th>\n",
       "      <td>8000.000000</td>\n",
       "      <td>8000</td>\n",
       "      <td>12.000000</td>\n",
       "      <td>388.000000</td>\n",
       "      <td>7662.000000</td>\n",
       "      <td>112.000000</td>\n",
       "      <td>58.000000</td>\n",
       "      <td>7658.000000</td>\n",
       "      <td>1348.000000</td>\n",
       "      <td>995.000000</td>\n",
       "      <td>...</td>\n",
       "      <td>3</td>\n",
       "      <td>48</td>\n",
       "      <td>377</td>\n",
       "      <td>2</td>\n",
       "      <td>7998</td>\n",
       "      <td>440</td>\n",
       "      <td>3155</td>\n",
       "      <td>563</td>\n",
       "      <td>7</td>\n",
       "      <td>1908</td>\n",
       "    </tr>\n",
       "    <tr>\n",
       "      <th>unique</th>\n",
       "      <td>NaN</td>\n",
       "      <td>3</td>\n",
       "      <td>NaN</td>\n",
       "      <td>NaN</td>\n",
       "      <td>NaN</td>\n",
       "      <td>NaN</td>\n",
       "      <td>NaN</td>\n",
       "      <td>NaN</td>\n",
       "      <td>NaN</td>\n",
       "      <td>NaN</td>\n",
       "      <td>...</td>\n",
       "      <td>3</td>\n",
       "      <td>11</td>\n",
       "      <td>3</td>\n",
       "      <td>2</td>\n",
       "      <td>2</td>\n",
       "      <td>5</td>\n",
       "      <td>24</td>\n",
       "      <td>19</td>\n",
       "      <td>2</td>\n",
       "      <td>2</td>\n",
       "    </tr>\n",
       "    <tr>\n",
       "      <th>top</th>\n",
       "      <td>NaN</td>\n",
       "      <td>a</td>\n",
       "      <td>NaN</td>\n",
       "      <td>NaN</td>\n",
       "      <td>NaN</td>\n",
       "      <td>NaN</td>\n",
       "      <td>NaN</td>\n",
       "      <td>NaN</td>\n",
       "      <td>NaN</td>\n",
       "      <td>NaN</td>\n",
       "      <td>...</td>\n",
       "      <td>d</td>\n",
       "      <td>m</td>\n",
       "      <td>b</td>\n",
       "      <td>c</td>\n",
       "      <td>a</td>\n",
       "      <td>c</td>\n",
       "      <td>b</td>\n",
       "      <td>j</td>\n",
       "      <td>b</td>\n",
       "      <td>b</td>\n",
       "    </tr>\n",
       "    <tr>\n",
       "      <th>freq</th>\n",
       "      <td>NaN</td>\n",
       "      <td>3838</td>\n",
       "      <td>NaN</td>\n",
       "      <td>NaN</td>\n",
       "      <td>NaN</td>\n",
       "      <td>NaN</td>\n",
       "      <td>NaN</td>\n",
       "      <td>NaN</td>\n",
       "      <td>NaN</td>\n",
       "      <td>NaN</td>\n",
       "      <td>...</td>\n",
       "      <td>1</td>\n",
       "      <td>22</td>\n",
       "      <td>312</td>\n",
       "      <td>1</td>\n",
       "      <td>7460</td>\n",
       "      <td>167</td>\n",
       "      <td>1559</td>\n",
       "      <td>232</td>\n",
       "      <td>4</td>\n",
       "      <td>1441</td>\n",
       "    </tr>\n",
       "    <tr>\n",
       "      <th>mean</th>\n",
       "      <td>9220.303375</td>\n",
       "      <td>NaN</td>\n",
       "      <td>0.307692</td>\n",
       "      <td>0.655744</td>\n",
       "      <td>0.040935</td>\n",
       "      <td>0.102749</td>\n",
       "      <td>0.352874</td>\n",
       "      <td>0.395981</td>\n",
       "      <td>0.193175</td>\n",
       "      <td>0.012012</td>\n",
       "      <td>...</td>\n",
       "      <td>NaN</td>\n",
       "      <td>NaN</td>\n",
       "      <td>NaN</td>\n",
       "      <td>NaN</td>\n",
       "      <td>NaN</td>\n",
       "      <td>NaN</td>\n",
       "      <td>NaN</td>\n",
       "      <td>NaN</td>\n",
       "      <td>NaN</td>\n",
       "      <td>NaN</td>\n",
       "    </tr>\n",
       "    <tr>\n",
       "      <th>std</th>\n",
       "      <td>5236.897900</td>\n",
       "      <td>NaN</td>\n",
       "      <td>0.245454</td>\n",
       "      <td>0.216399</td>\n",
       "      <td>0.024599</td>\n",
       "      <td>0.153007</td>\n",
       "      <td>0.209337</td>\n",
       "      <td>0.085000</td>\n",
       "      <td>0.236683</td>\n",
       "      <td>0.041382</td>\n",
       "      <td>...</td>\n",
       "      <td>NaN</td>\n",
       "      <td>NaN</td>\n",
       "      <td>NaN</td>\n",
       "      <td>NaN</td>\n",
       "      <td>NaN</td>\n",
       "      <td>NaN</td>\n",
       "      <td>NaN</td>\n",
       "      <td>NaN</td>\n",
       "      <td>NaN</td>\n",
       "      <td>NaN</td>\n",
       "    </tr>\n",
       "    <tr>\n",
       "      <th>min</th>\n",
       "      <td>0.000000</td>\n",
       "      <td>NaN</td>\n",
       "      <td>0.000000</td>\n",
       "      <td>0.000000</td>\n",
       "      <td>0.000000</td>\n",
       "      <td>0.000000</td>\n",
       "      <td>0.066667</td>\n",
       "      <td>0.000000</td>\n",
       "      <td>0.000000</td>\n",
       "      <td>0.000000</td>\n",
       "      <td>...</td>\n",
       "      <td>NaN</td>\n",
       "      <td>NaN</td>\n",
       "      <td>NaN</td>\n",
       "      <td>NaN</td>\n",
       "      <td>NaN</td>\n",
       "      <td>NaN</td>\n",
       "      <td>NaN</td>\n",
       "      <td>NaN</td>\n",
       "      <td>NaN</td>\n",
       "      <td>NaN</td>\n",
       "    </tr>\n",
       "    <tr>\n",
       "      <th>25%</th>\n",
       "      <td>4773.500000</td>\n",
       "      <td>NaN</td>\n",
       "      <td>0.134615</td>\n",
       "      <td>0.428571</td>\n",
       "      <td>0.031974</td>\n",
       "      <td>0.011905</td>\n",
       "      <td>0.200000</td>\n",
       "      <td>0.342105</td>\n",
       "      <td>0.000000</td>\n",
       "      <td>0.000000</td>\n",
       "      <td>...</td>\n",
       "      <td>NaN</td>\n",
       "      <td>NaN</td>\n",
       "      <td>NaN</td>\n",
       "      <td>NaN</td>\n",
       "      <td>NaN</td>\n",
       "      <td>NaN</td>\n",
       "      <td>NaN</td>\n",
       "      <td>NaN</td>\n",
       "      <td>NaN</td>\n",
       "      <td>NaN</td>\n",
       "    </tr>\n",
       "    <tr>\n",
       "      <th>50%</th>\n",
       "      <td>9221.500000</td>\n",
       "      <td>NaN</td>\n",
       "      <td>0.307692</td>\n",
       "      <td>0.702381</td>\n",
       "      <td>0.041369</td>\n",
       "      <td>0.047619</td>\n",
       "      <td>0.283333</td>\n",
       "      <td>0.394737</td>\n",
       "      <td>0.200000</td>\n",
       "      <td>0.000000</td>\n",
       "      <td>...</td>\n",
       "      <td>NaN</td>\n",
       "      <td>NaN</td>\n",
       "      <td>NaN</td>\n",
       "      <td>NaN</td>\n",
       "      <td>NaN</td>\n",
       "      <td>NaN</td>\n",
       "      <td>NaN</td>\n",
       "      <td>NaN</td>\n",
       "      <td>NaN</td>\n",
       "      <td>NaN</td>\n",
       "    </tr>\n",
       "    <tr>\n",
       "      <th>75%</th>\n",
       "      <td>13702.750000</td>\n",
       "      <td>NaN</td>\n",
       "      <td>0.403846</td>\n",
       "      <td>0.857143</td>\n",
       "      <td>0.048950</td>\n",
       "      <td>0.142857</td>\n",
       "      <td>0.525000</td>\n",
       "      <td>0.421053</td>\n",
       "      <td>0.400000</td>\n",
       "      <td>0.011905</td>\n",
       "      <td>...</td>\n",
       "      <td>NaN</td>\n",
       "      <td>NaN</td>\n",
       "      <td>NaN</td>\n",
       "      <td>NaN</td>\n",
       "      <td>NaN</td>\n",
       "      <td>NaN</td>\n",
       "      <td>NaN</td>\n",
       "      <td>NaN</td>\n",
       "      <td>NaN</td>\n",
       "      <td>NaN</td>\n",
       "    </tr>\n",
       "    <tr>\n",
       "      <th>max</th>\n",
       "      <td>18302.000000</td>\n",
       "      <td>NaN</td>\n",
       "      <td>0.846154</td>\n",
       "      <td>1.000000</td>\n",
       "      <td>1.000000</td>\n",
       "      <td>1.000000</td>\n",
       "      <td>0.833333</td>\n",
       "      <td>1.000000</td>\n",
       "      <td>1.000000</td>\n",
       "      <td>1.000000</td>\n",
       "      <td>...</td>\n",
       "      <td>NaN</td>\n",
       "      <td>NaN</td>\n",
       "      <td>NaN</td>\n",
       "      <td>NaN</td>\n",
       "      <td>NaN</td>\n",
       "      <td>NaN</td>\n",
       "      <td>NaN</td>\n",
       "      <td>NaN</td>\n",
       "      <td>NaN</td>\n",
       "      <td>NaN</td>\n",
       "    </tr>\n",
       "  </tbody>\n",
       "</table>\n",
       "<p>11 rows × 1379 columns</p>\n",
       "</div>"
      ],
      "text/plain": [
       "                  id release     n_0000      n_0001       n_0002      n_0003  \\\n",
       "count    8000.000000    8000  12.000000  388.000000  7662.000000  112.000000   \n",
       "unique           NaN       3        NaN         NaN          NaN         NaN   \n",
       "top              NaN       a        NaN         NaN          NaN         NaN   \n",
       "freq             NaN    3838        NaN         NaN          NaN         NaN   \n",
       "mean     9220.303375     NaN   0.307692    0.655744     0.040935    0.102749   \n",
       "std      5236.897900     NaN   0.245454    0.216399     0.024599    0.153007   \n",
       "min         0.000000     NaN   0.000000    0.000000     0.000000    0.000000   \n",
       "25%      4773.500000     NaN   0.134615    0.428571     0.031974    0.011905   \n",
       "50%      9221.500000     NaN   0.307692    0.702381     0.041369    0.047619   \n",
       "75%     13702.750000     NaN   0.403846    0.857143     0.048950    0.142857   \n",
       "max     18302.000000     NaN   0.846154    1.000000     1.000000    1.000000   \n",
       "\n",
       "           n_0004       n_0005       n_0006      n_0007  ...  c_1368  c_1369  \\\n",
       "count   58.000000  7658.000000  1348.000000  995.000000  ...       3      48   \n",
       "unique        NaN          NaN          NaN         NaN  ...       3      11   \n",
       "top           NaN          NaN          NaN         NaN  ...       d       m   \n",
       "freq          NaN          NaN          NaN         NaN  ...       1      22   \n",
       "mean     0.352874     0.395981     0.193175    0.012012  ...     NaN     NaN   \n",
       "std      0.209337     0.085000     0.236683    0.041382  ...     NaN     NaN   \n",
       "min      0.066667     0.000000     0.000000    0.000000  ...     NaN     NaN   \n",
       "25%      0.200000     0.342105     0.000000    0.000000  ...     NaN     NaN   \n",
       "50%      0.283333     0.394737     0.200000    0.000000  ...     NaN     NaN   \n",
       "75%      0.525000     0.421053     0.400000    0.011905  ...     NaN     NaN   \n",
       "max      0.833333     1.000000     1.000000    1.000000  ...     NaN     NaN   \n",
       "\n",
       "        c_1370  c_1371  c_1372  c_1373  c_1374  c_1375  c_1376  c_1377  \n",
       "count      377       2    7998     440    3155     563       7    1908  \n",
       "unique       3       2       2       5      24      19       2       2  \n",
       "top          b       c       a       c       b       j       b       b  \n",
       "freq       312       1    7460     167    1559     232       4    1441  \n",
       "mean       NaN     NaN     NaN     NaN     NaN     NaN     NaN     NaN  \n",
       "std        NaN     NaN     NaN     NaN     NaN     NaN     NaN     NaN  \n",
       "min        NaN     NaN     NaN     NaN     NaN     NaN     NaN     NaN  \n",
       "25%        NaN     NaN     NaN     NaN     NaN     NaN     NaN     NaN  \n",
       "50%        NaN     NaN     NaN     NaN     NaN     NaN     NaN     NaN  \n",
       "75%        NaN     NaN     NaN     NaN     NaN     NaN     NaN     NaN  \n",
       "max        NaN     NaN     NaN     NaN     NaN     NaN     NaN     NaN  \n",
       "\n",
       "[11 rows x 1379 columns]"
      ]
     },
     "execution_count": 6,
     "metadata": {},
     "output_type": "execute_result"
    }
   ],
   "source": [
    "desc = train_df.describe(include=\"all\")\n",
    "desc"
   ]
  },
  {
   "cell_type": "markdown",
   "metadata": {},
   "source": [
    "#### Удостоверимся, что id не повторяется"
   ]
  },
  {
   "cell_type": "code",
   "execution_count": 7,
   "metadata": {},
   "outputs": [
    {
     "data": {
      "text/plain": [
       "False"
      ]
     },
     "execution_count": 7,
     "metadata": {},
     "output_type": "execute_result"
    }
   ],
   "source": [
    "train_df.id.duplicated().any()"
   ]
  },
  {
   "cell_type": "markdown",
   "metadata": {},
   "source": [
    "#### Как определены фичи"
   ]
  },
  {
   "cell_type": "code",
   "execution_count": 8,
   "metadata": {},
   "outputs": [
    {
     "data": {
      "application/vnd.plotly.v1+json": {
       "config": {
        "plotlyServerURL": "https://plot.ly"
       },
       "data": [
        {
         "alignmentgroup": "True",
         "bingroup": "x",
         "hovertemplate": "variable=count<br>value=%{x}<br>count=%{y}<extra></extra>",
         "legendgroup": "count",
         "marker": {
          "color": "#636efa",
          "pattern": {
           "shape": ""
          }
         },
         "name": "count",
         "offsetgroup": "count",
         "orientation": "v",
         "showlegend": true,
         "type": "histogram",
         "x": [
          8000,
          8000,
          12,
          388,
          7662,
          112,
          58,
          7658,
          1348,
          995,
          5,
          34,
          26,
          2,
          5536,
          149,
          278,
          1057,
          286,
          594,
          3,
          7538,
          411,
          17,
          333,
          25,
          62,
          559,
          171,
          418,
          1631,
          596,
          392,
          58,
          38,
          14,
          4124,
          249,
          55,
          1346,
          7286,
          2284,
          95,
          875,
          28,
          88,
          76,
          43,
          329,
          8000,
          1997,
          113,
          8000,
          1622,
          8000,
          10,
          334,
          5,
          62,
          1058,
          115,
          1683,
          1685,
          8000,
          2,
          30,
          4661,
          1,
          1593,
          8000,
          420,
          343,
          171,
          2301,
          41,
          656,
          2302,
          8000,
          115,
          765,
          8000,
          651,
          1081,
          4,
          19,
          7992,
          883,
          28,
          5595,
          1056,
          1477,
          143,
          1052,
          8000,
          14,
          92,
          612,
          1684,
          1544,
          222,
          185,
          4133,
          4082,
          0,
          5478,
          9,
          139,
          232,
          54,
          70,
          8000,
          8000,
          6972,
          5,
          28,
          1039,
          442,
          82,
          181,
          1,
          31,
          48,
          7974,
          1,
          7,
          290,
          18,
          4061,
          6,
          336,
          126,
          1615,
          38,
          13,
          2647,
          47,
          8,
          257,
          4,
          367,
          96,
          1453,
          1534,
          5237,
          748,
          39,
          7974,
          322,
          32,
          2861,
          109,
          1,
          20,
          4,
          1694,
          6682,
          1694,
          21,
          19,
          1695,
          495,
          246,
          39,
          4,
          5,
          145,
          1,
          1452,
          1,
          375,
          3922,
          3,
          857,
          1,
          4,
          176,
          9,
          4628,
          8000,
          938,
          12,
          1892,
          4,
          1071,
          2,
          64,
          1,
          1,
          6,
          376,
          97,
          763,
          61,
          1,
          4,
          26,
          272,
          49,
          499,
          210,
          115,
          1436,
          4,
          7867,
          2597,
          6,
          131,
          49,
          710,
          32,
          1597,
          40,
          357,
          1,
          233,
          1,
          20,
          689,
          424,
          4082,
          6,
          781,
          1,
          2256,
          146,
          4100,
          0,
          4,
          1,
          996,
          428,
          848,
          7931,
          1702,
          916,
          1,
          45,
          452,
          1383,
          1,
          43,
          4,
          50,
          4102,
          1,
          64,
          31,
          288,
          1,
          775,
          1693,
          188,
          2,
          1513,
          376,
          65,
          36,
          29,
          1551,
          0,
          36,
          52,
          1326,
          96,
          6,
          1,
          8000,
          3619,
          126,
          43,
          3828,
          470,
          4136,
          107,
          34,
          1,
          2608,
          64,
          1778,
          164,
          1504,
          4643,
          406,
          778,
          363,
          765,
          93,
          2074,
          2677,
          19,
          20,
          1,
          1,
          1,
          712,
          400,
          8,
          102,
          1448,
          1,
          63,
          1,
          1,
          4961,
          2,
          20,
          689,
          1050,
          1,
          9,
          0,
          1,
          9,
          1,
          270,
          76,
          1695,
          4001,
          397,
          1,
          1,
          671,
          1,
          2,
          182,
          1694,
          550,
          12,
          743,
          22,
          512,
          5,
          157,
          6,
          1690,
          482,
          26,
          821,
          30,
          5482,
          88,
          1691,
          182,
          571,
          4,
          29,
          45,
          88,
          9,
          517,
          4828,
          1541,
          623,
          4882,
          45,
          48,
          4,
          19,
          27,
          2452,
          174,
          5,
          16,
          3711,
          13,
          919,
          5499,
          51,
          145,
          1392,
          7991,
          3749,
          7,
          763,
          1489,
          480,
          520,
          2,
          1585,
          2811,
          4,
          1143,
          262,
          2,
          405,
          34,
          4137,
          36,
          1009,
          81,
          12,
          5005,
          46,
          3959,
          102,
          453,
          122,
          526,
          151,
          44,
          83,
          784,
          530,
          7884,
          1410,
          1911,
          1,
          4808,
          51,
          1,
          1362,
          2581,
          203,
          1,
          1993,
          187,
          13,
          472,
          51,
          6,
          586,
          1698,
          919,
          544,
          1676,
          1690,
          1692,
          599,
          7507,
          536,
          1691,
          2,
          1601,
          1,
          3690,
          178,
          5163,
          3,
          49,
          4946,
          3516,
          50,
          3,
          3712,
          770,
          2972,
          7944,
          208,
          2,
          2,
          32,
          4136,
          249,
          1,
          197,
          5485,
          5501,
          1,
          7901,
          1498,
          801,
          411,
          82,
          7988,
          6,
          2259,
          78,
          183,
          8000,
          154,
          5501,
          919,
          1018,
          1,
          243,
          1689,
          154,
          4567,
          6,
          1,
          55,
          3,
          80,
          4,
          524,
          5,
          1,
          218,
          525,
          14,
          397,
          1698,
          1,
          0,
          2642,
          48,
          3,
          12,
          49,
          15,
          49,
          451,
          8000,
          13,
          3705,
          182,
          337,
          1,
          31,
          69,
          10,
          2,
          523,
          501,
          15,
          32,
          90,
          2,
          3487,
          6,
          48,
          1,
          6,
          7,
          58,
          5118,
          1,
          12,
          1698,
          5480,
          2,
          0,
          522,
          523,
          7,
          62,
          723,
          47,
          1,
          15,
          684,
          6,
          66,
          0,
          7,
          7613,
          7978,
          2,
          3,
          5,
          43,
          18,
          6491,
          352,
          853,
          238,
          7653,
          1,
          3,
          141,
          6,
          473,
          2897,
          528,
          1,
          1427,
          6065,
          512,
          87,
          41,
          497,
          574,
          28,
          1,
          1910,
          4015,
          24,
          83,
          2880,
          16,
          1692,
          560,
          2947,
          1,
          7995,
          125,
          480,
          5483,
          74,
          4989,
          506,
          994,
          7911,
          5536,
          490,
          5528,
          1,
          5,
          0,
          503,
          3,
          26,
          19,
          7838,
          1,
          1,
          48,
          610,
          48,
          4,
          5497,
          1085,
          268,
          1,
          286,
          76,
          377,
          252,
          282,
          3,
          3,
          235,
          6162,
          3539,
          7834,
          5,
          230,
          2,
          2,
          1,
          1695,
          1,
          1,
          0,
          570,
          1431,
          5,
          5499,
          458,
          8000,
          2297,
          3,
          2,
          53,
          42,
          0,
          5,
          83,
          2,
          72,
          919,
          57,
          150,
          503,
          7992,
          25,
          5498,
          660,
          7993,
          1671,
          5480,
          7,
          4,
          7903,
          591,
          5,
          7622,
          50,
          48,
          544,
          151,
          162,
          4048,
          540,
          167,
          18,
          6,
          515,
          910,
          53,
          542,
          50,
          3,
          412,
          100,
          3,
          2291,
          1,
          78,
          1,
          5,
          14,
          78,
          149,
          0,
          78,
          419,
          4866,
          2,
          485,
          8000,
          5,
          1,
          4,
          1282,
          7835,
          1,
          113,
          7807,
          0,
          7995,
          0,
          51,
          5,
          1056,
          249,
          166,
          188,
          4133,
          6,
          1,
          4,
          1514,
          5480,
          709,
          1631,
          864,
          370,
          4761,
          5017,
          140,
          602,
          539,
          23,
          1165,
          44,
          52,
          1,
          44,
          8000,
          78,
          75,
          3,
          249,
          331,
          155,
          4,
          36,
          21,
          12,
          5503,
          73,
          20,
          2651,
          1,
          3,
          7813,
          1249,
          5484,
          1698,
          25,
          176,
          8000,
          7658,
          0,
          7538,
          1672,
          235,
          3,
          5481,
          5,
          8000,
          512,
          1600,
          549,
          1198,
          6586,
          584,
          109,
          314,
          534,
          13,
          12,
          184,
          608,
          0,
          6551,
          817,
          2351,
          1,
          512,
          249,
          1358,
          78,
          456,
          6250,
          646,
          6,
          1682,
          5536,
          3221,
          214,
          90,
          136,
          0,
          577,
          90,
          3,
          196,
          139,
          7624,
          1911,
          1,
          682,
          29,
          4781,
          766,
          28,
          1,
          431,
          5480,
          181,
          2,
          2,
          47,
          8,
          216,
          5485,
          57,
          386,
          1590,
          2127,
          7,
          344,
          4850,
          5365,
          5329,
          5506,
          312,
          8000,
          6,
          1091,
          412,
          49,
          15,
          46,
          7993,
          125,
          5481,
          0,
          13,
          44,
          1688,
          27,
          179,
          474,
          428,
          1,
          1,
          7851,
          488,
          41,
          127,
          1685,
          1013,
          523,
          615,
          27,
          11,
          1676,
          918,
          8000,
          528,
          19,
          7,
          296,
          5,
          1,
          2301,
          3,
          4,
          43,
          767,
          1,
          224,
          275,
          7,
          595,
          7619,
          369,
          44,
          4683,
          7992,
          27,
          122,
          919,
          144,
          44,
          4199,
          10,
          24,
          6,
          2,
          0,
          35,
          25,
          5486,
          817,
          2,
          33,
          12,
          5533,
          1,
          5,
          1,
          52,
          48,
          79,
          7634,
          442,
          1482,
          5132,
          19,
          22,
          4003,
          389,
          87,
          1672,
          90,
          479,
          528,
          2,
          236,
          41,
          493,
          1,
          3454,
          2,
          1481,
          5,
          7892,
          522,
          50,
          17,
          568,
          5277,
          26,
          4736,
          5501,
          269,
          1617,
          1,
          4480,
          6800,
          1673,
          19,
          1055,
          7650,
          5536,
          339,
          0,
          172,
          667,
          429,
          51,
          53,
          5149,
          118,
          1,
          3,
          3,
          760,
          593,
          4,
          1,
          464,
          7996,
          13,
          1928,
          3040,
          1,
          8000,
          123,
          1685,
          7653,
          1688,
          78,
          4,
          512,
          346,
          2218,
          561,
          5480,
          590,
          27,
          83,
          30,
          7997,
          2845,
          42,
          1,
          668,
          535,
          668,
          5255,
          7992,
          1013,
          96,
          3,
          187,
          0,
          180,
          5480,
          5484,
          3,
          38,
          30,
          5,
          1489,
          146,
          57,
          44,
          4931,
          44,
          1054,
          389,
          784,
          154,
          3,
          144,
          5341,
          1,
          1032,
          78,
          4857,
          2,
          7,
          5,
          65,
          54,
          27,
          512,
          2081,
          83,
          5059,
          1698,
          5208,
          509,
          43,
          536,
          5969,
          54,
          919,
          7783,
          1672,
          48,
          7900,
          435,
          48,
          5,
          588,
          378,
          1583,
          5192,
          787,
          1698,
          6453,
          883,
          265,
          533,
          7857,
          514,
          8,
          0,
          47,
          1433,
          7878,
          308,
          49,
          1489,
          50,
          8,
          883,
          166,
          495,
          69,
          590,
          1226,
          79,
          555,
          28,
          1692,
          480,
          3486,
          123,
          4712,
          3434,
          38,
          61,
          425,
          5077,
          888,
          7982,
          5,
          5,
          5097,
          138,
          1442,
          678,
          5,
          5240,
          596,
          6,
          11,
          57,
          1698,
          228,
          1699,
          6,
          216,
          48,
          5481,
          5487,
          7652,
          502,
          183,
          550,
          537,
          472,
          476,
          0,
          7994,
          7898,
          602,
          46,
          33,
          229,
          78,
          2778,
          6,
          39,
          90,
          182,
          2452,
          601,
          5536,
          8000,
          6,
          3,
          0,
          5043,
          71,
          5,
          40,
          3,
          122,
          407,
          1,
          2,
          8000,
          377,
          488,
          3,
          2,
          14,
          5520,
          4,
          1310,
          192,
          0,
          4915,
          575,
          4701,
          4348,
          4,
          400,
          5505,
          39,
          415,
          539,
          1,
          2,
          63,
          15,
          1697,
          1,
          518,
          7882,
          41,
          33,
          8000,
          5299,
          499,
          5489,
          60,
          1,
          66,
          7,
          7,
          5483,
          1,
          760,
          5502,
          14,
          1479,
          154,
          1007,
          1698,
          1,
          166,
          15,
          7115,
          3,
          5480,
          3287,
          38,
          452,
          45,
          5499,
          1693,
          45,
          178,
          30,
          224,
          8000,
          2,
          5313,
          564,
          8000,
          2,
          47,
          0,
          1621,
          14,
          2,
          5483,
          2387,
          7988,
          4072,
          5949,
          5178,
          3,
          575,
          1,
          1666,
          8000,
          15,
          530,
          5269,
          1697,
          107,
          1,
          7,
          7864,
          2,
          321,
          87,
          300,
          0,
          5,
          8000,
          522,
          1,
          1,
          487,
          4,
          8,
          68,
          5496,
          21,
          4,
          5502,
          414,
          15,
          18,
          858,
          4,
          7,
          0,
          8,
          1,
          1546,
          0,
          4961,
          44,
          11,
          12,
          7995,
          545,
          4,
          528,
          24,
          51,
          5,
          20,
          5,
          189,
          487,
          1698,
          84,
          183,
          4,
          3,
          1687,
          1,
          12,
          4,
          883,
          45,
          0,
          2197,
          50,
          461,
          1,
          1211,
          544,
          5,
          7911,
          4,
          173,
          51,
          2793,
          4,
          10,
          1488,
          7,
          697,
          4966,
          1263,
          5478,
          4,
          5483,
          60,
          0,
          4116,
          2,
          4896,
          3,
          276,
          469,
          5,
          31,
          1218,
          15,
          5501,
          6,
          512,
          129,
          3711,
          8000,
          1,
          15,
          24,
          513,
          41,
          802,
          473,
          6,
          75,
          2,
          27,
          1,
          5607,
          113,
          5485,
          695,
          1076,
          1050,
          1,
          3,
          48,
          377,
          2,
          7998,
          440,
          3155,
          563,
          7,
          1908
         ],
         "xaxis": "x",
         "yaxis": "y"
        }
       ],
       "layout": {
        "barmode": "relative",
        "legend": {
         "title": {
          "text": "variable"
         },
         "tracegroupgap": 0
        },
        "margin": {
         "t": 60
        },
        "template": {
         "data": {
          "bar": [
           {
            "error_x": {
             "color": "#f2f5fa"
            },
            "error_y": {
             "color": "#f2f5fa"
            },
            "marker": {
             "line": {
              "color": "rgb(17,17,17)",
              "width": 0.5
             },
             "pattern": {
              "fillmode": "overlay",
              "size": 10,
              "solidity": 0.2
             }
            },
            "type": "bar"
           }
          ],
          "barpolar": [
           {
            "marker": {
             "line": {
              "color": "rgb(17,17,17)",
              "width": 0.5
             },
             "pattern": {
              "fillmode": "overlay",
              "size": 10,
              "solidity": 0.2
             }
            },
            "type": "barpolar"
           }
          ],
          "carpet": [
           {
            "aaxis": {
             "endlinecolor": "#A2B1C6",
             "gridcolor": "#506784",
             "linecolor": "#506784",
             "minorgridcolor": "#506784",
             "startlinecolor": "#A2B1C6"
            },
            "baxis": {
             "endlinecolor": "#A2B1C6",
             "gridcolor": "#506784",
             "linecolor": "#506784",
             "minorgridcolor": "#506784",
             "startlinecolor": "#A2B1C6"
            },
            "type": "carpet"
           }
          ],
          "choropleth": [
           {
            "colorbar": {
             "outlinewidth": 0,
             "ticks": ""
            },
            "type": "choropleth"
           }
          ],
          "contour": [
           {
            "colorbar": {
             "outlinewidth": 0,
             "ticks": ""
            },
            "colorscale": [
             [
              0,
              "#0d0887"
             ],
             [
              0.1111111111111111,
              "#46039f"
             ],
             [
              0.2222222222222222,
              "#7201a8"
             ],
             [
              0.3333333333333333,
              "#9c179e"
             ],
             [
              0.4444444444444444,
              "#bd3786"
             ],
             [
              0.5555555555555556,
              "#d8576b"
             ],
             [
              0.6666666666666666,
              "#ed7953"
             ],
             [
              0.7777777777777778,
              "#fb9f3a"
             ],
             [
              0.8888888888888888,
              "#fdca26"
             ],
             [
              1,
              "#f0f921"
             ]
            ],
            "type": "contour"
           }
          ],
          "contourcarpet": [
           {
            "colorbar": {
             "outlinewidth": 0,
             "ticks": ""
            },
            "type": "contourcarpet"
           }
          ],
          "heatmap": [
           {
            "colorbar": {
             "outlinewidth": 0,
             "ticks": ""
            },
            "colorscale": [
             [
              0,
              "#0d0887"
             ],
             [
              0.1111111111111111,
              "#46039f"
             ],
             [
              0.2222222222222222,
              "#7201a8"
             ],
             [
              0.3333333333333333,
              "#9c179e"
             ],
             [
              0.4444444444444444,
              "#bd3786"
             ],
             [
              0.5555555555555556,
              "#d8576b"
             ],
             [
              0.6666666666666666,
              "#ed7953"
             ],
             [
              0.7777777777777778,
              "#fb9f3a"
             ],
             [
              0.8888888888888888,
              "#fdca26"
             ],
             [
              1,
              "#f0f921"
             ]
            ],
            "type": "heatmap"
           }
          ],
          "heatmapgl": [
           {
            "colorbar": {
             "outlinewidth": 0,
             "ticks": ""
            },
            "colorscale": [
             [
              0,
              "#0d0887"
             ],
             [
              0.1111111111111111,
              "#46039f"
             ],
             [
              0.2222222222222222,
              "#7201a8"
             ],
             [
              0.3333333333333333,
              "#9c179e"
             ],
             [
              0.4444444444444444,
              "#bd3786"
             ],
             [
              0.5555555555555556,
              "#d8576b"
             ],
             [
              0.6666666666666666,
              "#ed7953"
             ],
             [
              0.7777777777777778,
              "#fb9f3a"
             ],
             [
              0.8888888888888888,
              "#fdca26"
             ],
             [
              1,
              "#f0f921"
             ]
            ],
            "type": "heatmapgl"
           }
          ],
          "histogram": [
           {
            "marker": {
             "pattern": {
              "fillmode": "overlay",
              "size": 10,
              "solidity": 0.2
             }
            },
            "type": "histogram"
           }
          ],
          "histogram2d": [
           {
            "colorbar": {
             "outlinewidth": 0,
             "ticks": ""
            },
            "colorscale": [
             [
              0,
              "#0d0887"
             ],
             [
              0.1111111111111111,
              "#46039f"
             ],
             [
              0.2222222222222222,
              "#7201a8"
             ],
             [
              0.3333333333333333,
              "#9c179e"
             ],
             [
              0.4444444444444444,
              "#bd3786"
             ],
             [
              0.5555555555555556,
              "#d8576b"
             ],
             [
              0.6666666666666666,
              "#ed7953"
             ],
             [
              0.7777777777777778,
              "#fb9f3a"
             ],
             [
              0.8888888888888888,
              "#fdca26"
             ],
             [
              1,
              "#f0f921"
             ]
            ],
            "type": "histogram2d"
           }
          ],
          "histogram2dcontour": [
           {
            "colorbar": {
             "outlinewidth": 0,
             "ticks": ""
            },
            "colorscale": [
             [
              0,
              "#0d0887"
             ],
             [
              0.1111111111111111,
              "#46039f"
             ],
             [
              0.2222222222222222,
              "#7201a8"
             ],
             [
              0.3333333333333333,
              "#9c179e"
             ],
             [
              0.4444444444444444,
              "#bd3786"
             ],
             [
              0.5555555555555556,
              "#d8576b"
             ],
             [
              0.6666666666666666,
              "#ed7953"
             ],
             [
              0.7777777777777778,
              "#fb9f3a"
             ],
             [
              0.8888888888888888,
              "#fdca26"
             ],
             [
              1,
              "#f0f921"
             ]
            ],
            "type": "histogram2dcontour"
           }
          ],
          "mesh3d": [
           {
            "colorbar": {
             "outlinewidth": 0,
             "ticks": ""
            },
            "type": "mesh3d"
           }
          ],
          "parcoords": [
           {
            "line": {
             "colorbar": {
              "outlinewidth": 0,
              "ticks": ""
             }
            },
            "type": "parcoords"
           }
          ],
          "pie": [
           {
            "automargin": true,
            "type": "pie"
           }
          ],
          "scatter": [
           {
            "marker": {
             "line": {
              "color": "#283442"
             }
            },
            "type": "scatter"
           }
          ],
          "scatter3d": [
           {
            "line": {
             "colorbar": {
              "outlinewidth": 0,
              "ticks": ""
             }
            },
            "marker": {
             "colorbar": {
              "outlinewidth": 0,
              "ticks": ""
             }
            },
            "type": "scatter3d"
           }
          ],
          "scattercarpet": [
           {
            "marker": {
             "colorbar": {
              "outlinewidth": 0,
              "ticks": ""
             }
            },
            "type": "scattercarpet"
           }
          ],
          "scattergeo": [
           {
            "marker": {
             "colorbar": {
              "outlinewidth": 0,
              "ticks": ""
             }
            },
            "type": "scattergeo"
           }
          ],
          "scattergl": [
           {
            "marker": {
             "line": {
              "color": "#283442"
             }
            },
            "type": "scattergl"
           }
          ],
          "scattermapbox": [
           {
            "marker": {
             "colorbar": {
              "outlinewidth": 0,
              "ticks": ""
             }
            },
            "type": "scattermapbox"
           }
          ],
          "scatterpolar": [
           {
            "marker": {
             "colorbar": {
              "outlinewidth": 0,
              "ticks": ""
             }
            },
            "type": "scatterpolar"
           }
          ],
          "scatterpolargl": [
           {
            "marker": {
             "colorbar": {
              "outlinewidth": 0,
              "ticks": ""
             }
            },
            "type": "scatterpolargl"
           }
          ],
          "scatterternary": [
           {
            "marker": {
             "colorbar": {
              "outlinewidth": 0,
              "ticks": ""
             }
            },
            "type": "scatterternary"
           }
          ],
          "surface": [
           {
            "colorbar": {
             "outlinewidth": 0,
             "ticks": ""
            },
            "colorscale": [
             [
              0,
              "#0d0887"
             ],
             [
              0.1111111111111111,
              "#46039f"
             ],
             [
              0.2222222222222222,
              "#7201a8"
             ],
             [
              0.3333333333333333,
              "#9c179e"
             ],
             [
              0.4444444444444444,
              "#bd3786"
             ],
             [
              0.5555555555555556,
              "#d8576b"
             ],
             [
              0.6666666666666666,
              "#ed7953"
             ],
             [
              0.7777777777777778,
              "#fb9f3a"
             ],
             [
              0.8888888888888888,
              "#fdca26"
             ],
             [
              1,
              "#f0f921"
             ]
            ],
            "type": "surface"
           }
          ],
          "table": [
           {
            "cells": {
             "fill": {
              "color": "#506784"
             },
             "line": {
              "color": "rgb(17,17,17)"
             }
            },
            "header": {
             "fill": {
              "color": "#2a3f5f"
             },
             "line": {
              "color": "rgb(17,17,17)"
             }
            },
            "type": "table"
           }
          ]
         },
         "layout": {
          "annotationdefaults": {
           "arrowcolor": "#f2f5fa",
           "arrowhead": 0,
           "arrowwidth": 1
          },
          "autotypenumbers": "strict",
          "coloraxis": {
           "colorbar": {
            "outlinewidth": 0,
            "ticks": ""
           }
          },
          "colorscale": {
           "diverging": [
            [
             0,
             "#8e0152"
            ],
            [
             0.1,
             "#c51b7d"
            ],
            [
             0.2,
             "#de77ae"
            ],
            [
             0.3,
             "#f1b6da"
            ],
            [
             0.4,
             "#fde0ef"
            ],
            [
             0.5,
             "#f7f7f7"
            ],
            [
             0.6,
             "#e6f5d0"
            ],
            [
             0.7,
             "#b8e186"
            ],
            [
             0.8,
             "#7fbc41"
            ],
            [
             0.9,
             "#4d9221"
            ],
            [
             1,
             "#276419"
            ]
           ],
           "sequential": [
            [
             0,
             "#0d0887"
            ],
            [
             0.1111111111111111,
             "#46039f"
            ],
            [
             0.2222222222222222,
             "#7201a8"
            ],
            [
             0.3333333333333333,
             "#9c179e"
            ],
            [
             0.4444444444444444,
             "#bd3786"
            ],
            [
             0.5555555555555556,
             "#d8576b"
            ],
            [
             0.6666666666666666,
             "#ed7953"
            ],
            [
             0.7777777777777778,
             "#fb9f3a"
            ],
            [
             0.8888888888888888,
             "#fdca26"
            ],
            [
             1,
             "#f0f921"
            ]
           ],
           "sequentialminus": [
            [
             0,
             "#0d0887"
            ],
            [
             0.1111111111111111,
             "#46039f"
            ],
            [
             0.2222222222222222,
             "#7201a8"
            ],
            [
             0.3333333333333333,
             "#9c179e"
            ],
            [
             0.4444444444444444,
             "#bd3786"
            ],
            [
             0.5555555555555556,
             "#d8576b"
            ],
            [
             0.6666666666666666,
             "#ed7953"
            ],
            [
             0.7777777777777778,
             "#fb9f3a"
            ],
            [
             0.8888888888888888,
             "#fdca26"
            ],
            [
             1,
             "#f0f921"
            ]
           ]
          },
          "colorway": [
           "#636efa",
           "#EF553B",
           "#00cc96",
           "#ab63fa",
           "#FFA15A",
           "#19d3f3",
           "#FF6692",
           "#B6E880",
           "#FF97FF",
           "#FECB52"
          ],
          "font": {
           "color": "#f2f5fa"
          },
          "geo": {
           "bgcolor": "rgb(17,17,17)",
           "lakecolor": "rgb(17,17,17)",
           "landcolor": "rgb(17,17,17)",
           "showlakes": true,
           "showland": true,
           "subunitcolor": "#506784"
          },
          "hoverlabel": {
           "align": "left"
          },
          "hovermode": "closest",
          "mapbox": {
           "style": "dark"
          },
          "paper_bgcolor": "rgb(17,17,17)",
          "plot_bgcolor": "rgb(17,17,17)",
          "polar": {
           "angularaxis": {
            "gridcolor": "#506784",
            "linecolor": "#506784",
            "ticks": ""
           },
           "bgcolor": "rgb(17,17,17)",
           "radialaxis": {
            "gridcolor": "#506784",
            "linecolor": "#506784",
            "ticks": ""
           }
          },
          "scene": {
           "xaxis": {
            "backgroundcolor": "rgb(17,17,17)",
            "gridcolor": "#506784",
            "gridwidth": 2,
            "linecolor": "#506784",
            "showbackground": true,
            "ticks": "",
            "zerolinecolor": "#C8D4E3"
           },
           "yaxis": {
            "backgroundcolor": "rgb(17,17,17)",
            "gridcolor": "#506784",
            "gridwidth": 2,
            "linecolor": "#506784",
            "showbackground": true,
            "ticks": "",
            "zerolinecolor": "#C8D4E3"
           },
           "zaxis": {
            "backgroundcolor": "rgb(17,17,17)",
            "gridcolor": "#506784",
            "gridwidth": 2,
            "linecolor": "#506784",
            "showbackground": true,
            "ticks": "",
            "zerolinecolor": "#C8D4E3"
           }
          },
          "shapedefaults": {
           "line": {
            "color": "#f2f5fa"
           }
          },
          "sliderdefaults": {
           "bgcolor": "#C8D4E3",
           "bordercolor": "rgb(17,17,17)",
           "borderwidth": 1,
           "tickwidth": 0
          },
          "ternary": {
           "aaxis": {
            "gridcolor": "#506784",
            "linecolor": "#506784",
            "ticks": ""
           },
           "baxis": {
            "gridcolor": "#506784",
            "linecolor": "#506784",
            "ticks": ""
           },
           "bgcolor": "rgb(17,17,17)",
           "caxis": {
            "gridcolor": "#506784",
            "linecolor": "#506784",
            "ticks": ""
           }
          },
          "title": {
           "x": 0.05
          },
          "updatemenudefaults": {
           "bgcolor": "#506784",
           "borderwidth": 0
          },
          "xaxis": {
           "automargin": true,
           "gridcolor": "#283442",
           "linecolor": "#506784",
           "ticks": "",
           "title": {
            "standoff": 15
           },
           "zerolinecolor": "#283442",
           "zerolinewidth": 2
          },
          "yaxis": {
           "automargin": true,
           "gridcolor": "#283442",
           "linecolor": "#506784",
           "ticks": "",
           "title": {
            "standoff": 15
           },
           "zerolinecolor": "#283442",
           "zerolinewidth": 2
          }
         }
        },
        "xaxis": {
         "anchor": "y",
         "domain": [
          0,
          1
         ],
         "title": {
          "text": "value"
         }
        },
        "yaxis": {
         "anchor": "x",
         "domain": [
          0,
          1
         ],
         "title": {
          "text": "count"
         }
        }
       }
      }
     },
     "metadata": {},
     "output_type": "display_data"
    }
   ],
   "source": [
    "px.histogram(desc.loc[\"count\"])"
   ]
  },
  {
   "cell_type": "code",
   "execution_count": 9,
   "metadata": {},
   "outputs": [
    {
     "data": {
      "text/plain": [
       "Index(['n_0101', 'o_0224', 'o_0257', 'o_0308', 'c_0491', 'c_0529', 'c_0541',\n",
       "       'c_0596', 'c_0632', 'c_0644', 'c_0693', 'c_0708', 'c_0710', 'c_0763',\n",
       "       'c_0784', 'c_0803', 'c_0848', 'c_0902', 'c_0959', 'c_1009', 'c_1072',\n",
       "       'c_1129', 'c_1148', 'c_1168', 'c_1230', 'c_1257', 'c_1277', 'c_1281',\n",
       "       'c_1308', 'c_1332'],\n",
       "      dtype='object')"
      ]
     },
     "execution_count": 9,
     "metadata": {},
     "output_type": "execute_result"
    }
   ],
   "source": [
    "na_cols = desc.loc[\"count\"][desc.loc[\"count\"] == 0].index\n",
    "na_cols"
   ]
  },
  {
   "cell_type": "code",
   "execution_count": 10,
   "metadata": {},
   "outputs": [
    {
     "data": {
      "text/html": [
       "<div>\n",
       "<style scoped>\n",
       "    .dataframe tbody tr th:only-of-type {\n",
       "        vertical-align: middle;\n",
       "    }\n",
       "\n",
       "    .dataframe tbody tr th {\n",
       "        vertical-align: top;\n",
       "    }\n",
       "\n",
       "    .dataframe thead th {\n",
       "        text-align: right;\n",
       "    }\n",
       "</style>\n",
       "<table border=\"1\" class=\"dataframe\">\n",
       "  <thead>\n",
       "    <tr style=\"text-align: right;\">\n",
       "      <th></th>\n",
       "      <th>id</th>\n",
       "      <th>release</th>\n",
       "      <th>n_0000</th>\n",
       "      <th>n_0001</th>\n",
       "      <th>n_0002</th>\n",
       "      <th>n_0003</th>\n",
       "      <th>n_0004</th>\n",
       "      <th>n_0005</th>\n",
       "      <th>n_0006</th>\n",
       "      <th>n_0007</th>\n",
       "      <th>...</th>\n",
       "      <th>c_1368</th>\n",
       "      <th>c_1369</th>\n",
       "      <th>c_1370</th>\n",
       "      <th>c_1371</th>\n",
       "      <th>c_1372</th>\n",
       "      <th>c_1373</th>\n",
       "      <th>c_1374</th>\n",
       "      <th>c_1375</th>\n",
       "      <th>c_1376</th>\n",
       "      <th>c_1377</th>\n",
       "    </tr>\n",
       "  </thead>\n",
       "  <tbody>\n",
       "    <tr>\n",
       "      <th>0</th>\n",
       "      <td>11193</td>\n",
       "      <td>a</td>\n",
       "      <td>NaN</td>\n",
       "      <td>NaN</td>\n",
       "      <td>0.025449</td>\n",
       "      <td>NaN</td>\n",
       "      <td>NaN</td>\n",
       "      <td>0.368421</td>\n",
       "      <td>NaN</td>\n",
       "      <td>NaN</td>\n",
       "      <td>...</td>\n",
       "      <td>NaN</td>\n",
       "      <td>NaN</td>\n",
       "      <td>NaN</td>\n",
       "      <td>NaN</td>\n",
       "      <td>a</td>\n",
       "      <td>NaN</td>\n",
       "      <td>q</td>\n",
       "      <td>NaN</td>\n",
       "      <td>NaN</td>\n",
       "      <td>NaN</td>\n",
       "    </tr>\n",
       "    <tr>\n",
       "      <th>1</th>\n",
       "      <td>11382</td>\n",
       "      <td>a</td>\n",
       "      <td>NaN</td>\n",
       "      <td>NaN</td>\n",
       "      <td>0.031297</td>\n",
       "      <td>NaN</td>\n",
       "      <td>NaN</td>\n",
       "      <td>0.315789</td>\n",
       "      <td>NaN</td>\n",
       "      <td>NaN</td>\n",
       "      <td>...</td>\n",
       "      <td>NaN</td>\n",
       "      <td>NaN</td>\n",
       "      <td>a</td>\n",
       "      <td>NaN</td>\n",
       "      <td>a</td>\n",
       "      <td>NaN</td>\n",
       "      <td>NaN</td>\n",
       "      <td>NaN</td>\n",
       "      <td>NaN</td>\n",
       "      <td>NaN</td>\n",
       "    </tr>\n",
       "    <tr>\n",
       "      <th>2</th>\n",
       "      <td>16531</td>\n",
       "      <td>a</td>\n",
       "      <td>NaN</td>\n",
       "      <td>NaN</td>\n",
       "      <td>0.024475</td>\n",
       "      <td>NaN</td>\n",
       "      <td>NaN</td>\n",
       "      <td>0.342105</td>\n",
       "      <td>NaN</td>\n",
       "      <td>NaN</td>\n",
       "      <td>...</td>\n",
       "      <td>NaN</td>\n",
       "      <td>NaN</td>\n",
       "      <td>a</td>\n",
       "      <td>NaN</td>\n",
       "      <td>a</td>\n",
       "      <td>NaN</td>\n",
       "      <td>b</td>\n",
       "      <td>NaN</td>\n",
       "      <td>NaN</td>\n",
       "      <td>NaN</td>\n",
       "    </tr>\n",
       "    <tr>\n",
       "      <th>3</th>\n",
       "      <td>1896</td>\n",
       "      <td>a</td>\n",
       "      <td>NaN</td>\n",
       "      <td>NaN</td>\n",
       "      <td>0.041694</td>\n",
       "      <td>NaN</td>\n",
       "      <td>NaN</td>\n",
       "      <td>0.447368</td>\n",
       "      <td>NaN</td>\n",
       "      <td>NaN</td>\n",
       "      <td>...</td>\n",
       "      <td>NaN</td>\n",
       "      <td>NaN</td>\n",
       "      <td>NaN</td>\n",
       "      <td>NaN</td>\n",
       "      <td>a</td>\n",
       "      <td>NaN</td>\n",
       "      <td>NaN</td>\n",
       "      <td>NaN</td>\n",
       "      <td>NaN</td>\n",
       "      <td>NaN</td>\n",
       "    </tr>\n",
       "    <tr>\n",
       "      <th>4</th>\n",
       "      <td>18262</td>\n",
       "      <td>c</td>\n",
       "      <td>NaN</td>\n",
       "      <td>NaN</td>\n",
       "      <td>0.038120</td>\n",
       "      <td>NaN</td>\n",
       "      <td>NaN</td>\n",
       "      <td>0.315789</td>\n",
       "      <td>NaN</td>\n",
       "      <td>NaN</td>\n",
       "      <td>...</td>\n",
       "      <td>NaN</td>\n",
       "      <td>NaN</td>\n",
       "      <td>b</td>\n",
       "      <td>NaN</td>\n",
       "      <td>a</td>\n",
       "      <td>NaN</td>\n",
       "      <td>a</td>\n",
       "      <td>NaN</td>\n",
       "      <td>NaN</td>\n",
       "      <td>NaN</td>\n",
       "    </tr>\n",
       "    <tr>\n",
       "      <th>...</th>\n",
       "      <td>...</td>\n",
       "      <td>...</td>\n",
       "      <td>...</td>\n",
       "      <td>...</td>\n",
       "      <td>...</td>\n",
       "      <td>...</td>\n",
       "      <td>...</td>\n",
       "      <td>...</td>\n",
       "      <td>...</td>\n",
       "      <td>...</td>\n",
       "      <td>...</td>\n",
       "      <td>...</td>\n",
       "      <td>...</td>\n",
       "      <td>...</td>\n",
       "      <td>...</td>\n",
       "      <td>...</td>\n",
       "      <td>...</td>\n",
       "      <td>...</td>\n",
       "      <td>...</td>\n",
       "      <td>...</td>\n",
       "      <td>...</td>\n",
       "    </tr>\n",
       "    <tr>\n",
       "      <th>7995</th>\n",
       "      <td>10898</td>\n",
       "      <td>a</td>\n",
       "      <td>NaN</td>\n",
       "      <td>NaN</td>\n",
       "      <td>0.053931</td>\n",
       "      <td>NaN</td>\n",
       "      <td>NaN</td>\n",
       "      <td>0.394737</td>\n",
       "      <td>NaN</td>\n",
       "      <td>NaN</td>\n",
       "      <td>...</td>\n",
       "      <td>NaN</td>\n",
       "      <td>NaN</td>\n",
       "      <td>NaN</td>\n",
       "      <td>NaN</td>\n",
       "      <td>a</td>\n",
       "      <td>NaN</td>\n",
       "      <td>NaN</td>\n",
       "      <td>NaN</td>\n",
       "      <td>NaN</td>\n",
       "      <td>b</td>\n",
       "    </tr>\n",
       "    <tr>\n",
       "      <th>7996</th>\n",
       "      <td>16664</td>\n",
       "      <td>a</td>\n",
       "      <td>NaN</td>\n",
       "      <td>NaN</td>\n",
       "      <td>0.031731</td>\n",
       "      <td>NaN</td>\n",
       "      <td>NaN</td>\n",
       "      <td>0.394737</td>\n",
       "      <td>NaN</td>\n",
       "      <td>NaN</td>\n",
       "      <td>...</td>\n",
       "      <td>NaN</td>\n",
       "      <td>NaN</td>\n",
       "      <td>NaN</td>\n",
       "      <td>NaN</td>\n",
       "      <td>a</td>\n",
       "      <td>NaN</td>\n",
       "      <td>a</td>\n",
       "      <td>NaN</td>\n",
       "      <td>NaN</td>\n",
       "      <td>NaN</td>\n",
       "    </tr>\n",
       "    <tr>\n",
       "      <th>7997</th>\n",
       "      <td>5334</td>\n",
       "      <td>c</td>\n",
       "      <td>NaN</td>\n",
       "      <td>0.904762</td>\n",
       "      <td>0.033463</td>\n",
       "      <td>NaN</td>\n",
       "      <td>NaN</td>\n",
       "      <td>0.394737</td>\n",
       "      <td>NaN</td>\n",
       "      <td>NaN</td>\n",
       "      <td>...</td>\n",
       "      <td>NaN</td>\n",
       "      <td>NaN</td>\n",
       "      <td>NaN</td>\n",
       "      <td>NaN</td>\n",
       "      <td>a</td>\n",
       "      <td>NaN</td>\n",
       "      <td>NaN</td>\n",
       "      <td>NaN</td>\n",
       "      <td>NaN</td>\n",
       "      <td>NaN</td>\n",
       "    </tr>\n",
       "    <tr>\n",
       "      <th>7998</th>\n",
       "      <td>7905</td>\n",
       "      <td>c</td>\n",
       "      <td>NaN</td>\n",
       "      <td>NaN</td>\n",
       "      <td>0.047109</td>\n",
       "      <td>NaN</td>\n",
       "      <td>NaN</td>\n",
       "      <td>0.289474</td>\n",
       "      <td>NaN</td>\n",
       "      <td>NaN</td>\n",
       "      <td>...</td>\n",
       "      <td>NaN</td>\n",
       "      <td>NaN</td>\n",
       "      <td>NaN</td>\n",
       "      <td>NaN</td>\n",
       "      <td>a</td>\n",
       "      <td>NaN</td>\n",
       "      <td>q</td>\n",
       "      <td>NaN</td>\n",
       "      <td>NaN</td>\n",
       "      <td>NaN</td>\n",
       "    </tr>\n",
       "    <tr>\n",
       "      <th>7999</th>\n",
       "      <td>3997</td>\n",
       "      <td>c</td>\n",
       "      <td>NaN</td>\n",
       "      <td>0.761905</td>\n",
       "      <td>0.049491</td>\n",
       "      <td>NaN</td>\n",
       "      <td>NaN</td>\n",
       "      <td>0.631579</td>\n",
       "      <td>0.0</td>\n",
       "      <td>0.0</td>\n",
       "      <td>...</td>\n",
       "      <td>NaN</td>\n",
       "      <td>NaN</td>\n",
       "      <td>NaN</td>\n",
       "      <td>NaN</td>\n",
       "      <td>b</td>\n",
       "      <td>NaN</td>\n",
       "      <td>NaN</td>\n",
       "      <td>NaN</td>\n",
       "      <td>NaN</td>\n",
       "      <td>NaN</td>\n",
       "    </tr>\n",
       "  </tbody>\n",
       "</table>\n",
       "<p>8000 rows × 1379 columns</p>\n",
       "</div>"
      ],
      "text/plain": [
       "         id release  n_0000    n_0001    n_0002  n_0003  n_0004    n_0005  \\\n",
       "0     11193       a     NaN       NaN  0.025449     NaN     NaN  0.368421   \n",
       "1     11382       a     NaN       NaN  0.031297     NaN     NaN  0.315789   \n",
       "2     16531       a     NaN       NaN  0.024475     NaN     NaN  0.342105   \n",
       "3      1896       a     NaN       NaN  0.041694     NaN     NaN  0.447368   \n",
       "4     18262       c     NaN       NaN  0.038120     NaN     NaN  0.315789   \n",
       "...     ...     ...     ...       ...       ...     ...     ...       ...   \n",
       "7995  10898       a     NaN       NaN  0.053931     NaN     NaN  0.394737   \n",
       "7996  16664       a     NaN       NaN  0.031731     NaN     NaN  0.394737   \n",
       "7997   5334       c     NaN  0.904762  0.033463     NaN     NaN  0.394737   \n",
       "7998   7905       c     NaN       NaN  0.047109     NaN     NaN  0.289474   \n",
       "7999   3997       c     NaN  0.761905  0.049491     NaN     NaN  0.631579   \n",
       "\n",
       "      n_0006  n_0007  ...  c_1368  c_1369  c_1370  c_1371  c_1372  c_1373  \\\n",
       "0        NaN     NaN  ...     NaN     NaN     NaN     NaN       a     NaN   \n",
       "1        NaN     NaN  ...     NaN     NaN       a     NaN       a     NaN   \n",
       "2        NaN     NaN  ...     NaN     NaN       a     NaN       a     NaN   \n",
       "3        NaN     NaN  ...     NaN     NaN     NaN     NaN       a     NaN   \n",
       "4        NaN     NaN  ...     NaN     NaN       b     NaN       a     NaN   \n",
       "...      ...     ...  ...     ...     ...     ...     ...     ...     ...   \n",
       "7995     NaN     NaN  ...     NaN     NaN     NaN     NaN       a     NaN   \n",
       "7996     NaN     NaN  ...     NaN     NaN     NaN     NaN       a     NaN   \n",
       "7997     NaN     NaN  ...     NaN     NaN     NaN     NaN       a     NaN   \n",
       "7998     NaN     NaN  ...     NaN     NaN     NaN     NaN       a     NaN   \n",
       "7999     0.0     0.0  ...     NaN     NaN     NaN     NaN       b     NaN   \n",
       "\n",
       "      c_1374  c_1375  c_1376  c_1377  \n",
       "0          q     NaN     NaN     NaN  \n",
       "1        NaN     NaN     NaN     NaN  \n",
       "2          b     NaN     NaN     NaN  \n",
       "3        NaN     NaN     NaN     NaN  \n",
       "4          a     NaN     NaN     NaN  \n",
       "...      ...     ...     ...     ...  \n",
       "7995     NaN     NaN     NaN       b  \n",
       "7996       a     NaN     NaN     NaN  \n",
       "7997     NaN     NaN     NaN     NaN  \n",
       "7998       q     NaN     NaN     NaN  \n",
       "7999     NaN     NaN     NaN     NaN  \n",
       "\n",
       "[8000 rows x 1379 columns]"
      ]
     },
     "execution_count": 10,
     "metadata": {},
     "output_type": "execute_result"
    }
   ],
   "source": [
    "train_df"
   ]
  },
  {
   "cell_type": "markdown",
   "metadata": {},
   "source": [
    "### Посмотрим, какие размерности у категориальных фичей"
   ]
  },
  {
   "cell_type": "code",
   "execution_count": 11,
   "metadata": {},
   "outputs": [
    {
     "data": {
      "application/vnd.plotly.v1+json": {
       "config": {
        "plotlyServerURL": "https://plot.ly"
       },
       "data": [
        {
         "alignmentgroup": "True",
         "bingroup": "x",
         "hovertemplate": "variable=unique<br>value=%{x}<br>count=%{y}<extra></extra>",
         "legendgroup": "unique",
         "marker": {
          "color": "#636efa",
          "pattern": {
           "shape": ""
          }
         },
         "name": "unique",
         "offsetgroup": "unique",
         "orientation": "v",
         "showlegend": true,
         "type": "histogram",
         "x": [
          null,
          3,
          null,
          null,
          null,
          null,
          null,
          null,
          null,
          null,
          null,
          null,
          null,
          null,
          null,
          null,
          null,
          null,
          null,
          null,
          null,
          null,
          null,
          null,
          null,
          null,
          null,
          null,
          null,
          null,
          null,
          null,
          null,
          null,
          null,
          null,
          null,
          null,
          null,
          null,
          null,
          null,
          null,
          null,
          null,
          null,
          null,
          null,
          null,
          null,
          null,
          null,
          null,
          null,
          null,
          null,
          null,
          null,
          null,
          null,
          null,
          null,
          null,
          null,
          null,
          null,
          null,
          null,
          null,
          null,
          null,
          null,
          null,
          null,
          null,
          null,
          null,
          null,
          null,
          null,
          null,
          null,
          null,
          null,
          null,
          null,
          null,
          null,
          null,
          null,
          null,
          null,
          null,
          null,
          null,
          null,
          null,
          null,
          null,
          null,
          null,
          null,
          null,
          null,
          null,
          null,
          null,
          null,
          null,
          null,
          null,
          null,
          null,
          null,
          null,
          null,
          null,
          null,
          null,
          null,
          null,
          null,
          null,
          null,
          null,
          null,
          null,
          null,
          null,
          null,
          null,
          null,
          null,
          null,
          null,
          null,
          null,
          null,
          null,
          null,
          null,
          null,
          null,
          null,
          null,
          null,
          null,
          null,
          null,
          null,
          null,
          null,
          null,
          null,
          null,
          null,
          null,
          null,
          null,
          null,
          null,
          null,
          null,
          null,
          null,
          null,
          null,
          null,
          null,
          null,
          null,
          null,
          null,
          null,
          null,
          null,
          null,
          null,
          null,
          null,
          null,
          null,
          null,
          null,
          null,
          null,
          null,
          null,
          null,
          null,
          null,
          null,
          null,
          null,
          null,
          null,
          null,
          null,
          null,
          null,
          null,
          null,
          null,
          null,
          null,
          null,
          null,
          null,
          null,
          null,
          null,
          null,
          null,
          null,
          null,
          null,
          null,
          null,
          null,
          null,
          null,
          null,
          null,
          null,
          null,
          null,
          null,
          null,
          null,
          null,
          null,
          null,
          null,
          null,
          null,
          null,
          null,
          null,
          null,
          null,
          null,
          null,
          null,
          null,
          null,
          null,
          null,
          null,
          null,
          null,
          null,
          null,
          null,
          null,
          null,
          null,
          null,
          null,
          null,
          null,
          null,
          null,
          null,
          null,
          null,
          null,
          null,
          null,
          null,
          null,
          null,
          null,
          null,
          null,
          null,
          null,
          null,
          null,
          null,
          null,
          null,
          null,
          null,
          null,
          null,
          null,
          null,
          null,
          null,
          null,
          null,
          null,
          null,
          null,
          null,
          null,
          null,
          null,
          null,
          null,
          null,
          null,
          null,
          null,
          null,
          null,
          null,
          null,
          null,
          null,
          null,
          null,
          null,
          null,
          null,
          null,
          null,
          null,
          null,
          null,
          null,
          null,
          null,
          null,
          null,
          null,
          null,
          null,
          null,
          2,
          5,
          4,
          6,
          3,
          2,
          2,
          9,
          5,
          3,
          2,
          5,
          2,
          7,
          20,
          3,
          3,
          13,
          4,
          6,
          19,
          22,
          3,
          21,
          22,
          10,
          12,
          2,
          1,
          3,
          3,
          3,
          3,
          6,
          2,
          2,
          2,
          2,
          10,
          2,
          11,
          2,
          22,
          2,
          2,
          2,
          2,
          2,
          2,
          2,
          2,
          2,
          4,
          10,
          2,
          6,
          2,
          2,
          3,
          10,
          17,
          2,
          2,
          11,
          23,
          4,
          2,
          3,
          18,
          3,
          7,
          2,
          2,
          4,
          2,
          11,
          8,
          1,
          21,
          10,
          1,
          22,
          21,
          2,
          1,
          5,
          2,
          2,
          2,
          4,
          3,
          6,
          2,
          2,
          2,
          2,
          6,
          6,
          21,
          2,
          2,
          2,
          1,
          3,
          1,
          6,
          13,
          23,
          1,
          2,
          22,
          2,
          10,
          3,
          5,
          5,
          3,
          2,
          3,
          2,
          2,
          2,
          2,
          4,
          1,
          8,
          2,
          2,
          1,
          2,
          2,
          2,
          15,
          4,
          2,
          3,
          3,
          4,
          3,
          3,
          5,
          2,
          2,
          2,
          1,
          6,
          2,
          3,
          5,
          4,
          1,
          2,
          2,
          2,
          3,
          2,
          2,
          1,
          6,
          17,
          2,
          5,
          2,
          1,
          null,
          2,
          2,
          1,
          2,
          12,
          3,
          2,
          2,
          9,
          2,
          5,
          5,
          6,
          1,
          2,
          2,
          1,
          1,
          19,
          18,
          2,
          10,
          4,
          2,
          3,
          3,
          2,
          1,
          3,
          3,
          13,
          23,
          1,
          2,
          2,
          2,
          2,
          null,
          2,
          2,
          3,
          3,
          15,
          2,
          1,
          7,
          2,
          2,
          2,
          null,
          3,
          3,
          5,
          2,
          1,
          3,
          8,
          2,
          3,
          3,
          20,
          3,
          2,
          1,
          2,
          5,
          4,
          2,
          2,
          2,
          1,
          8,
          6,
          18,
          2,
          2,
          16,
          2,
          2,
          1,
          6,
          4,
          2,
          2,
          18,
          3,
          2,
          2,
          2,
          1,
          6,
          2,
          2,
          2,
          2,
          23,
          2,
          3,
          4,
          16,
          3,
          12,
          1,
          4,
          null,
          2,
          2,
          2,
          4,
          2,
          1,
          1,
          13,
          13,
          4,
          3,
          2,
          9,
          2,
          1,
          19,
          12,
          2,
          3,
          2,
          2,
          1,
          10,
          2,
          2,
          2,
          2,
          3,
          1,
          2,
          1,
          5,
          1,
          1,
          null,
          20,
          16,
          3,
          2,
          2,
          5,
          2,
          1,
          1,
          2,
          14,
          null,
          4,
          2,
          1,
          2,
          2,
          3,
          3,
          17,
          5,
          8,
          2,
          10,
          6,
          2,
          2,
          2,
          3,
          2,
          2,
          4,
          2,
          11,
          2,
          2,
          2,
          2,
          6,
          20,
          2,
          2,
          3,
          2,
          6,
          2,
          9,
          11,
          2,
          7,
          3,
          2,
          2,
          1,
          2,
          1,
          1,
          4,
          2,
          2,
          null,
          2,
          2,
          22,
          2,
          2,
          3,
          3,
          1,
          2,
          16,
          2,
          1,
          2,
          2,
          null,
          2,
          null,
          4,
          5,
          3,
          2,
          2,
          12,
          2,
          5,
          1,
          3,
          10,
          2,
          14,
          11,
          3,
          2,
          21,
          23,
          2,
          3,
          2,
          2,
          4,
          4,
          11,
          1,
          4,
          2,
          2,
          13,
          1,
          13,
          3,
          2,
          2,
          3,
          1,
          2,
          14,
          9,
          2,
          2,
          1,
          2,
          2,
          2,
          2,
          2,
          7,
          15,
          3,
          3,
          null,
          3,
          2,
          5,
          2,
          2,
          3,
          4,
          2,
          2,
          19,
          5,
          5,
          21,
          2,
          6,
          3,
          2,
          3,
          2,
          2,
          null,
          3,
          10,
          5,
          1,
          6,
          2,
          2,
          2,
          2,
          2,
          2,
          6,
          4,
          2,
          11,
          12,
          3,
          2,
          null,
          20,
          3,
          2,
          3,
          5,
          2,
          2,
          1,
          3,
          2,
          21,
          2,
          11,
          1,
          4,
          2,
          2,
          2,
          2,
          11,
          3,
          3,
          2,
          2,
          2,
          2,
          2,
          2,
          2,
          22,
          2,
          22,
          2,
          4,
          2,
          4,
          2,
          3,
          12,
          3,
          10,
          6,
          15,
          2,
          null,
          8,
          12,
          2,
          7,
          4,
          2,
          2,
          1,
          1,
          2,
          2,
          11,
          10,
          3,
          2,
          2,
          2,
          2,
          1,
          2,
          2,
          2,
          19,
          10,
          4,
          2,
          4,
          1,
          3,
          2,
          1,
          2,
          16,
          1,
          4,
          4,
          4,
          21,
          2,
          2,
          9,
          20,
          5,
          3,
          9,
          2,
          17,
          10,
          5,
          2,
          5,
          2,
          2,
          null,
          2,
          4,
          2,
          2,
          2,
          12,
          7,
          2,
          1,
          2,
          1,
          5,
          7,
          3,
          8,
          8,
          2,
          22,
          8,
          2,
          3,
          19,
          3,
          2,
          4,
          2,
          2,
          1,
          17,
          9,
          13,
          1,
          7,
          1,
          2,
          1,
          2,
          18,
          6,
          6,
          21,
          22,
          9,
          21,
          2,
          2,
          2,
          1,
          2,
          2,
          2,
          2,
          3,
          2,
          6,
          11,
          null,
          2,
          3,
          3,
          3,
          7,
          23,
          6,
          1,
          1,
          2,
          13,
          2,
          3,
          1,
          2,
          3,
          2,
          5,
          5,
          1,
          4,
          3,
          2,
          2,
          2,
          2,
          1,
          11,
          2,
          5,
          19,
          2,
          21,
          2,
          2,
          3,
          2,
          3,
          7,
          1,
          4,
          20,
          3,
          22,
          2,
          2,
          3,
          2,
          7,
          null,
          7,
          2,
          2,
          2,
          4,
          2,
          1,
          2,
          2,
          4,
          3,
          23,
          4,
          2,
          4,
          4,
          4,
          1,
          2,
          22,
          1,
          3,
          3,
          22,
          2,
          4,
          3,
          2,
          10,
          2,
          3,
          19,
          4,
          22,
          3,
          23,
          2,
          10,
          2,
          2,
          11,
          2,
          2,
          2,
          12,
          2,
          2,
          2,
          2,
          20,
          2,
          17,
          23,
          3,
          2,
          3,
          4,
          4,
          21,
          2,
          2,
          2,
          null,
          11,
          2,
          2,
          2,
          12,
          1,
          13,
          3,
          8,
          7,
          2,
          12,
          21,
          6,
          6,
          19,
          2,
          2,
          18,
          4,
          5,
          21,
          20,
          8,
          2,
          3,
          23,
          6,
          5,
          4,
          2,
          22,
          13,
          7,
          7,
          3,
          23,
          6,
          5,
          2,
          3,
          2,
          17,
          2,
          2,
          20,
          3,
          2,
          2,
          2,
          2,
          8,
          19,
          20,
          2,
          2,
          null,
          3,
          2,
          3,
          11,
          10,
          3,
          2,
          3,
          1,
          8,
          4,
          2,
          2,
          2,
          4,
          3,
          3,
          2,
          null,
          23,
          2,
          3,
          12,
          1,
          3,
          3,
          1,
          2,
          11,
          7,
          20,
          1,
          1,
          2,
          5,
          3,
          2,
          12,
          null,
          23,
          20,
          19,
          22,
          1,
          2,
          20,
          12,
          12,
          20,
          1,
          1,
          3,
          2,
          2,
          1,
          18,
          2,
          2,
          5,
          2,
          23,
          17,
          2,
          14,
          1,
          11,
          2,
          4,
          2,
          1,
          6,
          2,
          2,
          2,
          7,
          6,
          4,
          1,
          3,
          3,
          10,
          3,
          2,
          5,
          2,
          2,
          11,
          2,
          2,
          2,
          4,
          4,
          3,
          4,
          1,
          22,
          20,
          2,
          2,
          12,
          null,
          21,
          3,
          2,
          2,
          5,
          2,
          2,
          4,
          23,
          2,
          20,
          1,
          4,
          6,
          2,
          20,
          22,
          2,
          2,
          1,
          3,
          2,
          1,
          19,
          7,
          2,
          null,
          3,
          32,
          2,
          1,
          1,
          4,
          1,
          4,
          3,
          2,
          5,
          3,
          2,
          19,
          3,
          2,
          3,
          2,
          4,
          null,
          2,
          1,
          2,
          null,
          3,
          8,
          3,
          5,
          2,
          10,
          2,
          20,
          2,
          4,
          1,
          10,
          2,
          3,
          2,
          2,
          2,
          6,
          3,
          1,
          4,
          1,
          2,
          2,
          2,
          14,
          null,
          5,
          12,
          6,
          1,
          11,
          2,
          2,
          2,
          2,
          2,
          4,
          2,
          3,
          3,
          2,
          4,
          2,
          22,
          17,
          2,
          2,
          2,
          13,
          null,
          6,
          1,
          21,
          2,
          7,
          2,
          4,
          9,
          2,
          2,
          2,
          3,
          11,
          8,
          6,
          4,
          1,
          5,
          1,
          2,
          3,
          10,
          2,
          4,
          2,
          2,
          2,
          1,
          8,
          2,
          2,
          4,
          2,
          6,
          1,
          3,
          11,
          3,
          2,
          2,
          5,
          24,
          19,
          2,
          2
         ],
         "xaxis": "x",
         "yaxis": "y"
        }
       ],
       "layout": {
        "barmode": "relative",
        "legend": {
         "title": {
          "text": "variable"
         },
         "tracegroupgap": 0
        },
        "margin": {
         "t": 60
        },
        "template": {
         "data": {
          "bar": [
           {
            "error_x": {
             "color": "#f2f5fa"
            },
            "error_y": {
             "color": "#f2f5fa"
            },
            "marker": {
             "line": {
              "color": "rgb(17,17,17)",
              "width": 0.5
             },
             "pattern": {
              "fillmode": "overlay",
              "size": 10,
              "solidity": 0.2
             }
            },
            "type": "bar"
           }
          ],
          "barpolar": [
           {
            "marker": {
             "line": {
              "color": "rgb(17,17,17)",
              "width": 0.5
             },
             "pattern": {
              "fillmode": "overlay",
              "size": 10,
              "solidity": 0.2
             }
            },
            "type": "barpolar"
           }
          ],
          "carpet": [
           {
            "aaxis": {
             "endlinecolor": "#A2B1C6",
             "gridcolor": "#506784",
             "linecolor": "#506784",
             "minorgridcolor": "#506784",
             "startlinecolor": "#A2B1C6"
            },
            "baxis": {
             "endlinecolor": "#A2B1C6",
             "gridcolor": "#506784",
             "linecolor": "#506784",
             "minorgridcolor": "#506784",
             "startlinecolor": "#A2B1C6"
            },
            "type": "carpet"
           }
          ],
          "choropleth": [
           {
            "colorbar": {
             "outlinewidth": 0,
             "ticks": ""
            },
            "type": "choropleth"
           }
          ],
          "contour": [
           {
            "colorbar": {
             "outlinewidth": 0,
             "ticks": ""
            },
            "colorscale": [
             [
              0,
              "#0d0887"
             ],
             [
              0.1111111111111111,
              "#46039f"
             ],
             [
              0.2222222222222222,
              "#7201a8"
             ],
             [
              0.3333333333333333,
              "#9c179e"
             ],
             [
              0.4444444444444444,
              "#bd3786"
             ],
             [
              0.5555555555555556,
              "#d8576b"
             ],
             [
              0.6666666666666666,
              "#ed7953"
             ],
             [
              0.7777777777777778,
              "#fb9f3a"
             ],
             [
              0.8888888888888888,
              "#fdca26"
             ],
             [
              1,
              "#f0f921"
             ]
            ],
            "type": "contour"
           }
          ],
          "contourcarpet": [
           {
            "colorbar": {
             "outlinewidth": 0,
             "ticks": ""
            },
            "type": "contourcarpet"
           }
          ],
          "heatmap": [
           {
            "colorbar": {
             "outlinewidth": 0,
             "ticks": ""
            },
            "colorscale": [
             [
              0,
              "#0d0887"
             ],
             [
              0.1111111111111111,
              "#46039f"
             ],
             [
              0.2222222222222222,
              "#7201a8"
             ],
             [
              0.3333333333333333,
              "#9c179e"
             ],
             [
              0.4444444444444444,
              "#bd3786"
             ],
             [
              0.5555555555555556,
              "#d8576b"
             ],
             [
              0.6666666666666666,
              "#ed7953"
             ],
             [
              0.7777777777777778,
              "#fb9f3a"
             ],
             [
              0.8888888888888888,
              "#fdca26"
             ],
             [
              1,
              "#f0f921"
             ]
            ],
            "type": "heatmap"
           }
          ],
          "heatmapgl": [
           {
            "colorbar": {
             "outlinewidth": 0,
             "ticks": ""
            },
            "colorscale": [
             [
              0,
              "#0d0887"
             ],
             [
              0.1111111111111111,
              "#46039f"
             ],
             [
              0.2222222222222222,
              "#7201a8"
             ],
             [
              0.3333333333333333,
              "#9c179e"
             ],
             [
              0.4444444444444444,
              "#bd3786"
             ],
             [
              0.5555555555555556,
              "#d8576b"
             ],
             [
              0.6666666666666666,
              "#ed7953"
             ],
             [
              0.7777777777777778,
              "#fb9f3a"
             ],
             [
              0.8888888888888888,
              "#fdca26"
             ],
             [
              1,
              "#f0f921"
             ]
            ],
            "type": "heatmapgl"
           }
          ],
          "histogram": [
           {
            "marker": {
             "pattern": {
              "fillmode": "overlay",
              "size": 10,
              "solidity": 0.2
             }
            },
            "type": "histogram"
           }
          ],
          "histogram2d": [
           {
            "colorbar": {
             "outlinewidth": 0,
             "ticks": ""
            },
            "colorscale": [
             [
              0,
              "#0d0887"
             ],
             [
              0.1111111111111111,
              "#46039f"
             ],
             [
              0.2222222222222222,
              "#7201a8"
             ],
             [
              0.3333333333333333,
              "#9c179e"
             ],
             [
              0.4444444444444444,
              "#bd3786"
             ],
             [
              0.5555555555555556,
              "#d8576b"
             ],
             [
              0.6666666666666666,
              "#ed7953"
             ],
             [
              0.7777777777777778,
              "#fb9f3a"
             ],
             [
              0.8888888888888888,
              "#fdca26"
             ],
             [
              1,
              "#f0f921"
             ]
            ],
            "type": "histogram2d"
           }
          ],
          "histogram2dcontour": [
           {
            "colorbar": {
             "outlinewidth": 0,
             "ticks": ""
            },
            "colorscale": [
             [
              0,
              "#0d0887"
             ],
             [
              0.1111111111111111,
              "#46039f"
             ],
             [
              0.2222222222222222,
              "#7201a8"
             ],
             [
              0.3333333333333333,
              "#9c179e"
             ],
             [
              0.4444444444444444,
              "#bd3786"
             ],
             [
              0.5555555555555556,
              "#d8576b"
             ],
             [
              0.6666666666666666,
              "#ed7953"
             ],
             [
              0.7777777777777778,
              "#fb9f3a"
             ],
             [
              0.8888888888888888,
              "#fdca26"
             ],
             [
              1,
              "#f0f921"
             ]
            ],
            "type": "histogram2dcontour"
           }
          ],
          "mesh3d": [
           {
            "colorbar": {
             "outlinewidth": 0,
             "ticks": ""
            },
            "type": "mesh3d"
           }
          ],
          "parcoords": [
           {
            "line": {
             "colorbar": {
              "outlinewidth": 0,
              "ticks": ""
             }
            },
            "type": "parcoords"
           }
          ],
          "pie": [
           {
            "automargin": true,
            "type": "pie"
           }
          ],
          "scatter": [
           {
            "marker": {
             "line": {
              "color": "#283442"
             }
            },
            "type": "scatter"
           }
          ],
          "scatter3d": [
           {
            "line": {
             "colorbar": {
              "outlinewidth": 0,
              "ticks": ""
             }
            },
            "marker": {
             "colorbar": {
              "outlinewidth": 0,
              "ticks": ""
             }
            },
            "type": "scatter3d"
           }
          ],
          "scattercarpet": [
           {
            "marker": {
             "colorbar": {
              "outlinewidth": 0,
              "ticks": ""
             }
            },
            "type": "scattercarpet"
           }
          ],
          "scattergeo": [
           {
            "marker": {
             "colorbar": {
              "outlinewidth": 0,
              "ticks": ""
             }
            },
            "type": "scattergeo"
           }
          ],
          "scattergl": [
           {
            "marker": {
             "line": {
              "color": "#283442"
             }
            },
            "type": "scattergl"
           }
          ],
          "scattermapbox": [
           {
            "marker": {
             "colorbar": {
              "outlinewidth": 0,
              "ticks": ""
             }
            },
            "type": "scattermapbox"
           }
          ],
          "scatterpolar": [
           {
            "marker": {
             "colorbar": {
              "outlinewidth": 0,
              "ticks": ""
             }
            },
            "type": "scatterpolar"
           }
          ],
          "scatterpolargl": [
           {
            "marker": {
             "colorbar": {
              "outlinewidth": 0,
              "ticks": ""
             }
            },
            "type": "scatterpolargl"
           }
          ],
          "scatterternary": [
           {
            "marker": {
             "colorbar": {
              "outlinewidth": 0,
              "ticks": ""
             }
            },
            "type": "scatterternary"
           }
          ],
          "surface": [
           {
            "colorbar": {
             "outlinewidth": 0,
             "ticks": ""
            },
            "colorscale": [
             [
              0,
              "#0d0887"
             ],
             [
              0.1111111111111111,
              "#46039f"
             ],
             [
              0.2222222222222222,
              "#7201a8"
             ],
             [
              0.3333333333333333,
              "#9c179e"
             ],
             [
              0.4444444444444444,
              "#bd3786"
             ],
             [
              0.5555555555555556,
              "#d8576b"
             ],
             [
              0.6666666666666666,
              "#ed7953"
             ],
             [
              0.7777777777777778,
              "#fb9f3a"
             ],
             [
              0.8888888888888888,
              "#fdca26"
             ],
             [
              1,
              "#f0f921"
             ]
            ],
            "type": "surface"
           }
          ],
          "table": [
           {
            "cells": {
             "fill": {
              "color": "#506784"
             },
             "line": {
              "color": "rgb(17,17,17)"
             }
            },
            "header": {
             "fill": {
              "color": "#2a3f5f"
             },
             "line": {
              "color": "rgb(17,17,17)"
             }
            },
            "type": "table"
           }
          ]
         },
         "layout": {
          "annotationdefaults": {
           "arrowcolor": "#f2f5fa",
           "arrowhead": 0,
           "arrowwidth": 1
          },
          "autotypenumbers": "strict",
          "coloraxis": {
           "colorbar": {
            "outlinewidth": 0,
            "ticks": ""
           }
          },
          "colorscale": {
           "diverging": [
            [
             0,
             "#8e0152"
            ],
            [
             0.1,
             "#c51b7d"
            ],
            [
             0.2,
             "#de77ae"
            ],
            [
             0.3,
             "#f1b6da"
            ],
            [
             0.4,
             "#fde0ef"
            ],
            [
             0.5,
             "#f7f7f7"
            ],
            [
             0.6,
             "#e6f5d0"
            ],
            [
             0.7,
             "#b8e186"
            ],
            [
             0.8,
             "#7fbc41"
            ],
            [
             0.9,
             "#4d9221"
            ],
            [
             1,
             "#276419"
            ]
           ],
           "sequential": [
            [
             0,
             "#0d0887"
            ],
            [
             0.1111111111111111,
             "#46039f"
            ],
            [
             0.2222222222222222,
             "#7201a8"
            ],
            [
             0.3333333333333333,
             "#9c179e"
            ],
            [
             0.4444444444444444,
             "#bd3786"
            ],
            [
             0.5555555555555556,
             "#d8576b"
            ],
            [
             0.6666666666666666,
             "#ed7953"
            ],
            [
             0.7777777777777778,
             "#fb9f3a"
            ],
            [
             0.8888888888888888,
             "#fdca26"
            ],
            [
             1,
             "#f0f921"
            ]
           ],
           "sequentialminus": [
            [
             0,
             "#0d0887"
            ],
            [
             0.1111111111111111,
             "#46039f"
            ],
            [
             0.2222222222222222,
             "#7201a8"
            ],
            [
             0.3333333333333333,
             "#9c179e"
            ],
            [
             0.4444444444444444,
             "#bd3786"
            ],
            [
             0.5555555555555556,
             "#d8576b"
            ],
            [
             0.6666666666666666,
             "#ed7953"
            ],
            [
             0.7777777777777778,
             "#fb9f3a"
            ],
            [
             0.8888888888888888,
             "#fdca26"
            ],
            [
             1,
             "#f0f921"
            ]
           ]
          },
          "colorway": [
           "#636efa",
           "#EF553B",
           "#00cc96",
           "#ab63fa",
           "#FFA15A",
           "#19d3f3",
           "#FF6692",
           "#B6E880",
           "#FF97FF",
           "#FECB52"
          ],
          "font": {
           "color": "#f2f5fa"
          },
          "geo": {
           "bgcolor": "rgb(17,17,17)",
           "lakecolor": "rgb(17,17,17)",
           "landcolor": "rgb(17,17,17)",
           "showlakes": true,
           "showland": true,
           "subunitcolor": "#506784"
          },
          "hoverlabel": {
           "align": "left"
          },
          "hovermode": "closest",
          "mapbox": {
           "style": "dark"
          },
          "paper_bgcolor": "rgb(17,17,17)",
          "plot_bgcolor": "rgb(17,17,17)",
          "polar": {
           "angularaxis": {
            "gridcolor": "#506784",
            "linecolor": "#506784",
            "ticks": ""
           },
           "bgcolor": "rgb(17,17,17)",
           "radialaxis": {
            "gridcolor": "#506784",
            "linecolor": "#506784",
            "ticks": ""
           }
          },
          "scene": {
           "xaxis": {
            "backgroundcolor": "rgb(17,17,17)",
            "gridcolor": "#506784",
            "gridwidth": 2,
            "linecolor": "#506784",
            "showbackground": true,
            "ticks": "",
            "zerolinecolor": "#C8D4E3"
           },
           "yaxis": {
            "backgroundcolor": "rgb(17,17,17)",
            "gridcolor": "#506784",
            "gridwidth": 2,
            "linecolor": "#506784",
            "showbackground": true,
            "ticks": "",
            "zerolinecolor": "#C8D4E3"
           },
           "zaxis": {
            "backgroundcolor": "rgb(17,17,17)",
            "gridcolor": "#506784",
            "gridwidth": 2,
            "linecolor": "#506784",
            "showbackground": true,
            "ticks": "",
            "zerolinecolor": "#C8D4E3"
           }
          },
          "shapedefaults": {
           "line": {
            "color": "#f2f5fa"
           }
          },
          "sliderdefaults": {
           "bgcolor": "#C8D4E3",
           "bordercolor": "rgb(17,17,17)",
           "borderwidth": 1,
           "tickwidth": 0
          },
          "ternary": {
           "aaxis": {
            "gridcolor": "#506784",
            "linecolor": "#506784",
            "ticks": ""
           },
           "baxis": {
            "gridcolor": "#506784",
            "linecolor": "#506784",
            "ticks": ""
           },
           "bgcolor": "rgb(17,17,17)",
           "caxis": {
            "gridcolor": "#506784",
            "linecolor": "#506784",
            "ticks": ""
           }
          },
          "title": {
           "x": 0.05
          },
          "updatemenudefaults": {
           "bgcolor": "#506784",
           "borderwidth": 0
          },
          "xaxis": {
           "automargin": true,
           "gridcolor": "#283442",
           "linecolor": "#506784",
           "ticks": "",
           "title": {
            "standoff": 15
           },
           "zerolinecolor": "#283442",
           "zerolinewidth": 2
          },
          "yaxis": {
           "automargin": true,
           "gridcolor": "#283442",
           "linecolor": "#506784",
           "ticks": "",
           "title": {
            "standoff": 15
           },
           "zerolinecolor": "#283442",
           "zerolinewidth": 2
          }
         }
        },
        "xaxis": {
         "anchor": "y",
         "domain": [
          0,
          1
         ],
         "title": {
          "text": "value"
         }
        },
        "yaxis": {
         "anchor": "x",
         "domain": [
          0,
          1
         ],
         "title": {
          "text": "count"
         }
        }
       }
      }
     },
     "metadata": {},
     "output_type": "display_data"
    }
   ],
   "source": [
    "px.histogram(desc.loc[\"unique\"])"
   ]
  },
  {
   "cell_type": "markdown",
   "metadata": {},
   "source": [
    "### Посмотрим на типы данных"
   ]
  },
  {
   "cell_type": "code",
   "execution_count": 12,
   "metadata": {},
   "outputs": [
    {
     "data": {
      "text/plain": [
       "id           int64\n",
       "release     object\n",
       "n_0000     float64\n",
       "n_0001     float64\n",
       "n_0002     float64\n",
       "            ...   \n",
       "c_1373      object\n",
       "c_1374      object\n",
       "c_1375      object\n",
       "c_1376      object\n",
       "c_1377      object\n",
       "Length: 1379, dtype: object"
      ]
     },
     "execution_count": 12,
     "metadata": {},
     "output_type": "execute_result"
    }
   ],
   "source": [
    "train_df.dtypes"
   ]
  },
  {
   "cell_type": "code",
   "execution_count": 13,
   "metadata": {},
   "outputs": [
    {
     "data": {
      "text/plain": [
       "object     1025\n",
       "float64     345\n",
       "int64         9\n",
       "dtype: int64"
      ]
     },
     "execution_count": 13,
     "metadata": {},
     "output_type": "execute_result"
    }
   ],
   "source": [
    "train_df.dtypes.value_counts()"
   ]
  },
  {
   "cell_type": "code",
   "execution_count": 14,
   "metadata": {},
   "outputs": [
    {
     "data": {
      "text/plain": [
       "Index(['id', 'release', 'n_0000', 'n_0001', 'n_0002', 'n_0003', 'n_0004',\n",
       "       'n_0005', 'n_0006', 'n_0007',\n",
       "       ...\n",
       "       'c_1368', 'c_1369', 'c_1370', 'c_1371', 'c_1372', 'c_1373', 'c_1374',\n",
       "       'c_1375', 'c_1376', 'c_1377'],\n",
       "      dtype='object', length=1379)"
      ]
     },
     "execution_count": 14,
     "metadata": {},
     "output_type": "execute_result"
    }
   ],
   "source": [
    "train_df.columns"
   ]
  },
  {
   "cell_type": "code",
   "execution_count": 15,
   "metadata": {},
   "outputs": [
    {
     "data": {
      "text/plain": [
       "c_    1050\n",
       "o_     211\n",
       "n_     116\n",
       "id       1\n",
       "re       1\n",
       "dtype: int64"
      ]
     },
     "execution_count": 15,
     "metadata": {},
     "output_type": "execute_result"
    }
   ],
   "source": [
    "train_df.columns.to_series().apply(lambda name: name[:2]).value_counts()"
   ]
  },
  {
   "cell_type": "markdown",
   "metadata": {},
   "source": [
    "#### Есть колонки начинающиеся с `o_`, это что?"
   ]
  },
  {
   "cell_type": "code",
   "execution_count": 16,
   "metadata": {},
   "outputs": [
    {
     "data": {
      "text/plain": [
       "Index(['o_0116', 'o_0117', 'o_0118', 'o_0119', 'o_0120', 'o_0121', 'o_0122',\n",
       "       'o_0123', 'o_0124', 'o_0125',\n",
       "       ...\n",
       "       'o_0317', 'o_0318', 'o_0319', 'o_0320', 'o_0321', 'o_0322', 'o_0323',\n",
       "       'o_0324', 'o_0325', 'o_0326'],\n",
       "      dtype='object', length=211)"
      ]
     },
     "execution_count": 16,
     "metadata": {},
     "output_type": "execute_result"
    }
   ],
   "source": [
    "train_df.columns[\n",
    "    train_df.columns.to_series().apply(lambda name: str.startswith(name, \"o_\"))\n",
    "]"
   ]
  },
  {
   "cell_type": "code",
   "execution_count": 17,
   "metadata": {},
   "outputs": [
    {
     "data": {
      "text/plain": [
       "0        NaN\n",
       "1        NaN\n",
       "2        NaN\n",
       "3        NaN\n",
       "4        NaN\n",
       "        ... \n",
       "7995    11.0\n",
       "7996     NaN\n",
       "7997     NaN\n",
       "7998     9.0\n",
       "7999     NaN\n",
       "Name: o_0326, Length: 8000, dtype: float64"
      ]
     },
     "execution_count": 17,
     "metadata": {},
     "output_type": "execute_result"
    }
   ],
   "source": [
    "train_df[\"o_0326\"]"
   ]
  },
  {
   "cell_type": "markdown",
   "metadata": {},
   "source": [
    "#### Интересно, int64 -- не только id. Возможно, это те же n_, которые просто определились как int?"
   ]
  },
  {
   "cell_type": "code",
   "execution_count": 18,
   "metadata": {},
   "outputs": [
    {
     "data": {
      "text/plain": [
       "Index(['id', 'n_0047', 'n_0050', 'n_0052', 'n_0061', 'n_0075', 'n_0091',\n",
       "       'o_0176', 'o_0264'],\n",
       "      dtype='object')"
      ]
     },
     "execution_count": 18,
     "metadata": {},
     "output_type": "execute_result"
    }
   ],
   "source": [
    "int_columns = train_df.dtypes[\n",
    "    train_df.dtypes.apply(lambda dtype: dtype == np.int64)\n",
    "].index\n",
    "int_columns"
   ]
  },
  {
   "cell_type": "code",
   "execution_count": 19,
   "metadata": {},
   "outputs": [
    {
     "data": {
      "text/html": [
       "<div>\n",
       "<style scoped>\n",
       "    .dataframe tbody tr th:only-of-type {\n",
       "        vertical-align: middle;\n",
       "    }\n",
       "\n",
       "    .dataframe tbody tr th {\n",
       "        vertical-align: top;\n",
       "    }\n",
       "\n",
       "    .dataframe thead th {\n",
       "        text-align: right;\n",
       "    }\n",
       "</style>\n",
       "<table border=\"1\" class=\"dataframe\">\n",
       "  <thead>\n",
       "    <tr style=\"text-align: right;\">\n",
       "      <th></th>\n",
       "      <th>id</th>\n",
       "      <th>n_0047</th>\n",
       "      <th>n_0050</th>\n",
       "      <th>n_0052</th>\n",
       "      <th>n_0061</th>\n",
       "      <th>n_0075</th>\n",
       "      <th>n_0091</th>\n",
       "      <th>o_0176</th>\n",
       "      <th>o_0264</th>\n",
       "    </tr>\n",
       "  </thead>\n",
       "  <tbody>\n",
       "    <tr>\n",
       "      <th>0</th>\n",
       "      <td>11193</td>\n",
       "      <td>1</td>\n",
       "      <td>1</td>\n",
       "      <td>1</td>\n",
       "      <td>1</td>\n",
       "      <td>1</td>\n",
       "      <td>1</td>\n",
       "      <td>303</td>\n",
       "      <td>7</td>\n",
       "    </tr>\n",
       "    <tr>\n",
       "      <th>1</th>\n",
       "      <td>11382</td>\n",
       "      <td>1</td>\n",
       "      <td>1</td>\n",
       "      <td>1</td>\n",
       "      <td>1</td>\n",
       "      <td>1</td>\n",
       "      <td>1</td>\n",
       "      <td>293</td>\n",
       "      <td>7</td>\n",
       "    </tr>\n",
       "    <tr>\n",
       "      <th>2</th>\n",
       "      <td>16531</td>\n",
       "      <td>1</td>\n",
       "      <td>1</td>\n",
       "      <td>1</td>\n",
       "      <td>1</td>\n",
       "      <td>1</td>\n",
       "      <td>1</td>\n",
       "      <td>131</td>\n",
       "      <td>0</td>\n",
       "    </tr>\n",
       "    <tr>\n",
       "      <th>3</th>\n",
       "      <td>1896</td>\n",
       "      <td>1</td>\n",
       "      <td>1</td>\n",
       "      <td>1</td>\n",
       "      <td>1</td>\n",
       "      <td>1</td>\n",
       "      <td>1</td>\n",
       "      <td>113</td>\n",
       "      <td>4</td>\n",
       "    </tr>\n",
       "    <tr>\n",
       "      <th>4</th>\n",
       "      <td>18262</td>\n",
       "      <td>1</td>\n",
       "      <td>1</td>\n",
       "      <td>1</td>\n",
       "      <td>1</td>\n",
       "      <td>1</td>\n",
       "      <td>1</td>\n",
       "      <td>240</td>\n",
       "      <td>6</td>\n",
       "    </tr>\n",
       "    <tr>\n",
       "      <th>...</th>\n",
       "      <td>...</td>\n",
       "      <td>...</td>\n",
       "      <td>...</td>\n",
       "      <td>...</td>\n",
       "      <td>...</td>\n",
       "      <td>...</td>\n",
       "      <td>...</td>\n",
       "      <td>...</td>\n",
       "      <td>...</td>\n",
       "    </tr>\n",
       "    <tr>\n",
       "      <th>7995</th>\n",
       "      <td>10898</td>\n",
       "      <td>1</td>\n",
       "      <td>1</td>\n",
       "      <td>1</td>\n",
       "      <td>1</td>\n",
       "      <td>1</td>\n",
       "      <td>1</td>\n",
       "      <td>4</td>\n",
       "      <td>5</td>\n",
       "    </tr>\n",
       "    <tr>\n",
       "      <th>7996</th>\n",
       "      <td>16664</td>\n",
       "      <td>1</td>\n",
       "      <td>1</td>\n",
       "      <td>1</td>\n",
       "      <td>1</td>\n",
       "      <td>1</td>\n",
       "      <td>1</td>\n",
       "      <td>207</td>\n",
       "      <td>5</td>\n",
       "    </tr>\n",
       "    <tr>\n",
       "      <th>7997</th>\n",
       "      <td>5334</td>\n",
       "      <td>1</td>\n",
       "      <td>1</td>\n",
       "      <td>1</td>\n",
       "      <td>1</td>\n",
       "      <td>1</td>\n",
       "      <td>1</td>\n",
       "      <td>369</td>\n",
       "      <td>8</td>\n",
       "    </tr>\n",
       "    <tr>\n",
       "      <th>7998</th>\n",
       "      <td>7905</td>\n",
       "      <td>1</td>\n",
       "      <td>1</td>\n",
       "      <td>1</td>\n",
       "      <td>1</td>\n",
       "      <td>1</td>\n",
       "      <td>1</td>\n",
       "      <td>69</td>\n",
       "      <td>4</td>\n",
       "    </tr>\n",
       "    <tr>\n",
       "      <th>7999</th>\n",
       "      <td>3997</td>\n",
       "      <td>1</td>\n",
       "      <td>1</td>\n",
       "      <td>1</td>\n",
       "      <td>1</td>\n",
       "      <td>1</td>\n",
       "      <td>1</td>\n",
       "      <td>125</td>\n",
       "      <td>4</td>\n",
       "    </tr>\n",
       "  </tbody>\n",
       "</table>\n",
       "<p>8000 rows × 9 columns</p>\n",
       "</div>"
      ],
      "text/plain": [
       "         id  n_0047  n_0050  n_0052  n_0061  n_0075  n_0091  o_0176  o_0264\n",
       "0     11193       1       1       1       1       1       1     303       7\n",
       "1     11382       1       1       1       1       1       1     293       7\n",
       "2     16531       1       1       1       1       1       1     131       0\n",
       "3      1896       1       1       1       1       1       1     113       4\n",
       "4     18262       1       1       1       1       1       1     240       6\n",
       "...     ...     ...     ...     ...     ...     ...     ...     ...     ...\n",
       "7995  10898       1       1       1       1       1       1       4       5\n",
       "7996  16664       1       1       1       1       1       1     207       5\n",
       "7997   5334       1       1       1       1       1       1     369       8\n",
       "7998   7905       1       1       1       1       1       1      69       4\n",
       "7999   3997       1       1       1       1       1       1     125       4\n",
       "\n",
       "[8000 rows x 9 columns]"
      ]
     },
     "execution_count": 19,
     "metadata": {},
     "output_type": "execute_result"
    }
   ],
   "source": [
    "train_df[int_columns]"
   ]
  },
  {
   "cell_type": "code",
   "execution_count": 20,
   "metadata": {},
   "outputs": [
    {
     "data": {
      "text/plain": [
       "n_0047  n_0050  n_0052  n_0061  n_0075  n_0091\n",
       "1       1       1       1       1       1         8000\n",
       "dtype: int64"
      ]
     },
     "execution_count": 20,
     "metadata": {},
     "output_type": "execute_result"
    }
   ],
   "source": [
    "train_df[[\"n_0047\", \"n_0050\", \"n_0052\", \"n_0061\", \"n_0075\", \"n_0091\"]].value_counts()"
   ]
  },
  {
   "cell_type": "markdown",
   "metadata": {},
   "source": [
    "Какие-то бесполезные колонка, все значения 1\n",
    "## TODO: удалить эти колонки???"
   ]
  },
  {
   "cell_type": "markdown",
   "metadata": {},
   "source": [
    "### Подгрузим лейблы"
   ]
  },
  {
   "cell_type": "code",
   "execution_count": 21,
   "metadata": {},
   "outputs": [
    {
     "data": {
      "text/html": [
       "<div>\n",
       "<style scoped>\n",
       "    .dataframe tbody tr th:only-of-type {\n",
       "        vertical-align: middle;\n",
       "    }\n",
       "\n",
       "    .dataframe tbody tr th {\n",
       "        vertical-align: top;\n",
       "    }\n",
       "\n",
       "    .dataframe thead th {\n",
       "        text-align: right;\n",
       "    }\n",
       "</style>\n",
       "<table border=\"1\" class=\"dataframe\">\n",
       "  <thead>\n",
       "    <tr style=\"text-align: right;\">\n",
       "      <th></th>\n",
       "      <th>id</th>\n",
       "      <th>service_a</th>\n",
       "      <th>service_b</th>\n",
       "      <th>service_c</th>\n",
       "      <th>service_d</th>\n",
       "      <th>service_e</th>\n",
       "      <th>service_f</th>\n",
       "      <th>service_g</th>\n",
       "      <th>service_h</th>\n",
       "      <th>service_i</th>\n",
       "      <th>service_j</th>\n",
       "      <th>service_k</th>\n",
       "      <th>service_l</th>\n",
       "      <th>service_m</th>\n",
       "      <th>service_n</th>\n",
       "    </tr>\n",
       "  </thead>\n",
       "  <tbody>\n",
       "    <tr>\n",
       "      <th>0</th>\n",
       "      <td>11193</td>\n",
       "      <td>1</td>\n",
       "      <td>1</td>\n",
       "      <td>0</td>\n",
       "      <td>0</td>\n",
       "      <td>0</td>\n",
       "      <td>0</td>\n",
       "      <td>0</td>\n",
       "      <td>0</td>\n",
       "      <td>0</td>\n",
       "      <td>1</td>\n",
       "      <td>1</td>\n",
       "      <td>0</td>\n",
       "      <td>0</td>\n",
       "      <td>0</td>\n",
       "    </tr>\n",
       "    <tr>\n",
       "      <th>1</th>\n",
       "      <td>11382</td>\n",
       "      <td>0</td>\n",
       "      <td>0</td>\n",
       "      <td>0</td>\n",
       "      <td>0</td>\n",
       "      <td>0</td>\n",
       "      <td>0</td>\n",
       "      <td>0</td>\n",
       "      <td>0</td>\n",
       "      <td>0</td>\n",
       "      <td>1</td>\n",
       "      <td>1</td>\n",
       "      <td>0</td>\n",
       "      <td>0</td>\n",
       "      <td>0</td>\n",
       "    </tr>\n",
       "    <tr>\n",
       "      <th>2</th>\n",
       "      <td>16531</td>\n",
       "      <td>0</td>\n",
       "      <td>0</td>\n",
       "      <td>0</td>\n",
       "      <td>0</td>\n",
       "      <td>0</td>\n",
       "      <td>0</td>\n",
       "      <td>0</td>\n",
       "      <td>0</td>\n",
       "      <td>0</td>\n",
       "      <td>1</td>\n",
       "      <td>1</td>\n",
       "      <td>0</td>\n",
       "      <td>0</td>\n",
       "      <td>0</td>\n",
       "    </tr>\n",
       "    <tr>\n",
       "      <th>3</th>\n",
       "      <td>1896</td>\n",
       "      <td>0</td>\n",
       "      <td>0</td>\n",
       "      <td>0</td>\n",
       "      <td>1</td>\n",
       "      <td>0</td>\n",
       "      <td>0</td>\n",
       "      <td>0</td>\n",
       "      <td>0</td>\n",
       "      <td>0</td>\n",
       "      <td>1</td>\n",
       "      <td>0</td>\n",
       "      <td>1</td>\n",
       "      <td>0</td>\n",
       "      <td>0</td>\n",
       "    </tr>\n",
       "    <tr>\n",
       "      <th>4</th>\n",
       "      <td>18262</td>\n",
       "      <td>0</td>\n",
       "      <td>0</td>\n",
       "      <td>0</td>\n",
       "      <td>1</td>\n",
       "      <td>1</td>\n",
       "      <td>0</td>\n",
       "      <td>0</td>\n",
       "      <td>0</td>\n",
       "      <td>0</td>\n",
       "      <td>0</td>\n",
       "      <td>1</td>\n",
       "      <td>1</td>\n",
       "      <td>1</td>\n",
       "      <td>0</td>\n",
       "    </tr>\n",
       "    <tr>\n",
       "      <th>...</th>\n",
       "      <td>...</td>\n",
       "      <td>...</td>\n",
       "      <td>...</td>\n",
       "      <td>...</td>\n",
       "      <td>...</td>\n",
       "      <td>...</td>\n",
       "      <td>...</td>\n",
       "      <td>...</td>\n",
       "      <td>...</td>\n",
       "      <td>...</td>\n",
       "      <td>...</td>\n",
       "      <td>...</td>\n",
       "      <td>...</td>\n",
       "      <td>...</td>\n",
       "      <td>...</td>\n",
       "    </tr>\n",
       "    <tr>\n",
       "      <th>7995</th>\n",
       "      <td>10898</td>\n",
       "      <td>1</td>\n",
       "      <td>1</td>\n",
       "      <td>1</td>\n",
       "      <td>0</td>\n",
       "      <td>0</td>\n",
       "      <td>0</td>\n",
       "      <td>1</td>\n",
       "      <td>0</td>\n",
       "      <td>0</td>\n",
       "      <td>1</td>\n",
       "      <td>1</td>\n",
       "      <td>1</td>\n",
       "      <td>1</td>\n",
       "      <td>1</td>\n",
       "    </tr>\n",
       "    <tr>\n",
       "      <th>7996</th>\n",
       "      <td>16664</td>\n",
       "      <td>0</td>\n",
       "      <td>0</td>\n",
       "      <td>0</td>\n",
       "      <td>0</td>\n",
       "      <td>0</td>\n",
       "      <td>0</td>\n",
       "      <td>0</td>\n",
       "      <td>0</td>\n",
       "      <td>0</td>\n",
       "      <td>1</td>\n",
       "      <td>1</td>\n",
       "      <td>0</td>\n",
       "      <td>0</td>\n",
       "      <td>0</td>\n",
       "    </tr>\n",
       "    <tr>\n",
       "      <th>7997</th>\n",
       "      <td>5334</td>\n",
       "      <td>1</td>\n",
       "      <td>0</td>\n",
       "      <td>0</td>\n",
       "      <td>0</td>\n",
       "      <td>0</td>\n",
       "      <td>0</td>\n",
       "      <td>0</td>\n",
       "      <td>0</td>\n",
       "      <td>0</td>\n",
       "      <td>1</td>\n",
       "      <td>1</td>\n",
       "      <td>0</td>\n",
       "      <td>0</td>\n",
       "      <td>0</td>\n",
       "    </tr>\n",
       "    <tr>\n",
       "      <th>7998</th>\n",
       "      <td>7905</td>\n",
       "      <td>1</td>\n",
       "      <td>1</td>\n",
       "      <td>1</td>\n",
       "      <td>0</td>\n",
       "      <td>0</td>\n",
       "      <td>0</td>\n",
       "      <td>0</td>\n",
       "      <td>0</td>\n",
       "      <td>0</td>\n",
       "      <td>1</td>\n",
       "      <td>1</td>\n",
       "      <td>0</td>\n",
       "      <td>0</td>\n",
       "      <td>0</td>\n",
       "    </tr>\n",
       "    <tr>\n",
       "      <th>7999</th>\n",
       "      <td>3997</td>\n",
       "      <td>1</td>\n",
       "      <td>1</td>\n",
       "      <td>0</td>\n",
       "      <td>0</td>\n",
       "      <td>1</td>\n",
       "      <td>0</td>\n",
       "      <td>0</td>\n",
       "      <td>1</td>\n",
       "      <td>0</td>\n",
       "      <td>1</td>\n",
       "      <td>0</td>\n",
       "      <td>0</td>\n",
       "      <td>0</td>\n",
       "      <td>0</td>\n",
       "    </tr>\n",
       "  </tbody>\n",
       "</table>\n",
       "<p>8000 rows × 15 columns</p>\n",
       "</div>"
      ],
      "text/plain": [
       "         id  service_a  service_b  service_c  service_d  service_e  service_f  \\\n",
       "0     11193          1          1          0          0          0          0   \n",
       "1     11382          0          0          0          0          0          0   \n",
       "2     16531          0          0          0          0          0          0   \n",
       "3      1896          0          0          0          1          0          0   \n",
       "4     18262          0          0          0          1          1          0   \n",
       "...     ...        ...        ...        ...        ...        ...        ...   \n",
       "7995  10898          1          1          1          0          0          0   \n",
       "7996  16664          0          0          0          0          0          0   \n",
       "7997   5334          1          0          0          0          0          0   \n",
       "7998   7905          1          1          1          0          0          0   \n",
       "7999   3997          1          1          0          0          1          0   \n",
       "\n",
       "      service_g  service_h  service_i  service_j  service_k  service_l  \\\n",
       "0             0          0          0          1          1          0   \n",
       "1             0          0          0          1          1          0   \n",
       "2             0          0          0          1          1          0   \n",
       "3             0          0          0          1          0          1   \n",
       "4             0          0          0          0          1          1   \n",
       "...         ...        ...        ...        ...        ...        ...   \n",
       "7995          1          0          0          1          1          1   \n",
       "7996          0          0          0          1          1          0   \n",
       "7997          0          0          0          1          1          0   \n",
       "7998          0          0          0          1          1          0   \n",
       "7999          0          1          0          1          0          0   \n",
       "\n",
       "      service_m  service_n  \n",
       "0             0          0  \n",
       "1             0          0  \n",
       "2             0          0  \n",
       "3             0          0  \n",
       "4             1          0  \n",
       "...         ...        ...  \n",
       "7995          1          1  \n",
       "7996          0          0  \n",
       "7997          0          0  \n",
       "7998          0          0  \n",
       "7999          0          0  \n",
       "\n",
       "[8000 rows x 15 columns]"
      ]
     },
     "execution_count": 21,
     "metadata": {},
     "output_type": "execute_result"
    }
   ],
   "source": [
    "train_labels_df = pd.read_csv(\"./data/problem_labels.csv\")\n",
    "train_labels_df"
   ]
  },
  {
   "cell_type": "markdown",
   "metadata": {},
   "source": [
    "Проверим, что айдишники совпадают"
   ]
  },
  {
   "cell_type": "code",
   "execution_count": 22,
   "metadata": {},
   "outputs": [
    {
     "data": {
      "text/plain": [
       "True"
      ]
     },
     "execution_count": 22,
     "metadata": {},
     "output_type": "execute_result"
    }
   ],
   "source": [
    "(train_labels_df.id == train_df.id).all()"
   ]
  },
  {
   "cell_type": "markdown",
   "metadata": {},
   "source": [
    "Пока что ничего не понимаю. есть категориальные, флоут переменные. Возможно, это что-то нагенерили из исходных данных.\n",
    "\n",
    "В названиях есть release, service -- мб это что-то связанное с разными продуктами? или с разными сервисами внутри тинькофф?"
   ]
  },
  {
   "cell_type": "markdown",
   "metadata": {},
   "source": [
    "Одной записи соответствует несколько лейблов, то есть у нас мультилейбл задача\n",
    "\n",
    "#### мб стоит взглянуть на матрицу корреляции между лейблами?)))"
   ]
  },
  {
   "cell_type": "code",
   "execution_count": 23,
   "metadata": {},
   "outputs": [
    {
     "data": {
      "application/vnd.plotly.v1+json": {
       "config": {
        "plotlyServerURL": "https://plot.ly"
       },
       "data": [
        {
         "coloraxis": "coloraxis",
         "hovertemplate": "x: %{x}<br>y: %{y}<br>color: %{z}<extra></extra>",
         "name": "0",
         "type": "heatmap",
         "x": [
          "service_a",
          "service_b",
          "service_c",
          "service_d",
          "service_e",
          "service_f",
          "service_g",
          "service_h",
          "service_i",
          "service_j",
          "service_k",
          "service_l",
          "service_m",
          "service_n"
         ],
         "xaxis": "x",
         "y": [
          "service_a",
          "service_b",
          "service_c",
          "service_d",
          "service_e",
          "service_f",
          "service_g",
          "service_h",
          "service_i",
          "service_j",
          "service_k",
          "service_l",
          "service_m",
          "service_n"
         ],
         "yaxis": "y",
         "z": [
          [
           1,
           0.5578589099057922,
           0.33032983830824836,
           0.032523053151388835,
           0.06600367527430247,
           0.11166907696624923,
           0.1152376119175574,
           0.07136322284986667,
           0.06579153363089721,
           -0.05572005943590528,
           -0.06889951960225199,
           0.041210374212081465,
           0.060141886059217727,
           0.04627565903839793
          ],
          [
           0.5578589099057922,
           1,
           0.4051670534075516,
           0.002796419735171315,
           0.08551044246777113,
           0.06888990960747701,
           0.13536600240295882,
           0.06179783263409816,
           0.037313857997545205,
           0.06269185266510705,
           0.044142794869202716,
           0.029496258809516656,
           0.046149425767968044,
           0.07138167289677808
          ],
          [
           0.33032983830824836,
           0.4051670534075516,
           1,
           0.02732230328917725,
           0.182957037161693,
           0.08970818048222044,
           0.2672828902973766,
           0.13467628331932896,
           0.09991461782350558,
           -0.05103939208619298,
           -0.01840917139438494,
           0.12732535609305923,
           0.13760454903389063,
           0.10665333321168205
          ],
          [
           0.032523053151388835,
           0.002796419735171315,
           0.02732230328917725,
           1,
           0.41832654129553065,
           -0.005526084926192489,
           0.012840508970965293,
           0.05207499349334723,
           -0.016835561312385915,
           0.0017195039907117792,
           0.015569267514479217,
           0.15051143800529132,
           0.17334077321359237,
           0.037392954547567
          ],
          [
           0.06600367527430247,
           0.08551044246777113,
           0.182957037161693,
           0.41832654129553065,
           1,
           -0.008405373889103998,
           0.11893758162324766,
           0.10540726215115317,
           0.048572390598699666,
           0.02685784364838141,
           0.03749009919461237,
           0.16670031008573732,
           0.172998061311036,
           0.0235669810599053
          ],
          [
           0.11166907696624923,
           0.06888990960747701,
           0.08970818048222044,
           -0.005526084926192489,
           -0.008405373889103998,
           1,
           0.3952261596571022,
           0.07450672862979009,
           0.08995855085222776,
           -0.05520011749066031,
           -0.061583739256390824,
           -0.01476262921752333,
           -0.02262382258715348,
           0.05737914761817691
          ],
          [
           0.1152376119175574,
           0.13536600240295882,
           0.2672828902973766,
           0.012840508970965293,
           0.11893758162324766,
           0.3952261596571022,
           1,
           0.07863002203508444,
           0.09982547929278913,
           -0.03145699906548511,
           -0.04713712757316681,
           0.007590670433319053,
           0.010353661880290714,
           0.06944639223696404
          ],
          [
           0.07136322284986667,
           0.06179783263409816,
           0.13467628331932896,
           0.05207499349334723,
           0.10540726215115317,
           0.07450672862979009,
           0.07863002203508444,
           1,
           0.17089812161748283,
           0.007287773524357314,
           0.04503259700796313,
           0.30882610419159884,
           0.2131365944238775,
           0.17812838237189335
          ],
          [
           0.06579153363089721,
           0.037313857997545205,
           0.09991461782350558,
           -0.016835561312385915,
           0.048572390598699666,
           0.08995855085222776,
           0.09982547929278913,
           0.17089812161748283,
           1,
           0.001592567509360689,
           -0.0045139230705204605,
           0.0449809106266486,
           -0.018970257971438472,
           0.054581910064613146
          ],
          [
           -0.05572005943590528,
           0.06269185266510705,
           -0.05103939208619298,
           0.0017195039907117792,
           0.02685784364838141,
           -0.05520011749066031,
           -0.03145699906548511,
           0.007287773524357314,
           0.001592567509360689,
           1,
           0.5335907040909953,
           0.013595816244389144,
           0.004401920739263614,
           0.02649789641037056
          ],
          [
           -0.06889951960225199,
           0.044142794869202716,
           -0.01840917139438494,
           0.015569267514479217,
           0.03749009919461237,
           -0.061583739256390824,
           -0.04713712757316681,
           0.04503259700796313,
           -0.0045139230705204605,
           0.5335907040909953,
           1,
           0.07544937246477781,
           0.0687746969596785,
           0.03912376683235686
          ],
          [
           0.041210374212081465,
           0.029496258809516656,
           0.12732535609305923,
           0.15051143800529132,
           0.16670031008573732,
           -0.01476262921752333,
           0.007590670433319053,
           0.30882610419159884,
           0.0449809106266486,
           0.013595816244389144,
           0.07544937246477781,
           1,
           0.8040809828165653,
           0.11603337359390405
          ],
          [
           0.060141886059217727,
           0.046149425767968044,
           0.13760454903389063,
           0.17334077321359237,
           0.172998061311036,
           -0.02262382258715348,
           0.010353661880290714,
           0.2131365944238775,
           -0.018970257971438472,
           0.004401920739263614,
           0.0687746969596785,
           0.8040809828165653,
           1,
           0.08830541451527493
          ],
          [
           0.04627565903839793,
           0.07138167289677808,
           0.10665333321168205,
           0.037392954547567,
           0.0235669810599053,
           0.05737914761817691,
           0.06944639223696404,
           0.17812838237189335,
           0.054581910064613146,
           0.02649789641037056,
           0.03912376683235686,
           0.11603337359390405,
           0.08830541451527493,
           1
          ]
         ]
        }
       ],
       "layout": {
        "coloraxis": {
         "colorscale": [
          [
           0,
           "#0d0887"
          ],
          [
           0.1111111111111111,
           "#46039f"
          ],
          [
           0.2222222222222222,
           "#7201a8"
          ],
          [
           0.3333333333333333,
           "#9c179e"
          ],
          [
           0.4444444444444444,
           "#bd3786"
          ],
          [
           0.5555555555555556,
           "#d8576b"
          ],
          [
           0.6666666666666666,
           "#ed7953"
          ],
          [
           0.7777777777777778,
           "#fb9f3a"
          ],
          [
           0.8888888888888888,
           "#fdca26"
          ],
          [
           1,
           "#f0f921"
          ]
         ]
        },
        "margin": {
         "t": 60
        },
        "template": {
         "data": {
          "bar": [
           {
            "error_x": {
             "color": "#f2f5fa"
            },
            "error_y": {
             "color": "#f2f5fa"
            },
            "marker": {
             "line": {
              "color": "rgb(17,17,17)",
              "width": 0.5
             },
             "pattern": {
              "fillmode": "overlay",
              "size": 10,
              "solidity": 0.2
             }
            },
            "type": "bar"
           }
          ],
          "barpolar": [
           {
            "marker": {
             "line": {
              "color": "rgb(17,17,17)",
              "width": 0.5
             },
             "pattern": {
              "fillmode": "overlay",
              "size": 10,
              "solidity": 0.2
             }
            },
            "type": "barpolar"
           }
          ],
          "carpet": [
           {
            "aaxis": {
             "endlinecolor": "#A2B1C6",
             "gridcolor": "#506784",
             "linecolor": "#506784",
             "minorgridcolor": "#506784",
             "startlinecolor": "#A2B1C6"
            },
            "baxis": {
             "endlinecolor": "#A2B1C6",
             "gridcolor": "#506784",
             "linecolor": "#506784",
             "minorgridcolor": "#506784",
             "startlinecolor": "#A2B1C6"
            },
            "type": "carpet"
           }
          ],
          "choropleth": [
           {
            "colorbar": {
             "outlinewidth": 0,
             "ticks": ""
            },
            "type": "choropleth"
           }
          ],
          "contour": [
           {
            "colorbar": {
             "outlinewidth": 0,
             "ticks": ""
            },
            "colorscale": [
             [
              0,
              "#0d0887"
             ],
             [
              0.1111111111111111,
              "#46039f"
             ],
             [
              0.2222222222222222,
              "#7201a8"
             ],
             [
              0.3333333333333333,
              "#9c179e"
             ],
             [
              0.4444444444444444,
              "#bd3786"
             ],
             [
              0.5555555555555556,
              "#d8576b"
             ],
             [
              0.6666666666666666,
              "#ed7953"
             ],
             [
              0.7777777777777778,
              "#fb9f3a"
             ],
             [
              0.8888888888888888,
              "#fdca26"
             ],
             [
              1,
              "#f0f921"
             ]
            ],
            "type": "contour"
           }
          ],
          "contourcarpet": [
           {
            "colorbar": {
             "outlinewidth": 0,
             "ticks": ""
            },
            "type": "contourcarpet"
           }
          ],
          "heatmap": [
           {
            "colorbar": {
             "outlinewidth": 0,
             "ticks": ""
            },
            "colorscale": [
             [
              0,
              "#0d0887"
             ],
             [
              0.1111111111111111,
              "#46039f"
             ],
             [
              0.2222222222222222,
              "#7201a8"
             ],
             [
              0.3333333333333333,
              "#9c179e"
             ],
             [
              0.4444444444444444,
              "#bd3786"
             ],
             [
              0.5555555555555556,
              "#d8576b"
             ],
             [
              0.6666666666666666,
              "#ed7953"
             ],
             [
              0.7777777777777778,
              "#fb9f3a"
             ],
             [
              0.8888888888888888,
              "#fdca26"
             ],
             [
              1,
              "#f0f921"
             ]
            ],
            "type": "heatmap"
           }
          ],
          "heatmapgl": [
           {
            "colorbar": {
             "outlinewidth": 0,
             "ticks": ""
            },
            "colorscale": [
             [
              0,
              "#0d0887"
             ],
             [
              0.1111111111111111,
              "#46039f"
             ],
             [
              0.2222222222222222,
              "#7201a8"
             ],
             [
              0.3333333333333333,
              "#9c179e"
             ],
             [
              0.4444444444444444,
              "#bd3786"
             ],
             [
              0.5555555555555556,
              "#d8576b"
             ],
             [
              0.6666666666666666,
              "#ed7953"
             ],
             [
              0.7777777777777778,
              "#fb9f3a"
             ],
             [
              0.8888888888888888,
              "#fdca26"
             ],
             [
              1,
              "#f0f921"
             ]
            ],
            "type": "heatmapgl"
           }
          ],
          "histogram": [
           {
            "marker": {
             "pattern": {
              "fillmode": "overlay",
              "size": 10,
              "solidity": 0.2
             }
            },
            "type": "histogram"
           }
          ],
          "histogram2d": [
           {
            "colorbar": {
             "outlinewidth": 0,
             "ticks": ""
            },
            "colorscale": [
             [
              0,
              "#0d0887"
             ],
             [
              0.1111111111111111,
              "#46039f"
             ],
             [
              0.2222222222222222,
              "#7201a8"
             ],
             [
              0.3333333333333333,
              "#9c179e"
             ],
             [
              0.4444444444444444,
              "#bd3786"
             ],
             [
              0.5555555555555556,
              "#d8576b"
             ],
             [
              0.6666666666666666,
              "#ed7953"
             ],
             [
              0.7777777777777778,
              "#fb9f3a"
             ],
             [
              0.8888888888888888,
              "#fdca26"
             ],
             [
              1,
              "#f0f921"
             ]
            ],
            "type": "histogram2d"
           }
          ],
          "histogram2dcontour": [
           {
            "colorbar": {
             "outlinewidth": 0,
             "ticks": ""
            },
            "colorscale": [
             [
              0,
              "#0d0887"
             ],
             [
              0.1111111111111111,
              "#46039f"
             ],
             [
              0.2222222222222222,
              "#7201a8"
             ],
             [
              0.3333333333333333,
              "#9c179e"
             ],
             [
              0.4444444444444444,
              "#bd3786"
             ],
             [
              0.5555555555555556,
              "#d8576b"
             ],
             [
              0.6666666666666666,
              "#ed7953"
             ],
             [
              0.7777777777777778,
              "#fb9f3a"
             ],
             [
              0.8888888888888888,
              "#fdca26"
             ],
             [
              1,
              "#f0f921"
             ]
            ],
            "type": "histogram2dcontour"
           }
          ],
          "mesh3d": [
           {
            "colorbar": {
             "outlinewidth": 0,
             "ticks": ""
            },
            "type": "mesh3d"
           }
          ],
          "parcoords": [
           {
            "line": {
             "colorbar": {
              "outlinewidth": 0,
              "ticks": ""
             }
            },
            "type": "parcoords"
           }
          ],
          "pie": [
           {
            "automargin": true,
            "type": "pie"
           }
          ],
          "scatter": [
           {
            "marker": {
             "line": {
              "color": "#283442"
             }
            },
            "type": "scatter"
           }
          ],
          "scatter3d": [
           {
            "line": {
             "colorbar": {
              "outlinewidth": 0,
              "ticks": ""
             }
            },
            "marker": {
             "colorbar": {
              "outlinewidth": 0,
              "ticks": ""
             }
            },
            "type": "scatter3d"
           }
          ],
          "scattercarpet": [
           {
            "marker": {
             "colorbar": {
              "outlinewidth": 0,
              "ticks": ""
             }
            },
            "type": "scattercarpet"
           }
          ],
          "scattergeo": [
           {
            "marker": {
             "colorbar": {
              "outlinewidth": 0,
              "ticks": ""
             }
            },
            "type": "scattergeo"
           }
          ],
          "scattergl": [
           {
            "marker": {
             "line": {
              "color": "#283442"
             }
            },
            "type": "scattergl"
           }
          ],
          "scattermapbox": [
           {
            "marker": {
             "colorbar": {
              "outlinewidth": 0,
              "ticks": ""
             }
            },
            "type": "scattermapbox"
           }
          ],
          "scatterpolar": [
           {
            "marker": {
             "colorbar": {
              "outlinewidth": 0,
              "ticks": ""
             }
            },
            "type": "scatterpolar"
           }
          ],
          "scatterpolargl": [
           {
            "marker": {
             "colorbar": {
              "outlinewidth": 0,
              "ticks": ""
             }
            },
            "type": "scatterpolargl"
           }
          ],
          "scatterternary": [
           {
            "marker": {
             "colorbar": {
              "outlinewidth": 0,
              "ticks": ""
             }
            },
            "type": "scatterternary"
           }
          ],
          "surface": [
           {
            "colorbar": {
             "outlinewidth": 0,
             "ticks": ""
            },
            "colorscale": [
             [
              0,
              "#0d0887"
             ],
             [
              0.1111111111111111,
              "#46039f"
             ],
             [
              0.2222222222222222,
              "#7201a8"
             ],
             [
              0.3333333333333333,
              "#9c179e"
             ],
             [
              0.4444444444444444,
              "#bd3786"
             ],
             [
              0.5555555555555556,
              "#d8576b"
             ],
             [
              0.6666666666666666,
              "#ed7953"
             ],
             [
              0.7777777777777778,
              "#fb9f3a"
             ],
             [
              0.8888888888888888,
              "#fdca26"
             ],
             [
              1,
              "#f0f921"
             ]
            ],
            "type": "surface"
           }
          ],
          "table": [
           {
            "cells": {
             "fill": {
              "color": "#506784"
             },
             "line": {
              "color": "rgb(17,17,17)"
             }
            },
            "header": {
             "fill": {
              "color": "#2a3f5f"
             },
             "line": {
              "color": "rgb(17,17,17)"
             }
            },
            "type": "table"
           }
          ]
         },
         "layout": {
          "annotationdefaults": {
           "arrowcolor": "#f2f5fa",
           "arrowhead": 0,
           "arrowwidth": 1
          },
          "autotypenumbers": "strict",
          "coloraxis": {
           "colorbar": {
            "outlinewidth": 0,
            "ticks": ""
           }
          },
          "colorscale": {
           "diverging": [
            [
             0,
             "#8e0152"
            ],
            [
             0.1,
             "#c51b7d"
            ],
            [
             0.2,
             "#de77ae"
            ],
            [
             0.3,
             "#f1b6da"
            ],
            [
             0.4,
             "#fde0ef"
            ],
            [
             0.5,
             "#f7f7f7"
            ],
            [
             0.6,
             "#e6f5d0"
            ],
            [
             0.7,
             "#b8e186"
            ],
            [
             0.8,
             "#7fbc41"
            ],
            [
             0.9,
             "#4d9221"
            ],
            [
             1,
             "#276419"
            ]
           ],
           "sequential": [
            [
             0,
             "#0d0887"
            ],
            [
             0.1111111111111111,
             "#46039f"
            ],
            [
             0.2222222222222222,
             "#7201a8"
            ],
            [
             0.3333333333333333,
             "#9c179e"
            ],
            [
             0.4444444444444444,
             "#bd3786"
            ],
            [
             0.5555555555555556,
             "#d8576b"
            ],
            [
             0.6666666666666666,
             "#ed7953"
            ],
            [
             0.7777777777777778,
             "#fb9f3a"
            ],
            [
             0.8888888888888888,
             "#fdca26"
            ],
            [
             1,
             "#f0f921"
            ]
           ],
           "sequentialminus": [
            [
             0,
             "#0d0887"
            ],
            [
             0.1111111111111111,
             "#46039f"
            ],
            [
             0.2222222222222222,
             "#7201a8"
            ],
            [
             0.3333333333333333,
             "#9c179e"
            ],
            [
             0.4444444444444444,
             "#bd3786"
            ],
            [
             0.5555555555555556,
             "#d8576b"
            ],
            [
             0.6666666666666666,
             "#ed7953"
            ],
            [
             0.7777777777777778,
             "#fb9f3a"
            ],
            [
             0.8888888888888888,
             "#fdca26"
            ],
            [
             1,
             "#f0f921"
            ]
           ]
          },
          "colorway": [
           "#636efa",
           "#EF553B",
           "#00cc96",
           "#ab63fa",
           "#FFA15A",
           "#19d3f3",
           "#FF6692",
           "#B6E880",
           "#FF97FF",
           "#FECB52"
          ],
          "font": {
           "color": "#f2f5fa"
          },
          "geo": {
           "bgcolor": "rgb(17,17,17)",
           "lakecolor": "rgb(17,17,17)",
           "landcolor": "rgb(17,17,17)",
           "showlakes": true,
           "showland": true,
           "subunitcolor": "#506784"
          },
          "hoverlabel": {
           "align": "left"
          },
          "hovermode": "closest",
          "mapbox": {
           "style": "dark"
          },
          "paper_bgcolor": "rgb(17,17,17)",
          "plot_bgcolor": "rgb(17,17,17)",
          "polar": {
           "angularaxis": {
            "gridcolor": "#506784",
            "linecolor": "#506784",
            "ticks": ""
           },
           "bgcolor": "rgb(17,17,17)",
           "radialaxis": {
            "gridcolor": "#506784",
            "linecolor": "#506784",
            "ticks": ""
           }
          },
          "scene": {
           "xaxis": {
            "backgroundcolor": "rgb(17,17,17)",
            "gridcolor": "#506784",
            "gridwidth": 2,
            "linecolor": "#506784",
            "showbackground": true,
            "ticks": "",
            "zerolinecolor": "#C8D4E3"
           },
           "yaxis": {
            "backgroundcolor": "rgb(17,17,17)",
            "gridcolor": "#506784",
            "gridwidth": 2,
            "linecolor": "#506784",
            "showbackground": true,
            "ticks": "",
            "zerolinecolor": "#C8D4E3"
           },
           "zaxis": {
            "backgroundcolor": "rgb(17,17,17)",
            "gridcolor": "#506784",
            "gridwidth": 2,
            "linecolor": "#506784",
            "showbackground": true,
            "ticks": "",
            "zerolinecolor": "#C8D4E3"
           }
          },
          "shapedefaults": {
           "line": {
            "color": "#f2f5fa"
           }
          },
          "sliderdefaults": {
           "bgcolor": "#C8D4E3",
           "bordercolor": "rgb(17,17,17)",
           "borderwidth": 1,
           "tickwidth": 0
          },
          "ternary": {
           "aaxis": {
            "gridcolor": "#506784",
            "linecolor": "#506784",
            "ticks": ""
           },
           "baxis": {
            "gridcolor": "#506784",
            "linecolor": "#506784",
            "ticks": ""
           },
           "bgcolor": "rgb(17,17,17)",
           "caxis": {
            "gridcolor": "#506784",
            "linecolor": "#506784",
            "ticks": ""
           }
          },
          "title": {
           "x": 0.05
          },
          "updatemenudefaults": {
           "bgcolor": "#506784",
           "borderwidth": 0
          },
          "xaxis": {
           "automargin": true,
           "gridcolor": "#283442",
           "linecolor": "#506784",
           "ticks": "",
           "title": {
            "standoff": 15
           },
           "zerolinecolor": "#283442",
           "zerolinewidth": 2
          },
          "yaxis": {
           "automargin": true,
           "gridcolor": "#283442",
           "linecolor": "#506784",
           "ticks": "",
           "title": {
            "standoff": 15
           },
           "zerolinecolor": "#283442",
           "zerolinewidth": 2
          }
         }
        },
        "xaxis": {
         "anchor": "y",
         "constrain": "domain",
         "domain": [
          0,
          1
         ],
         "scaleanchor": "y"
        },
        "yaxis": {
         "anchor": "x",
         "autorange": "reversed",
         "constrain": "domain",
         "domain": [
          0,
          1
         ]
        }
       }
      }
     },
     "metadata": {},
     "output_type": "display_data"
    }
   ],
   "source": [
    "px.imshow(\n",
    "    train_labels_df.drop(columns=[\"id\"]).corr(),\n",
    ")"
   ]
  },
  {
   "cell_type": "markdown",
   "metadata": {},
   "source": [
    "Соседние лейблы в целом сильнее скоррелированы. например i-m = 0.80, j-k = 0.53, f-g = 0.40, d-e = 0.42, a-b = 0.56, b-c = 0.4.\n",
    "\n",
    "Есть еще h-i = 0.30, c-g = 0.27\n",
    "\n",
    "Эта корреляция мб не будет мешать модели, если на каждый будет отдельная модель"
   ]
  },
  {
   "cell_type": "markdown",
   "metadata": {},
   "source": [
    "#### Все лейблы определены на всех записях"
   ]
  },
  {
   "cell_type": "code",
   "execution_count": 24,
   "metadata": {},
   "outputs": [
    {
     "data": {
      "text/html": [
       "<div>\n",
       "<style scoped>\n",
       "    .dataframe tbody tr th:only-of-type {\n",
       "        vertical-align: middle;\n",
       "    }\n",
       "\n",
       "    .dataframe tbody tr th {\n",
       "        vertical-align: top;\n",
       "    }\n",
       "\n",
       "    .dataframe thead th {\n",
       "        text-align: right;\n",
       "    }\n",
       "</style>\n",
       "<table border=\"1\" class=\"dataframe\">\n",
       "  <thead>\n",
       "    <tr style=\"text-align: right;\">\n",
       "      <th></th>\n",
       "      <th>id</th>\n",
       "      <th>service_a</th>\n",
       "      <th>service_b</th>\n",
       "      <th>service_c</th>\n",
       "      <th>service_d</th>\n",
       "      <th>service_e</th>\n",
       "      <th>service_f</th>\n",
       "      <th>service_g</th>\n",
       "      <th>service_h</th>\n",
       "      <th>service_i</th>\n",
       "      <th>service_j</th>\n",
       "      <th>service_k</th>\n",
       "      <th>service_l</th>\n",
       "      <th>service_m</th>\n",
       "      <th>service_n</th>\n",
       "    </tr>\n",
       "  </thead>\n",
       "  <tbody>\n",
       "    <tr>\n",
       "      <th>count</th>\n",
       "      <td>8000.000000</td>\n",
       "      <td>8000.000000</td>\n",
       "      <td>8000.000000</td>\n",
       "      <td>8000.000000</td>\n",
       "      <td>8000.000000</td>\n",
       "      <td>8000.000000</td>\n",
       "      <td>8000.000000</td>\n",
       "      <td>8000.000000</td>\n",
       "      <td>8000.000000</td>\n",
       "      <td>8000.000000</td>\n",
       "      <td>8000.000000</td>\n",
       "      <td>8000.000000</td>\n",
       "      <td>8000.0000</td>\n",
       "      <td>8000.000000</td>\n",
       "      <td>8000.000000</td>\n",
       "    </tr>\n",
       "    <tr>\n",
       "      <th>mean</th>\n",
       "      <td>9220.303375</td>\n",
       "      <td>0.472125</td>\n",
       "      <td>0.328250</td>\n",
       "      <td>0.261625</td>\n",
       "      <td>0.017000</td>\n",
       "      <td>0.053875</td>\n",
       "      <td>0.029125</td>\n",
       "      <td>0.051875</td>\n",
       "      <td>0.297000</td>\n",
       "      <td>0.016125</td>\n",
       "      <td>0.848250</td>\n",
       "      <td>0.782000</td>\n",
       "      <td>0.1080</td>\n",
       "      <td>0.088625</td>\n",
       "      <td>0.178000</td>\n",
       "    </tr>\n",
       "    <tr>\n",
       "      <th>std</th>\n",
       "      <td>5236.897900</td>\n",
       "      <td>0.499254</td>\n",
       "      <td>0.469606</td>\n",
       "      <td>0.439547</td>\n",
       "      <td>0.129279</td>\n",
       "      <td>0.225785</td>\n",
       "      <td>0.168167</td>\n",
       "      <td>0.221788</td>\n",
       "      <td>0.456965</td>\n",
       "      <td>0.125964</td>\n",
       "      <td>0.358801</td>\n",
       "      <td>0.412913</td>\n",
       "      <td>0.3104</td>\n",
       "      <td>0.284219</td>\n",
       "      <td>0.382537</td>\n",
       "    </tr>\n",
       "    <tr>\n",
       "      <th>min</th>\n",
       "      <td>0.000000</td>\n",
       "      <td>0.000000</td>\n",
       "      <td>0.000000</td>\n",
       "      <td>0.000000</td>\n",
       "      <td>0.000000</td>\n",
       "      <td>0.000000</td>\n",
       "      <td>0.000000</td>\n",
       "      <td>0.000000</td>\n",
       "      <td>0.000000</td>\n",
       "      <td>0.000000</td>\n",
       "      <td>0.000000</td>\n",
       "      <td>0.000000</td>\n",
       "      <td>0.0000</td>\n",
       "      <td>0.000000</td>\n",
       "      <td>0.000000</td>\n",
       "    </tr>\n",
       "    <tr>\n",
       "      <th>25%</th>\n",
       "      <td>4773.500000</td>\n",
       "      <td>0.000000</td>\n",
       "      <td>0.000000</td>\n",
       "      <td>0.000000</td>\n",
       "      <td>0.000000</td>\n",
       "      <td>0.000000</td>\n",
       "      <td>0.000000</td>\n",
       "      <td>0.000000</td>\n",
       "      <td>0.000000</td>\n",
       "      <td>0.000000</td>\n",
       "      <td>1.000000</td>\n",
       "      <td>1.000000</td>\n",
       "      <td>0.0000</td>\n",
       "      <td>0.000000</td>\n",
       "      <td>0.000000</td>\n",
       "    </tr>\n",
       "    <tr>\n",
       "      <th>50%</th>\n",
       "      <td>9221.500000</td>\n",
       "      <td>0.000000</td>\n",
       "      <td>0.000000</td>\n",
       "      <td>0.000000</td>\n",
       "      <td>0.000000</td>\n",
       "      <td>0.000000</td>\n",
       "      <td>0.000000</td>\n",
       "      <td>0.000000</td>\n",
       "      <td>0.000000</td>\n",
       "      <td>0.000000</td>\n",
       "      <td>1.000000</td>\n",
       "      <td>1.000000</td>\n",
       "      <td>0.0000</td>\n",
       "      <td>0.000000</td>\n",
       "      <td>0.000000</td>\n",
       "    </tr>\n",
       "    <tr>\n",
       "      <th>75%</th>\n",
       "      <td>13702.750000</td>\n",
       "      <td>1.000000</td>\n",
       "      <td>1.000000</td>\n",
       "      <td>1.000000</td>\n",
       "      <td>0.000000</td>\n",
       "      <td>0.000000</td>\n",
       "      <td>0.000000</td>\n",
       "      <td>0.000000</td>\n",
       "      <td>1.000000</td>\n",
       "      <td>0.000000</td>\n",
       "      <td>1.000000</td>\n",
       "      <td>1.000000</td>\n",
       "      <td>0.0000</td>\n",
       "      <td>0.000000</td>\n",
       "      <td>0.000000</td>\n",
       "    </tr>\n",
       "    <tr>\n",
       "      <th>max</th>\n",
       "      <td>18302.000000</td>\n",
       "      <td>1.000000</td>\n",
       "      <td>1.000000</td>\n",
       "      <td>1.000000</td>\n",
       "      <td>1.000000</td>\n",
       "      <td>1.000000</td>\n",
       "      <td>1.000000</td>\n",
       "      <td>1.000000</td>\n",
       "      <td>1.000000</td>\n",
       "      <td>1.000000</td>\n",
       "      <td>1.000000</td>\n",
       "      <td>1.000000</td>\n",
       "      <td>1.0000</td>\n",
       "      <td>1.000000</td>\n",
       "      <td>1.000000</td>\n",
       "    </tr>\n",
       "  </tbody>\n",
       "</table>\n",
       "</div>"
      ],
      "text/plain": [
       "                 id    service_a    service_b    service_c    service_d  \\\n",
       "count   8000.000000  8000.000000  8000.000000  8000.000000  8000.000000   \n",
       "mean    9220.303375     0.472125     0.328250     0.261625     0.017000   \n",
       "std     5236.897900     0.499254     0.469606     0.439547     0.129279   \n",
       "min        0.000000     0.000000     0.000000     0.000000     0.000000   \n",
       "25%     4773.500000     0.000000     0.000000     0.000000     0.000000   \n",
       "50%     9221.500000     0.000000     0.000000     0.000000     0.000000   \n",
       "75%    13702.750000     1.000000     1.000000     1.000000     0.000000   \n",
       "max    18302.000000     1.000000     1.000000     1.000000     1.000000   \n",
       "\n",
       "         service_e    service_f    service_g    service_h    service_i  \\\n",
       "count  8000.000000  8000.000000  8000.000000  8000.000000  8000.000000   \n",
       "mean      0.053875     0.029125     0.051875     0.297000     0.016125   \n",
       "std       0.225785     0.168167     0.221788     0.456965     0.125964   \n",
       "min       0.000000     0.000000     0.000000     0.000000     0.000000   \n",
       "25%       0.000000     0.000000     0.000000     0.000000     0.000000   \n",
       "50%       0.000000     0.000000     0.000000     0.000000     0.000000   \n",
       "75%       0.000000     0.000000     0.000000     1.000000     0.000000   \n",
       "max       1.000000     1.000000     1.000000     1.000000     1.000000   \n",
       "\n",
       "         service_j    service_k  service_l    service_m    service_n  \n",
       "count  8000.000000  8000.000000  8000.0000  8000.000000  8000.000000  \n",
       "mean      0.848250     0.782000     0.1080     0.088625     0.178000  \n",
       "std       0.358801     0.412913     0.3104     0.284219     0.382537  \n",
       "min       0.000000     0.000000     0.0000     0.000000     0.000000  \n",
       "25%       1.000000     1.000000     0.0000     0.000000     0.000000  \n",
       "50%       1.000000     1.000000     0.0000     0.000000     0.000000  \n",
       "75%       1.000000     1.000000     0.0000     0.000000     0.000000  \n",
       "max       1.000000     1.000000     1.0000     1.000000     1.000000  "
      ]
     },
     "execution_count": 24,
     "metadata": {},
     "output_type": "execute_result"
    }
   ],
   "source": [
    "train_labels_df.describe()"
   ]
  },
  {
   "cell_type": "markdown",
   "metadata": {},
   "source": [
    "Вот только вопрос - 8000 это много или мало 🤔 Думаю, достаточно"
   ]
  },
  {
   "cell_type": "markdown",
   "metadata": {},
   "source": [
    "### Посмотрим на тест"
   ]
  },
  {
   "cell_type": "code",
   "execution_count": 25,
   "metadata": {},
   "outputs": [
    {
     "data": {
      "text/html": [
       "<div>\n",
       "<style scoped>\n",
       "    .dataframe tbody tr th:only-of-type {\n",
       "        vertical-align: middle;\n",
       "    }\n",
       "\n",
       "    .dataframe tbody tr th {\n",
       "        vertical-align: top;\n",
       "    }\n",
       "\n",
       "    .dataframe thead th {\n",
       "        text-align: right;\n",
       "    }\n",
       "</style>\n",
       "<table border=\"1\" class=\"dataframe\">\n",
       "  <thead>\n",
       "    <tr style=\"text-align: right;\">\n",
       "      <th></th>\n",
       "      <th>id</th>\n",
       "      <th>release</th>\n",
       "      <th>n_0000</th>\n",
       "      <th>n_0001</th>\n",
       "      <th>n_0002</th>\n",
       "      <th>n_0003</th>\n",
       "      <th>n_0004</th>\n",
       "      <th>n_0005</th>\n",
       "      <th>n_0006</th>\n",
       "      <th>n_0007</th>\n",
       "      <th>...</th>\n",
       "      <th>c_1368</th>\n",
       "      <th>c_1369</th>\n",
       "      <th>c_1370</th>\n",
       "      <th>c_1371</th>\n",
       "      <th>c_1372</th>\n",
       "      <th>c_1373</th>\n",
       "      <th>c_1374</th>\n",
       "      <th>c_1375</th>\n",
       "      <th>c_1376</th>\n",
       "      <th>c_1377</th>\n",
       "    </tr>\n",
       "  </thead>\n",
       "  <tbody>\n",
       "    <tr>\n",
       "      <th>0</th>\n",
       "      <td>7957</td>\n",
       "      <td>a</td>\n",
       "      <td>NaN</td>\n",
       "      <td>NaN</td>\n",
       "      <td>0.029890</td>\n",
       "      <td>NaN</td>\n",
       "      <td>NaN</td>\n",
       "      <td>0.368421</td>\n",
       "      <td>NaN</td>\n",
       "      <td>NaN</td>\n",
       "      <td>...</td>\n",
       "      <td>NaN</td>\n",
       "      <td>NaN</td>\n",
       "      <td>NaN</td>\n",
       "      <td>NaN</td>\n",
       "      <td>a</td>\n",
       "      <td>NaN</td>\n",
       "      <td>q</td>\n",
       "      <td>NaN</td>\n",
       "      <td>NaN</td>\n",
       "      <td>NaN</td>\n",
       "    </tr>\n",
       "    <tr>\n",
       "      <th>1</th>\n",
       "      <td>693</td>\n",
       "      <td>c</td>\n",
       "      <td>NaN</td>\n",
       "      <td>0.452381</td>\n",
       "      <td>0.032164</td>\n",
       "      <td>NaN</td>\n",
       "      <td>NaN</td>\n",
       "      <td>0.421053</td>\n",
       "      <td>0.0</td>\n",
       "      <td>NaN</td>\n",
       "      <td>...</td>\n",
       "      <td>NaN</td>\n",
       "      <td>NaN</td>\n",
       "      <td>NaN</td>\n",
       "      <td>NaN</td>\n",
       "      <td>a</td>\n",
       "      <td>NaN</td>\n",
       "      <td>x</td>\n",
       "      <td>NaN</td>\n",
       "      <td>NaN</td>\n",
       "      <td>NaN</td>\n",
       "    </tr>\n",
       "    <tr>\n",
       "      <th>2</th>\n",
       "      <td>15558</td>\n",
       "      <td>c</td>\n",
       "      <td>NaN</td>\n",
       "      <td>0.547619</td>\n",
       "      <td>0.049166</td>\n",
       "      <td>NaN</td>\n",
       "      <td>NaN</td>\n",
       "      <td>0.500000</td>\n",
       "      <td>0.2</td>\n",
       "      <td>NaN</td>\n",
       "      <td>...</td>\n",
       "      <td>NaN</td>\n",
       "      <td>NaN</td>\n",
       "      <td>NaN</td>\n",
       "      <td>NaN</td>\n",
       "      <td>a</td>\n",
       "      <td>e</td>\n",
       "      <td>b</td>\n",
       "      <td>NaN</td>\n",
       "      <td>NaN</td>\n",
       "      <td>NaN</td>\n",
       "    </tr>\n",
       "    <tr>\n",
       "      <th>3</th>\n",
       "      <td>15614</td>\n",
       "      <td>a</td>\n",
       "      <td>NaN</td>\n",
       "      <td>NaN</td>\n",
       "      <td>0.048733</td>\n",
       "      <td>NaN</td>\n",
       "      <td>NaN</td>\n",
       "      <td>0.394737</td>\n",
       "      <td>NaN</td>\n",
       "      <td>NaN</td>\n",
       "      <td>...</td>\n",
       "      <td>NaN</td>\n",
       "      <td>NaN</td>\n",
       "      <td>NaN</td>\n",
       "      <td>NaN</td>\n",
       "      <td>b</td>\n",
       "      <td>NaN</td>\n",
       "      <td>NaN</td>\n",
       "      <td>NaN</td>\n",
       "      <td>NaN</td>\n",
       "      <td>NaN</td>\n",
       "    </tr>\n",
       "    <tr>\n",
       "      <th>4</th>\n",
       "      <td>8149</td>\n",
       "      <td>b</td>\n",
       "      <td>NaN</td>\n",
       "      <td>NaN</td>\n",
       "      <td>0.049924</td>\n",
       "      <td>NaN</td>\n",
       "      <td>NaN</td>\n",
       "      <td>0.368421</td>\n",
       "      <td>NaN</td>\n",
       "      <td>NaN</td>\n",
       "      <td>...</td>\n",
       "      <td>NaN</td>\n",
       "      <td>NaN</td>\n",
       "      <td>NaN</td>\n",
       "      <td>NaN</td>\n",
       "      <td>a</td>\n",
       "      <td>NaN</td>\n",
       "      <td>NaN</td>\n",
       "      <td>NaN</td>\n",
       "      <td>NaN</td>\n",
       "      <td>b</td>\n",
       "    </tr>\n",
       "    <tr>\n",
       "      <th>...</th>\n",
       "      <td>...</td>\n",
       "      <td>...</td>\n",
       "      <td>...</td>\n",
       "      <td>...</td>\n",
       "      <td>...</td>\n",
       "      <td>...</td>\n",
       "      <td>...</td>\n",
       "      <td>...</td>\n",
       "      <td>...</td>\n",
       "      <td>...</td>\n",
       "      <td>...</td>\n",
       "      <td>...</td>\n",
       "      <td>...</td>\n",
       "      <td>...</td>\n",
       "      <td>...</td>\n",
       "      <td>...</td>\n",
       "      <td>...</td>\n",
       "      <td>...</td>\n",
       "      <td>...</td>\n",
       "      <td>...</td>\n",
       "      <td>...</td>\n",
       "    </tr>\n",
       "    <tr>\n",
       "      <th>1995</th>\n",
       "      <td>200</td>\n",
       "      <td>b</td>\n",
       "      <td>NaN</td>\n",
       "      <td>NaN</td>\n",
       "      <td>0.014728</td>\n",
       "      <td>NaN</td>\n",
       "      <td>NaN</td>\n",
       "      <td>0.368421</td>\n",
       "      <td>NaN</td>\n",
       "      <td>0.059524</td>\n",
       "      <td>...</td>\n",
       "      <td>NaN</td>\n",
       "      <td>NaN</td>\n",
       "      <td>NaN</td>\n",
       "      <td>NaN</td>\n",
       "      <td>a</td>\n",
       "      <td>NaN</td>\n",
       "      <td>NaN</td>\n",
       "      <td>NaN</td>\n",
       "      <td>NaN</td>\n",
       "      <td>NaN</td>\n",
       "    </tr>\n",
       "    <tr>\n",
       "      <th>1996</th>\n",
       "      <td>10876</td>\n",
       "      <td>a</td>\n",
       "      <td>NaN</td>\n",
       "      <td>NaN</td>\n",
       "      <td>0.052415</td>\n",
       "      <td>NaN</td>\n",
       "      <td>NaN</td>\n",
       "      <td>0.578947</td>\n",
       "      <td>NaN</td>\n",
       "      <td>0.000000</td>\n",
       "      <td>...</td>\n",
       "      <td>NaN</td>\n",
       "      <td>NaN</td>\n",
       "      <td>NaN</td>\n",
       "      <td>NaN</td>\n",
       "      <td>a</td>\n",
       "      <td>NaN</td>\n",
       "      <td>NaN</td>\n",
       "      <td>NaN</td>\n",
       "      <td>NaN</td>\n",
       "      <td>NaN</td>\n",
       "    </tr>\n",
       "    <tr>\n",
       "      <th>1997</th>\n",
       "      <td>4035</td>\n",
       "      <td>a</td>\n",
       "      <td>NaN</td>\n",
       "      <td>NaN</td>\n",
       "      <td>0.038770</td>\n",
       "      <td>NaN</td>\n",
       "      <td>NaN</td>\n",
       "      <td>0.368421</td>\n",
       "      <td>NaN</td>\n",
       "      <td>NaN</td>\n",
       "      <td>...</td>\n",
       "      <td>NaN</td>\n",
       "      <td>NaN</td>\n",
       "      <td>NaN</td>\n",
       "      <td>NaN</td>\n",
       "      <td>a</td>\n",
       "      <td>NaN</td>\n",
       "      <td>b</td>\n",
       "      <td>NaN</td>\n",
       "      <td>NaN</td>\n",
       "      <td>NaN</td>\n",
       "    </tr>\n",
       "    <tr>\n",
       "      <th>1998</th>\n",
       "      <td>3640</td>\n",
       "      <td>b</td>\n",
       "      <td>NaN</td>\n",
       "      <td>NaN</td>\n",
       "      <td>0.039420</td>\n",
       "      <td>NaN</td>\n",
       "      <td>NaN</td>\n",
       "      <td>0.552632</td>\n",
       "      <td>NaN</td>\n",
       "      <td>NaN</td>\n",
       "      <td>...</td>\n",
       "      <td>NaN</td>\n",
       "      <td>NaN</td>\n",
       "      <td>NaN</td>\n",
       "      <td>NaN</td>\n",
       "      <td>a</td>\n",
       "      <td>NaN</td>\n",
       "      <td>NaN</td>\n",
       "      <td>NaN</td>\n",
       "      <td>NaN</td>\n",
       "      <td>NaN</td>\n",
       "    </tr>\n",
       "    <tr>\n",
       "      <th>1999</th>\n",
       "      <td>157</td>\n",
       "      <td>b</td>\n",
       "      <td>NaN</td>\n",
       "      <td>NaN</td>\n",
       "      <td>0.043535</td>\n",
       "      <td>NaN</td>\n",
       "      <td>NaN</td>\n",
       "      <td>0.421053</td>\n",
       "      <td>NaN</td>\n",
       "      <td>NaN</td>\n",
       "      <td>...</td>\n",
       "      <td>NaN</td>\n",
       "      <td>NaN</td>\n",
       "      <td>NaN</td>\n",
       "      <td>NaN</td>\n",
       "      <td>a</td>\n",
       "      <td>NaN</td>\n",
       "      <td>NaN</td>\n",
       "      <td>NaN</td>\n",
       "      <td>NaN</td>\n",
       "      <td>NaN</td>\n",
       "    </tr>\n",
       "  </tbody>\n",
       "</table>\n",
       "<p>2000 rows × 1379 columns</p>\n",
       "</div>"
      ],
      "text/plain": [
       "         id release  n_0000    n_0001    n_0002  n_0003  n_0004    n_0005  \\\n",
       "0      7957       a     NaN       NaN  0.029890     NaN     NaN  0.368421   \n",
       "1       693       c     NaN  0.452381  0.032164     NaN     NaN  0.421053   \n",
       "2     15558       c     NaN  0.547619  0.049166     NaN     NaN  0.500000   \n",
       "3     15614       a     NaN       NaN  0.048733     NaN     NaN  0.394737   \n",
       "4      8149       b     NaN       NaN  0.049924     NaN     NaN  0.368421   \n",
       "...     ...     ...     ...       ...       ...     ...     ...       ...   \n",
       "1995    200       b     NaN       NaN  0.014728     NaN     NaN  0.368421   \n",
       "1996  10876       a     NaN       NaN  0.052415     NaN     NaN  0.578947   \n",
       "1997   4035       a     NaN       NaN  0.038770     NaN     NaN  0.368421   \n",
       "1998   3640       b     NaN       NaN  0.039420     NaN     NaN  0.552632   \n",
       "1999    157       b     NaN       NaN  0.043535     NaN     NaN  0.421053   \n",
       "\n",
       "      n_0006    n_0007  ...  c_1368  c_1369  c_1370  c_1371  c_1372  c_1373  \\\n",
       "0        NaN       NaN  ...     NaN     NaN     NaN     NaN       a     NaN   \n",
       "1        0.0       NaN  ...     NaN     NaN     NaN     NaN       a     NaN   \n",
       "2        0.2       NaN  ...     NaN     NaN     NaN     NaN       a       e   \n",
       "3        NaN       NaN  ...     NaN     NaN     NaN     NaN       b     NaN   \n",
       "4        NaN       NaN  ...     NaN     NaN     NaN     NaN       a     NaN   \n",
       "...      ...       ...  ...     ...     ...     ...     ...     ...     ...   \n",
       "1995     NaN  0.059524  ...     NaN     NaN     NaN     NaN       a     NaN   \n",
       "1996     NaN  0.000000  ...     NaN     NaN     NaN     NaN       a     NaN   \n",
       "1997     NaN       NaN  ...     NaN     NaN     NaN     NaN       a     NaN   \n",
       "1998     NaN       NaN  ...     NaN     NaN     NaN     NaN       a     NaN   \n",
       "1999     NaN       NaN  ...     NaN     NaN     NaN     NaN       a     NaN   \n",
       "\n",
       "      c_1374  c_1375  c_1376  c_1377  \n",
       "0          q     NaN     NaN     NaN  \n",
       "1          x     NaN     NaN     NaN  \n",
       "2          b     NaN     NaN     NaN  \n",
       "3        NaN     NaN     NaN     NaN  \n",
       "4        NaN     NaN     NaN       b  \n",
       "...      ...     ...     ...     ...  \n",
       "1995     NaN     NaN     NaN     NaN  \n",
       "1996     NaN     NaN     NaN     NaN  \n",
       "1997       b     NaN     NaN     NaN  \n",
       "1998     NaN     NaN     NaN     NaN  \n",
       "1999     NaN     NaN     NaN     NaN  \n",
       "\n",
       "[2000 rows x 1379 columns]"
      ]
     },
     "execution_count": 25,
     "metadata": {},
     "output_type": "execute_result"
    }
   ],
   "source": [
    "test_df = pd.read_csv(\"./data/problem_test.csv\", low_memory=False)\n",
    "test_df"
   ]
  },
  {
   "cell_type": "code",
   "execution_count": 26,
   "metadata": {},
   "outputs": [
    {
     "data": {
      "text/html": [
       "<div>\n",
       "<style scoped>\n",
       "    .dataframe tbody tr th:only-of-type {\n",
       "        vertical-align: middle;\n",
       "    }\n",
       "\n",
       "    .dataframe tbody tr th {\n",
       "        vertical-align: top;\n",
       "    }\n",
       "\n",
       "    .dataframe thead th {\n",
       "        text-align: right;\n",
       "    }\n",
       "</style>\n",
       "<table border=\"1\" class=\"dataframe\">\n",
       "  <thead>\n",
       "    <tr style=\"text-align: right;\">\n",
       "      <th></th>\n",
       "      <th>id</th>\n",
       "      <th>release</th>\n",
       "      <th>n_0000</th>\n",
       "      <th>n_0001</th>\n",
       "      <th>n_0002</th>\n",
       "      <th>n_0003</th>\n",
       "      <th>n_0004</th>\n",
       "      <th>n_0005</th>\n",
       "      <th>n_0006</th>\n",
       "      <th>n_0007</th>\n",
       "      <th>...</th>\n",
       "      <th>c_1368</th>\n",
       "      <th>c_1369</th>\n",
       "      <th>c_1370</th>\n",
       "      <th>c_1371</th>\n",
       "      <th>c_1372</th>\n",
       "      <th>c_1373</th>\n",
       "      <th>c_1374</th>\n",
       "      <th>c_1375</th>\n",
       "      <th>c_1376</th>\n",
       "      <th>c_1377</th>\n",
       "    </tr>\n",
       "  </thead>\n",
       "  <tbody>\n",
       "    <tr>\n",
       "      <th>count</th>\n",
       "      <td>2000.000000</td>\n",
       "      <td>2000</td>\n",
       "      <td>2.000000</td>\n",
       "      <td>116.000000</td>\n",
       "      <td>1904.000000</td>\n",
       "      <td>20.000000</td>\n",
       "      <td>14.000000</td>\n",
       "      <td>1903.000000</td>\n",
       "      <td>373.000000</td>\n",
       "      <td>258.000000</td>\n",
       "      <td>...</td>\n",
       "      <td>0.0</td>\n",
       "      <td>12</td>\n",
       "      <td>109</td>\n",
       "      <td>0.0</td>\n",
       "      <td>1999</td>\n",
       "      <td>108</td>\n",
       "      <td>779</td>\n",
       "      <td>149</td>\n",
       "      <td>1</td>\n",
       "      <td>495</td>\n",
       "    </tr>\n",
       "    <tr>\n",
       "      <th>unique</th>\n",
       "      <td>NaN</td>\n",
       "      <td>3</td>\n",
       "      <td>NaN</td>\n",
       "      <td>NaN</td>\n",
       "      <td>NaN</td>\n",
       "      <td>NaN</td>\n",
       "      <td>NaN</td>\n",
       "      <td>NaN</td>\n",
       "      <td>NaN</td>\n",
       "      <td>NaN</td>\n",
       "      <td>...</td>\n",
       "      <td>NaN</td>\n",
       "      <td>7</td>\n",
       "      <td>2</td>\n",
       "      <td>NaN</td>\n",
       "      <td>2</td>\n",
       "      <td>5</td>\n",
       "      <td>13</td>\n",
       "      <td>15</td>\n",
       "      <td>1</td>\n",
       "      <td>2</td>\n",
       "    </tr>\n",
       "    <tr>\n",
       "      <th>top</th>\n",
       "      <td>NaN</td>\n",
       "      <td>a</td>\n",
       "      <td>NaN</td>\n",
       "      <td>NaN</td>\n",
       "      <td>NaN</td>\n",
       "      <td>NaN</td>\n",
       "      <td>NaN</td>\n",
       "      <td>NaN</td>\n",
       "      <td>NaN</td>\n",
       "      <td>NaN</td>\n",
       "      <td>...</td>\n",
       "      <td>NaN</td>\n",
       "      <td>m</td>\n",
       "      <td>b</td>\n",
       "      <td>NaN</td>\n",
       "      <td>a</td>\n",
       "      <td>a</td>\n",
       "      <td>b</td>\n",
       "      <td>j</td>\n",
       "      <td>a</td>\n",
       "      <td>b</td>\n",
       "    </tr>\n",
       "    <tr>\n",
       "      <th>freq</th>\n",
       "      <td>NaN</td>\n",
       "      <td>940</td>\n",
       "      <td>NaN</td>\n",
       "      <td>NaN</td>\n",
       "      <td>NaN</td>\n",
       "      <td>NaN</td>\n",
       "      <td>NaN</td>\n",
       "      <td>NaN</td>\n",
       "      <td>NaN</td>\n",
       "      <td>NaN</td>\n",
       "      <td>...</td>\n",
       "      <td>NaN</td>\n",
       "      <td>4</td>\n",
       "      <td>91</td>\n",
       "      <td>NaN</td>\n",
       "      <td>1841</td>\n",
       "      <td>41</td>\n",
       "      <td>391</td>\n",
       "      <td>53</td>\n",
       "      <td>1</td>\n",
       "      <td>372</td>\n",
       "    </tr>\n",
       "    <tr>\n",
       "      <th>mean</th>\n",
       "      <td>9166.887500</td>\n",
       "      <td>NaN</td>\n",
       "      <td>0.384615</td>\n",
       "      <td>0.658046</td>\n",
       "      <td>0.041033</td>\n",
       "      <td>0.107341</td>\n",
       "      <td>0.295238</td>\n",
       "      <td>0.397157</td>\n",
       "      <td>0.213405</td>\n",
       "      <td>0.009690</td>\n",
       "      <td>...</td>\n",
       "      <td>NaN</td>\n",
       "      <td>NaN</td>\n",
       "      <td>NaN</td>\n",
       "      <td>NaN</td>\n",
       "      <td>NaN</td>\n",
       "      <td>NaN</td>\n",
       "      <td>NaN</td>\n",
       "      <td>NaN</td>\n",
       "      <td>NaN</td>\n",
       "      <td>NaN</td>\n",
       "    </tr>\n",
       "    <tr>\n",
       "      <th>std</th>\n",
       "      <td>5322.849729</td>\n",
       "      <td>NaN</td>\n",
       "      <td>0.217571</td>\n",
       "      <td>0.208902</td>\n",
       "      <td>0.024645</td>\n",
       "      <td>0.166684</td>\n",
       "      <td>0.188043</td>\n",
       "      <td>0.084669</td>\n",
       "      <td>0.252157</td>\n",
       "      <td>0.018267</td>\n",
       "      <td>...</td>\n",
       "      <td>NaN</td>\n",
       "      <td>NaN</td>\n",
       "      <td>NaN</td>\n",
       "      <td>NaN</td>\n",
       "      <td>NaN</td>\n",
       "      <td>NaN</td>\n",
       "      <td>NaN</td>\n",
       "      <td>NaN</td>\n",
       "      <td>NaN</td>\n",
       "      <td>NaN</td>\n",
       "    </tr>\n",
       "    <tr>\n",
       "      <th>min</th>\n",
       "      <td>23.000000</td>\n",
       "      <td>NaN</td>\n",
       "      <td>0.230769</td>\n",
       "      <td>0.000000</td>\n",
       "      <td>0.006714</td>\n",
       "      <td>0.000000</td>\n",
       "      <td>0.066667</td>\n",
       "      <td>0.026316</td>\n",
       "      <td>0.000000</td>\n",
       "      <td>0.000000</td>\n",
       "      <td>...</td>\n",
       "      <td>NaN</td>\n",
       "      <td>NaN</td>\n",
       "      <td>NaN</td>\n",
       "      <td>NaN</td>\n",
       "      <td>NaN</td>\n",
       "      <td>NaN</td>\n",
       "      <td>NaN</td>\n",
       "      <td>NaN</td>\n",
       "      <td>NaN</td>\n",
       "      <td>NaN</td>\n",
       "    </tr>\n",
       "    <tr>\n",
       "      <th>25%</th>\n",
       "      <td>4502.500000</td>\n",
       "      <td>NaN</td>\n",
       "      <td>0.307692</td>\n",
       "      <td>0.452381</td>\n",
       "      <td>0.032164</td>\n",
       "      <td>0.025794</td>\n",
       "      <td>0.141667</td>\n",
       "      <td>0.342105</td>\n",
       "      <td>0.000000</td>\n",
       "      <td>0.000000</td>\n",
       "      <td>...</td>\n",
       "      <td>NaN</td>\n",
       "      <td>NaN</td>\n",
       "      <td>NaN</td>\n",
       "      <td>NaN</td>\n",
       "      <td>NaN</td>\n",
       "      <td>NaN</td>\n",
       "      <td>NaN</td>\n",
       "      <td>NaN</td>\n",
       "      <td>NaN</td>\n",
       "      <td>NaN</td>\n",
       "    </tr>\n",
       "    <tr>\n",
       "      <th>50%</th>\n",
       "      <td>9236.000000</td>\n",
       "      <td>NaN</td>\n",
       "      <td>0.384615</td>\n",
       "      <td>0.678571</td>\n",
       "      <td>0.041585</td>\n",
       "      <td>0.063492</td>\n",
       "      <td>0.283333</td>\n",
       "      <td>0.394737</td>\n",
       "      <td>0.200000</td>\n",
       "      <td>0.000000</td>\n",
       "      <td>...</td>\n",
       "      <td>NaN</td>\n",
       "      <td>NaN</td>\n",
       "      <td>NaN</td>\n",
       "      <td>NaN</td>\n",
       "      <td>NaN</td>\n",
       "      <td>NaN</td>\n",
       "      <td>NaN</td>\n",
       "      <td>NaN</td>\n",
       "      <td>NaN</td>\n",
       "      <td>NaN</td>\n",
       "    </tr>\n",
       "    <tr>\n",
       "      <th>75%</th>\n",
       "      <td>13802.250000</td>\n",
       "      <td>NaN</td>\n",
       "      <td>0.461538</td>\n",
       "      <td>0.857143</td>\n",
       "      <td>0.049085</td>\n",
       "      <td>0.105159</td>\n",
       "      <td>0.391667</td>\n",
       "      <td>0.421053</td>\n",
       "      <td>0.400000</td>\n",
       "      <td>0.011905</td>\n",
       "      <td>...</td>\n",
       "      <td>NaN</td>\n",
       "      <td>NaN</td>\n",
       "      <td>NaN</td>\n",
       "      <td>NaN</td>\n",
       "      <td>NaN</td>\n",
       "      <td>NaN</td>\n",
       "      <td>NaN</td>\n",
       "      <td>NaN</td>\n",
       "      <td>NaN</td>\n",
       "      <td>NaN</td>\n",
       "    </tr>\n",
       "    <tr>\n",
       "      <th>max</th>\n",
       "      <td>18296.000000</td>\n",
       "      <td>NaN</td>\n",
       "      <td>0.538462</td>\n",
       "      <td>0.976190</td>\n",
       "      <td>1.000000</td>\n",
       "      <td>0.714286</td>\n",
       "      <td>0.700000</td>\n",
       "      <td>0.947368</td>\n",
       "      <td>1.000000</td>\n",
       "      <td>0.166667</td>\n",
       "      <td>...</td>\n",
       "      <td>NaN</td>\n",
       "      <td>NaN</td>\n",
       "      <td>NaN</td>\n",
       "      <td>NaN</td>\n",
       "      <td>NaN</td>\n",
       "      <td>NaN</td>\n",
       "      <td>NaN</td>\n",
       "      <td>NaN</td>\n",
       "      <td>NaN</td>\n",
       "      <td>NaN</td>\n",
       "    </tr>\n",
       "  </tbody>\n",
       "</table>\n",
       "<p>11 rows × 1379 columns</p>\n",
       "</div>"
      ],
      "text/plain": [
       "                  id release    n_0000      n_0001       n_0002     n_0003  \\\n",
       "count    2000.000000    2000  2.000000  116.000000  1904.000000  20.000000   \n",
       "unique           NaN       3       NaN         NaN          NaN        NaN   \n",
       "top              NaN       a       NaN         NaN          NaN        NaN   \n",
       "freq             NaN     940       NaN         NaN          NaN        NaN   \n",
       "mean     9166.887500     NaN  0.384615    0.658046     0.041033   0.107341   \n",
       "std      5322.849729     NaN  0.217571    0.208902     0.024645   0.166684   \n",
       "min        23.000000     NaN  0.230769    0.000000     0.006714   0.000000   \n",
       "25%      4502.500000     NaN  0.307692    0.452381     0.032164   0.025794   \n",
       "50%      9236.000000     NaN  0.384615    0.678571     0.041585   0.063492   \n",
       "75%     13802.250000     NaN  0.461538    0.857143     0.049085   0.105159   \n",
       "max     18296.000000     NaN  0.538462    0.976190     1.000000   0.714286   \n",
       "\n",
       "           n_0004       n_0005      n_0006      n_0007  ...  c_1368  c_1369  \\\n",
       "count   14.000000  1903.000000  373.000000  258.000000  ...     0.0      12   \n",
       "unique        NaN          NaN         NaN         NaN  ...     NaN       7   \n",
       "top           NaN          NaN         NaN         NaN  ...     NaN       m   \n",
       "freq          NaN          NaN         NaN         NaN  ...     NaN       4   \n",
       "mean     0.295238     0.397157    0.213405    0.009690  ...     NaN     NaN   \n",
       "std      0.188043     0.084669    0.252157    0.018267  ...     NaN     NaN   \n",
       "min      0.066667     0.026316    0.000000    0.000000  ...     NaN     NaN   \n",
       "25%      0.141667     0.342105    0.000000    0.000000  ...     NaN     NaN   \n",
       "50%      0.283333     0.394737    0.200000    0.000000  ...     NaN     NaN   \n",
       "75%      0.391667     0.421053    0.400000    0.011905  ...     NaN     NaN   \n",
       "max      0.700000     0.947368    1.000000    0.166667  ...     NaN     NaN   \n",
       "\n",
       "        c_1370  c_1371  c_1372  c_1373  c_1374  c_1375  c_1376  c_1377  \n",
       "count      109     0.0    1999     108     779     149       1     495  \n",
       "unique       2     NaN       2       5      13      15       1       2  \n",
       "top          b     NaN       a       a       b       j       a       b  \n",
       "freq        91     NaN    1841      41     391      53       1     372  \n",
       "mean       NaN     NaN     NaN     NaN     NaN     NaN     NaN     NaN  \n",
       "std        NaN     NaN     NaN     NaN     NaN     NaN     NaN     NaN  \n",
       "min        NaN     NaN     NaN     NaN     NaN     NaN     NaN     NaN  \n",
       "25%        NaN     NaN     NaN     NaN     NaN     NaN     NaN     NaN  \n",
       "50%        NaN     NaN     NaN     NaN     NaN     NaN     NaN     NaN  \n",
       "75%        NaN     NaN     NaN     NaN     NaN     NaN     NaN     NaN  \n",
       "max        NaN     NaN     NaN     NaN     NaN     NaN     NaN     NaN  \n",
       "\n",
       "[11 rows x 1379 columns]"
      ]
     },
     "execution_count": 26,
     "metadata": {},
     "output_type": "execute_result"
    }
   ],
   "source": [
    "test_desc = test_df.describe(include=\"all\")\n",
    "test_desc"
   ]
  },
  {
   "cell_type": "code",
   "execution_count": 27,
   "metadata": {},
   "outputs": [
    {
     "data": {
      "text/plain": [
       "Index(['n_0008', 'n_0011', 'n_0055', 'n_0101', 'n_0111', 'o_0117', 'o_0121',\n",
       "       'o_0122', 'o_0126', 'o_0149',\n",
       "       ...\n",
       "       'c_1288', 'c_1292', 'c_1308', 'c_1312', 'c_1332', 'c_1334', 'c_1349',\n",
       "       'c_1360', 'c_1368', 'c_1371'],\n",
       "      dtype='object', length=179)"
      ]
     },
     "execution_count": 27,
     "metadata": {},
     "output_type": "execute_result"
    }
   ],
   "source": [
    "test_na_cols = test_desc.loc[\"count\"][test_desc.loc[\"count\"] == 0].index\n",
    "test_na_cols"
   ]
  },
  {
   "cell_type": "markdown",
   "metadata": {},
   "source": [
    "Тут уже много фичей неопределено"
   ]
  },
  {
   "cell_type": "markdown",
   "metadata": {},
   "source": [
    "#### Удостоверимся, что у нас одинаковые фичи там и там"
   ]
  },
  {
   "cell_type": "code",
   "execution_count": 28,
   "metadata": {},
   "outputs": [
    {
     "data": {
      "text/plain": [
       "Index(['id', 'release', 'n_0000', 'n_0001', 'n_0002', 'n_0003', 'n_0004',\n",
       "       'n_0005', 'n_0006', 'n_0007',\n",
       "       ...\n",
       "       'c_1368', 'c_1369', 'c_1370', 'c_1371', 'c_1372', 'c_1373', 'c_1374',\n",
       "       'c_1375', 'c_1376', 'c_1377'],\n",
       "      dtype='object', length=1379)"
      ]
     },
     "execution_count": 28,
     "metadata": {},
     "output_type": "execute_result"
    }
   ],
   "source": [
    "train_df.columns.intersection(test_df.columns)"
   ]
  },
  {
   "cell_type": "code",
   "execution_count": null,
   "metadata": {},
   "outputs": [],
   "source": []
  }
 ],
 "metadata": {
  "kernelspec": {
   "display_name": "Python 3.9.12 ('.venv': venv)",
   "language": "python",
   "name": "python3"
  },
  "language_info": {
   "codemirror_mode": {
    "name": "ipython",
    "version": 3
   },
   "file_extension": ".py",
   "mimetype": "text/x-python",
   "name": "python",
   "nbconvert_exporter": "python",
   "pygments_lexer": "ipython3",
   "version": "3.9.12"
  },
  "orig_nbformat": 4,
  "vscode": {
   "interpreter": {
    "hash": "787916fbffaf37388ff98c1bd1131ec0bcbfc3d9d65a17da37bcef2262b30c90"
   }
  }
 },
 "nbformat": 4,
 "nbformat_minor": 2
}
