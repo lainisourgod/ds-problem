{
 "cells": [
  {
   "attachments": {},
   "cell_type": "markdown",
   "metadata": {},
   "source": [
    "У нас есть фичи, в которых очень много пропусков.\n",
    "\n",
    "И есть лейблы, в которых очень много нулей.\n",
    "\n",
    "Может быть, тут есть связь?"
   ]
  },
  {
   "cell_type": "code",
   "execution_count": 8,
   "metadata": {},
   "outputs": [],
   "source": [
    "import numpy as np\n",
    "import pandas as pd\n",
    "import sklearn\n",
    "\n",
    "from sklearn import metrics\n",
    "from sklearn.model_selection import train_test_split, cross_val_score\n",
    "from sklearn.impute import SimpleImputer\n",
    "from sklearn.linear_model import LogisticRegression\n",
    "from sklearn.ensemble import RandomForestClassifier\n",
    "from sklearn.multioutput import MultiOutputClassifier"
   ]
  },
  {
   "cell_type": "code",
   "execution_count": 33,
   "metadata": {},
   "outputs": [],
   "source": [
    "from IPython.core.display import HTML\n",
    "\n",
    "HTML(\n",
    "    r\"\"\"\n",
    "<style>\n",
    "    .output-plaintext, .output-stream, .output {\n",
    "        font-family: \"JetBrainsMono Nerd Font Mono\"; # Any monospaced font should work\n",
    "    }\n",
    "</style>\n",
    "\"\"\"\n",
    ")\n",
    "\n",
    "np.set_printoptions(precision=2)\n",
    "pd.set_option(\"display.precision\", 2)\n",
    "pd.set_option(\"display.float_format\", \"{:.2f}\".format)\n",
    "seed = 42"
   ]
  },
  {
   "cell_type": "code",
   "execution_count": 5,
   "metadata": {},
   "outputs": [],
   "source": [
    "train_df = pd.read_csv(\"./data/prepared/train.csv\", low_memory=False).drop(\n",
    "    columns=[\"id\"]\n",
    ")\n",
    "test_df = pd.read_csv(\"./data/prepared/test.csv\", low_memory=False).drop(columns=[\"id\"])\n",
    "train_labels_df = pd.read_csv(\n",
    "    \"./data/prepared/train_labels.csv\", low_memory=False\n",
    ").drop(columns=[\"id\"])"
   ]
  },
  {
   "cell_type": "code",
   "execution_count": 4,
   "metadata": {},
   "outputs": [
    {
     "data": {
      "text/plain": [
       "release      8000\n",
       "n_0000       12.0\n",
       "n_0001      388.0\n",
       "n_0002     7662.0\n",
       "n_0003      112.0\n",
       "            ...  \n",
       "c_1373        440\n",
       "c_1374       3155\n",
       "c_1375        563\n",
       "c_1376          7\n",
       "c_1377       1908\n",
       "Name: count, Length: 1194, dtype: object"
      ]
     },
     "execution_count": 4,
     "metadata": {},
     "output_type": "execute_result"
    }
   ],
   "source": [
    "train_counts = train_df.describe(include=\"all\").loc[\"count\"]\n",
    "train_counts"
   ]
  },
  {
   "attachments": {},
   "cell_type": "markdown",
   "metadata": {},
   "source": [
    "И как я это буду проверятть?"
   ]
  },
  {
   "cell_type": "code",
   "execution_count": 7,
   "metadata": {},
   "outputs": [
    {
     "data": {
      "text/html": [
       "<div>\n",
       "<style scoped>\n",
       "    .dataframe tbody tr th:only-of-type {\n",
       "        vertical-align: middle;\n",
       "    }\n",
       "\n",
       "    .dataframe tbody tr th {\n",
       "        vertical-align: top;\n",
       "    }\n",
       "\n",
       "    .dataframe thead th {\n",
       "        text-align: right;\n",
       "    }\n",
       "</style>\n",
       "<table border=\"1\" class=\"dataframe\">\n",
       "  <thead>\n",
       "    <tr style=\"text-align: right;\">\n",
       "      <th></th>\n",
       "      <th>service_a</th>\n",
       "      <th>service_b</th>\n",
       "      <th>service_c</th>\n",
       "      <th>service_d</th>\n",
       "      <th>service_e</th>\n",
       "      <th>service_f</th>\n",
       "      <th>service_g</th>\n",
       "      <th>service_h</th>\n",
       "      <th>service_i</th>\n",
       "      <th>service_j</th>\n",
       "      <th>service_k</th>\n",
       "      <th>service_l</th>\n",
       "      <th>service_m</th>\n",
       "      <th>service_n</th>\n",
       "    </tr>\n",
       "  </thead>\n",
       "  <tbody>\n",
       "    <tr>\n",
       "      <th>0</th>\n",
       "      <td>4223</td>\n",
       "      <td>5374</td>\n",
       "      <td>5907</td>\n",
       "      <td>7864</td>\n",
       "      <td>7569</td>\n",
       "      <td>7767</td>\n",
       "      <td>7585</td>\n",
       "      <td>5624</td>\n",
       "      <td>7871</td>\n",
       "      <td>1214</td>\n",
       "      <td>1744</td>\n",
       "      <td>7136</td>\n",
       "      <td>7291</td>\n",
       "      <td>6576</td>\n",
       "    </tr>\n",
       "    <tr>\n",
       "      <th>1</th>\n",
       "      <td>3777</td>\n",
       "      <td>2626</td>\n",
       "      <td>2093</td>\n",
       "      <td>136</td>\n",
       "      <td>431</td>\n",
       "      <td>233</td>\n",
       "      <td>415</td>\n",
       "      <td>2376</td>\n",
       "      <td>129</td>\n",
       "      <td>6786</td>\n",
       "      <td>6256</td>\n",
       "      <td>864</td>\n",
       "      <td>709</td>\n",
       "      <td>1424</td>\n",
       "    </tr>\n",
       "  </tbody>\n",
       "</table>\n",
       "</div>"
      ],
      "text/plain": [
       "   service_a  service_b  service_c  service_d  service_e  service_f  \\\n",
       "0       4223       5374       5907       7864       7569       7767   \n",
       "1       3777       2626       2093        136        431        233   \n",
       "\n",
       "   service_g  service_h  service_i  service_j  service_k  service_l  \\\n",
       "0       7585       5624       7871       1214       1744       7136   \n",
       "1        415       2376        129       6786       6256        864   \n",
       "\n",
       "   service_m  service_n  \n",
       "0       7291       6576  \n",
       "1        709       1424  "
      ]
     },
     "execution_count": 7,
     "metadata": {},
     "output_type": "execute_result"
    }
   ],
   "source": [
    "train_labels_df.apply(pd.value_counts)"
   ]
  },
  {
   "attachments": {},
   "cell_type": "markdown",
   "metadata": {},
   "source": [
    "Возьмем в качестве жертвы `service_i`"
   ]
  },
  {
   "cell_type": "code",
   "execution_count": 16,
   "metadata": {},
   "outputs": [
    {
     "data": {
      "text/plain": [
       "n_0007    0.15\n",
       "n_0023    0.47\n",
       "n_0036    0.30\n",
       "n_0095    0.39\n",
       "o_0130    0.13\n",
       "o_0148    0.14\n",
       "o_0160    0.18\n",
       "o_0207    0.14\n",
       "o_0222    0.14\n",
       "o_0295    0.11\n",
       "Name: service_i, dtype: float64"
      ]
     },
     "execution_count": 16,
     "metadata": {},
     "output_type": "execute_result"
    }
   ],
   "source": [
    "temp = train_df.copy()\n",
    "temp[\"service_i\"] = train_labels_df[\"service_i\"]\n",
    "label_corr = temp.corr(numeric_only=True)[\"service_i\"].drop(labels=[\"service_i\"])\n",
    "label_corr[label_corr > 0.1]"
   ]
  },
  {
   "attachments": {},
   "cell_type": "markdown",
   "metadata": {},
   "source": [
    " у n_0023 достаточно высокая корреляция 🤔"
   ]
  },
  {
   "cell_type": "code",
   "execution_count": 17,
   "metadata": {},
   "outputs": [
    {
     "data": {
      "text/plain": [
       "0.0    18\n",
       "0.5     4\n",
       "1.0     3\n",
       "Name: n_0023, dtype: int64"
      ]
     },
     "execution_count": 17,
     "metadata": {},
     "output_type": "execute_result"
    }
   ],
   "source": [
    "train_df[\"n_0023\"].value_counts()"
   ]
  },
  {
   "attachments": {},
   "cell_type": "markdown",
   "metadata": {},
   "source": [
    "При этом он очень плохо представлен — 25 из 8000"
   ]
  },
  {
   "cell_type": "code",
   "execution_count": 21,
   "metadata": {},
   "outputs": [
    {
     "data": {
      "text/plain": [
       "n_0007     995\n",
       "n_0023      25\n",
       "n_0036      55\n",
       "n_0095    1684\n",
       "o_0130      38\n",
       "o_0148     109\n",
       "o_0160      39\n",
       "o_0207      32\n",
       "o_0222     146\n",
       "o_0295     102\n",
       "dtype: int64"
      ]
     },
     "execution_count": 21,
     "metadata": {},
     "output_type": "execute_result"
    }
   ],
   "source": [
    "train_df[label_corr[label_corr > 0.1].index].count()"
   ]
  },
  {
   "attachments": {},
   "cell_type": "markdown",
   "metadata": {},
   "source": [
    "## попробуем добавить в датасет feature_is_na"
   ]
  },
  {
   "cell_type": "code",
   "execution_count": 7,
   "metadata": {},
   "outputs": [],
   "source": [
    "data = pd.get_dummies(train_df)\n",
    "data = SimpleImputer(add_indicator=True).fit_transform(data)"
   ]
  },
  {
   "cell_type": "code",
   "execution_count": 15,
   "metadata": {},
   "outputs": [
    {
     "data": {
      "text/plain": [
       "(8000, 5605)"
      ]
     },
     "execution_count": 15,
     "metadata": {},
     "output_type": "execute_result"
    }
   ],
   "source": [
    "pd.get_dummies(train_df).shape"
   ]
  },
  {
   "cell_type": "code",
   "execution_count": 14,
   "metadata": {},
   "outputs": [
    {
     "data": {
      "text/plain": [
       "(8000, 5876)"
      ]
     },
     "execution_count": 14,
     "metadata": {},
     "output_type": "execute_result"
    }
   ],
   "source": [
    "data.shape"
   ]
  },
  {
   "cell_type": "code",
   "execution_count": 16,
   "metadata": {},
   "outputs": [
    {
     "data": {
      "text/html": [
       "<style>#sk-container-id-2 {color: black;background-color: white;}#sk-container-id-2 pre{padding: 0;}#sk-container-id-2 div.sk-toggleable {background-color: white;}#sk-container-id-2 label.sk-toggleable__label {cursor: pointer;display: block;width: 100%;margin-bottom: 0;padding: 0.3em;box-sizing: border-box;text-align: center;}#sk-container-id-2 label.sk-toggleable__label-arrow:before {content: \"▸\";float: left;margin-right: 0.25em;color: #696969;}#sk-container-id-2 label.sk-toggleable__label-arrow:hover:before {color: black;}#sk-container-id-2 div.sk-estimator:hover label.sk-toggleable__label-arrow:before {color: black;}#sk-container-id-2 div.sk-toggleable__content {max-height: 0;max-width: 0;overflow: hidden;text-align: left;background-color: #f0f8ff;}#sk-container-id-2 div.sk-toggleable__content pre {margin: 0.2em;color: black;border-radius: 0.25em;background-color: #f0f8ff;}#sk-container-id-2 input.sk-toggleable__control:checked~div.sk-toggleable__content {max-height: 200px;max-width: 100%;overflow: auto;}#sk-container-id-2 input.sk-toggleable__control:checked~label.sk-toggleable__label-arrow:before {content: \"▾\";}#sk-container-id-2 div.sk-estimator input.sk-toggleable__control:checked~label.sk-toggleable__label {background-color: #d4ebff;}#sk-container-id-2 div.sk-label input.sk-toggleable__control:checked~label.sk-toggleable__label {background-color: #d4ebff;}#sk-container-id-2 input.sk-hidden--visually {border: 0;clip: rect(1px 1px 1px 1px);clip: rect(1px, 1px, 1px, 1px);height: 1px;margin: -1px;overflow: hidden;padding: 0;position: absolute;width: 1px;}#sk-container-id-2 div.sk-estimator {font-family: monospace;background-color: #f0f8ff;border: 1px dotted black;border-radius: 0.25em;box-sizing: border-box;margin-bottom: 0.5em;}#sk-container-id-2 div.sk-estimator:hover {background-color: #d4ebff;}#sk-container-id-2 div.sk-parallel-item::after {content: \"\";width: 100%;border-bottom: 1px solid gray;flex-grow: 1;}#sk-container-id-2 div.sk-label:hover label.sk-toggleable__label {background-color: #d4ebff;}#sk-container-id-2 div.sk-serial::before {content: \"\";position: absolute;border-left: 1px solid gray;box-sizing: border-box;top: 0;bottom: 0;left: 50%;z-index: 0;}#sk-container-id-2 div.sk-serial {display: flex;flex-direction: column;align-items: center;background-color: white;padding-right: 0.2em;padding-left: 0.2em;position: relative;}#sk-container-id-2 div.sk-item {position: relative;z-index: 1;}#sk-container-id-2 div.sk-parallel {display: flex;align-items: stretch;justify-content: center;background-color: white;position: relative;}#sk-container-id-2 div.sk-item::before, #sk-container-id-2 div.sk-parallel-item::before {content: \"\";position: absolute;border-left: 1px solid gray;box-sizing: border-box;top: 0;bottom: 0;left: 50%;z-index: -1;}#sk-container-id-2 div.sk-parallel-item {display: flex;flex-direction: column;z-index: 1;position: relative;background-color: white;}#sk-container-id-2 div.sk-parallel-item:first-child::after {align-self: flex-end;width: 50%;}#sk-container-id-2 div.sk-parallel-item:last-child::after {align-self: flex-start;width: 50%;}#sk-container-id-2 div.sk-parallel-item:only-child::after {width: 0;}#sk-container-id-2 div.sk-dashed-wrapped {border: 1px dashed gray;margin: 0 0.4em 0.5em 0.4em;box-sizing: border-box;padding-bottom: 0.4em;background-color: white;}#sk-container-id-2 div.sk-label label {font-family: monospace;font-weight: bold;display: inline-block;line-height: 1.2em;}#sk-container-id-2 div.sk-label-container {text-align: center;}#sk-container-id-2 div.sk-container {/* jupyter's `normalize.less` sets `[hidden] { display: none; }` but bootstrap.min.css set `[hidden] { display: none !important; }` so we also need the `!important` here to be able to override the default hidden behavior on the sphinx rendered scikit-learn.org. See: https://github.com/scikit-learn/scikit-learn/issues/21755 */display: inline-block !important;position: relative;}#sk-container-id-2 div.sk-text-repr-fallback {display: none;}</style><div id=\"sk-container-id-2\" class=\"sk-top-container\"><div class=\"sk-text-repr-fallback\"><pre>MultiOutputClassifier(estimator=LogisticRegression(random_state=42,\n",
       "                                                   solver=&#x27;liblinear&#x27;))</pre><b>In a Jupyter environment, please rerun this cell to show the HTML representation or trust the notebook. <br />On GitHub, the HTML representation is unable to render, please try loading this page with nbviewer.org.</b></div><div class=\"sk-container\" hidden><div class=\"sk-item sk-dashed-wrapped\"><div class=\"sk-label-container\"><div class=\"sk-label sk-toggleable\"><input class=\"sk-toggleable__control sk-hidden--visually\" id=\"sk-estimator-id-2\" type=\"checkbox\" ><label for=\"sk-estimator-id-2\" class=\"sk-toggleable__label sk-toggleable__label-arrow\">MultiOutputClassifier</label><div class=\"sk-toggleable__content\"><pre>MultiOutputClassifier(estimator=LogisticRegression(random_state=42,\n",
       "                                                   solver=&#x27;liblinear&#x27;))</pre></div></div></div><div class=\"sk-parallel\"><div class=\"sk-parallel-item\"><div class=\"sk-item\"><div class=\"sk-label-container\"><div class=\"sk-label sk-toggleable\"><input class=\"sk-toggleable__control sk-hidden--visually\" id=\"sk-estimator-id-3\" type=\"checkbox\" ><label for=\"sk-estimator-id-3\" class=\"sk-toggleable__label sk-toggleable__label-arrow\">estimator: LogisticRegression</label><div class=\"sk-toggleable__content\"><pre>LogisticRegression(random_state=42, solver=&#x27;liblinear&#x27;)</pre></div></div></div><div class=\"sk-serial\"><div class=\"sk-item\"><div class=\"sk-estimator sk-toggleable\"><input class=\"sk-toggleable__control sk-hidden--visually\" id=\"sk-estimator-id-4\" type=\"checkbox\" ><label for=\"sk-estimator-id-4\" class=\"sk-toggleable__label sk-toggleable__label-arrow\">LogisticRegression</label><div class=\"sk-toggleable__content\"><pre>LogisticRegression(random_state=42, solver=&#x27;liblinear&#x27;)</pre></div></div></div></div></div></div></div></div></div></div>"
      ],
      "text/plain": [
       "MultiOutputClassifier(estimator=LogisticRegression(random_state=42,\n",
       "                                                   solver='liblinear'))"
      ]
     },
     "execution_count": 16,
     "metadata": {},
     "output_type": "execute_result"
    }
   ],
   "source": [
    "clf.fit(data, train_labels_df)"
   ]
  },
  {
   "cell_type": "code",
   "execution_count": 20,
   "metadata": {},
   "outputs": [],
   "source": [
    "train_features, valid_features, train_targets, valid_targets = train_test_split(\n",
    "    data, train_labels_df, random_state=seed, test_size=0.2\n",
    ")"
   ]
  },
  {
   "cell_type": "code",
   "execution_count": 23,
   "metadata": {},
   "outputs": [
    {
     "data": {
      "text/plain": [
       "{'service_a': 0.55,\n",
       " 'service_b': 0.68,\n",
       " 'service_c': 0.74,\n",
       " 'service_d': 0.05,\n",
       " 'service_e': 0.29,\n",
       " 'service_f': 0.12,\n",
       " 'service_g': 0.35,\n",
       " 'service_h': 0.71,\n",
       " 'service_i': 0.1,\n",
       " 'service_j': 0.59,\n",
       " 'service_k': 0.71,\n",
       " 'service_l': 0.13,\n",
       " 'service_m': 0.15,\n",
       " 'service_n': 0.59}"
      ]
     },
     "execution_count": 23,
     "metadata": {},
     "output_type": "execute_result"
    }
   ],
   "source": [
    "clf = MultiOutputClassifier(LogisticRegression(solver=\"liblinear\", random_state=seed))\n",
    "clf.fit(train_features, train_targets)\n",
    "valid_probas = clf.predict_proba(valid_features)\n",
    "\n",
    "{\n",
    "    label: round(\n",
    "        metrics.log_loss(valid_targets.iloc[:, label_id], valid_probas[label_id]),\n",
    "        2,\n",
    "    )\n",
    "    for label_id, label in enumerate(train_labels_df.columns)\n",
    "}"
   ]
  },
  {
   "attachments": {},
   "cell_type": "markdown",
   "metadata": {},
   "source": [
    "работает плохо"
   ]
  },
  {
   "attachments": {},
   "cell_type": "markdown",
   "metadata": {},
   "source": [
    "## посмотрим на корреляцию между is_na и лейблами"
   ]
  },
  {
   "cell_type": "code",
   "execution_count": 26,
   "metadata": {},
   "outputs": [
    {
     "data": {
      "text/html": [
       "<div>\n",
       "<style scoped>\n",
       "    .dataframe tbody tr th:only-of-type {\n",
       "        vertical-align: middle;\n",
       "    }\n",
       "\n",
       "    .dataframe tbody tr th {\n",
       "        vertical-align: top;\n",
       "    }\n",
       "\n",
       "    .dataframe thead th {\n",
       "        text-align: right;\n",
       "    }\n",
       "</style>\n",
       "<table border=\"1\" class=\"dataframe\">\n",
       "  <thead>\n",
       "    <tr style=\"text-align: right;\">\n",
       "      <th></th>\n",
       "      <th>release</th>\n",
       "      <th>n_0000</th>\n",
       "      <th>n_0001</th>\n",
       "      <th>n_0002</th>\n",
       "      <th>n_0003</th>\n",
       "      <th>n_0004</th>\n",
       "      <th>n_0005</th>\n",
       "      <th>n_0006</th>\n",
       "      <th>n_0007</th>\n",
       "      <th>n_0009</th>\n",
       "      <th>...</th>\n",
       "      <th>c_1366</th>\n",
       "      <th>c_1367</th>\n",
       "      <th>c_1369</th>\n",
       "      <th>c_1370</th>\n",
       "      <th>c_1372</th>\n",
       "      <th>c_1373</th>\n",
       "      <th>c_1374</th>\n",
       "      <th>c_1375</th>\n",
       "      <th>c_1376</th>\n",
       "      <th>c_1377</th>\n",
       "    </tr>\n",
       "  </thead>\n",
       "  <tbody>\n",
       "    <tr>\n",
       "      <th>0</th>\n",
       "      <td>False</td>\n",
       "      <td>True</td>\n",
       "      <td>True</td>\n",
       "      <td>False</td>\n",
       "      <td>True</td>\n",
       "      <td>True</td>\n",
       "      <td>False</td>\n",
       "      <td>True</td>\n",
       "      <td>True</td>\n",
       "      <td>True</td>\n",
       "      <td>...</td>\n",
       "      <td>True</td>\n",
       "      <td>True</td>\n",
       "      <td>True</td>\n",
       "      <td>True</td>\n",
       "      <td>False</td>\n",
       "      <td>True</td>\n",
       "      <td>False</td>\n",
       "      <td>True</td>\n",
       "      <td>True</td>\n",
       "      <td>True</td>\n",
       "    </tr>\n",
       "    <tr>\n",
       "      <th>1</th>\n",
       "      <td>False</td>\n",
       "      <td>True</td>\n",
       "      <td>True</td>\n",
       "      <td>False</td>\n",
       "      <td>True</td>\n",
       "      <td>True</td>\n",
       "      <td>False</td>\n",
       "      <td>True</td>\n",
       "      <td>True</td>\n",
       "      <td>True</td>\n",
       "      <td>...</td>\n",
       "      <td>True</td>\n",
       "      <td>True</td>\n",
       "      <td>True</td>\n",
       "      <td>False</td>\n",
       "      <td>False</td>\n",
       "      <td>True</td>\n",
       "      <td>True</td>\n",
       "      <td>True</td>\n",
       "      <td>True</td>\n",
       "      <td>True</td>\n",
       "    </tr>\n",
       "    <tr>\n",
       "      <th>2</th>\n",
       "      <td>False</td>\n",
       "      <td>True</td>\n",
       "      <td>True</td>\n",
       "      <td>False</td>\n",
       "      <td>True</td>\n",
       "      <td>True</td>\n",
       "      <td>False</td>\n",
       "      <td>True</td>\n",
       "      <td>True</td>\n",
       "      <td>True</td>\n",
       "      <td>...</td>\n",
       "      <td>True</td>\n",
       "      <td>True</td>\n",
       "      <td>True</td>\n",
       "      <td>False</td>\n",
       "      <td>False</td>\n",
       "      <td>True</td>\n",
       "      <td>False</td>\n",
       "      <td>True</td>\n",
       "      <td>True</td>\n",
       "      <td>True</td>\n",
       "    </tr>\n",
       "    <tr>\n",
       "      <th>3</th>\n",
       "      <td>False</td>\n",
       "      <td>True</td>\n",
       "      <td>True</td>\n",
       "      <td>False</td>\n",
       "      <td>True</td>\n",
       "      <td>True</td>\n",
       "      <td>False</td>\n",
       "      <td>True</td>\n",
       "      <td>True</td>\n",
       "      <td>True</td>\n",
       "      <td>...</td>\n",
       "      <td>True</td>\n",
       "      <td>True</td>\n",
       "      <td>True</td>\n",
       "      <td>True</td>\n",
       "      <td>False</td>\n",
       "      <td>True</td>\n",
       "      <td>True</td>\n",
       "      <td>True</td>\n",
       "      <td>True</td>\n",
       "      <td>True</td>\n",
       "    </tr>\n",
       "    <tr>\n",
       "      <th>4</th>\n",
       "      <td>False</td>\n",
       "      <td>True</td>\n",
       "      <td>True</td>\n",
       "      <td>False</td>\n",
       "      <td>True</td>\n",
       "      <td>True</td>\n",
       "      <td>False</td>\n",
       "      <td>True</td>\n",
       "      <td>True</td>\n",
       "      <td>True</td>\n",
       "      <td>...</td>\n",
       "      <td>True</td>\n",
       "      <td>True</td>\n",
       "      <td>True</td>\n",
       "      <td>False</td>\n",
       "      <td>False</td>\n",
       "      <td>True</td>\n",
       "      <td>False</td>\n",
       "      <td>True</td>\n",
       "      <td>True</td>\n",
       "      <td>True</td>\n",
       "    </tr>\n",
       "    <tr>\n",
       "      <th>...</th>\n",
       "      <td>...</td>\n",
       "      <td>...</td>\n",
       "      <td>...</td>\n",
       "      <td>...</td>\n",
       "      <td>...</td>\n",
       "      <td>...</td>\n",
       "      <td>...</td>\n",
       "      <td>...</td>\n",
       "      <td>...</td>\n",
       "      <td>...</td>\n",
       "      <td>...</td>\n",
       "      <td>...</td>\n",
       "      <td>...</td>\n",
       "      <td>...</td>\n",
       "      <td>...</td>\n",
       "      <td>...</td>\n",
       "      <td>...</td>\n",
       "      <td>...</td>\n",
       "      <td>...</td>\n",
       "      <td>...</td>\n",
       "      <td>...</td>\n",
       "    </tr>\n",
       "    <tr>\n",
       "      <th>7995</th>\n",
       "      <td>False</td>\n",
       "      <td>True</td>\n",
       "      <td>True</td>\n",
       "      <td>False</td>\n",
       "      <td>True</td>\n",
       "      <td>True</td>\n",
       "      <td>False</td>\n",
       "      <td>True</td>\n",
       "      <td>True</td>\n",
       "      <td>True</td>\n",
       "      <td>...</td>\n",
       "      <td>False</td>\n",
       "      <td>True</td>\n",
       "      <td>True</td>\n",
       "      <td>True</td>\n",
       "      <td>False</td>\n",
       "      <td>True</td>\n",
       "      <td>True</td>\n",
       "      <td>True</td>\n",
       "      <td>True</td>\n",
       "      <td>False</td>\n",
       "    </tr>\n",
       "    <tr>\n",
       "      <th>7996</th>\n",
       "      <td>False</td>\n",
       "      <td>True</td>\n",
       "      <td>True</td>\n",
       "      <td>False</td>\n",
       "      <td>True</td>\n",
       "      <td>True</td>\n",
       "      <td>False</td>\n",
       "      <td>True</td>\n",
       "      <td>True</td>\n",
       "      <td>True</td>\n",
       "      <td>...</td>\n",
       "      <td>True</td>\n",
       "      <td>True</td>\n",
       "      <td>True</td>\n",
       "      <td>True</td>\n",
       "      <td>False</td>\n",
       "      <td>True</td>\n",
       "      <td>False</td>\n",
       "      <td>True</td>\n",
       "      <td>True</td>\n",
       "      <td>True</td>\n",
       "    </tr>\n",
       "    <tr>\n",
       "      <th>7997</th>\n",
       "      <td>False</td>\n",
       "      <td>True</td>\n",
       "      <td>False</td>\n",
       "      <td>False</td>\n",
       "      <td>True</td>\n",
       "      <td>True</td>\n",
       "      <td>False</td>\n",
       "      <td>True</td>\n",
       "      <td>True</td>\n",
       "      <td>True</td>\n",
       "      <td>...</td>\n",
       "      <td>True</td>\n",
       "      <td>True</td>\n",
       "      <td>True</td>\n",
       "      <td>True</td>\n",
       "      <td>False</td>\n",
       "      <td>True</td>\n",
       "      <td>True</td>\n",
       "      <td>True</td>\n",
       "      <td>True</td>\n",
       "      <td>True</td>\n",
       "    </tr>\n",
       "    <tr>\n",
       "      <th>7998</th>\n",
       "      <td>False</td>\n",
       "      <td>True</td>\n",
       "      <td>True</td>\n",
       "      <td>False</td>\n",
       "      <td>True</td>\n",
       "      <td>True</td>\n",
       "      <td>False</td>\n",
       "      <td>True</td>\n",
       "      <td>True</td>\n",
       "      <td>True</td>\n",
       "      <td>...</td>\n",
       "      <td>True</td>\n",
       "      <td>True</td>\n",
       "      <td>True</td>\n",
       "      <td>True</td>\n",
       "      <td>False</td>\n",
       "      <td>True</td>\n",
       "      <td>False</td>\n",
       "      <td>True</td>\n",
       "      <td>True</td>\n",
       "      <td>True</td>\n",
       "    </tr>\n",
       "    <tr>\n",
       "      <th>7999</th>\n",
       "      <td>False</td>\n",
       "      <td>True</td>\n",
       "      <td>False</td>\n",
       "      <td>False</td>\n",
       "      <td>True</td>\n",
       "      <td>True</td>\n",
       "      <td>False</td>\n",
       "      <td>False</td>\n",
       "      <td>False</td>\n",
       "      <td>True</td>\n",
       "      <td>...</td>\n",
       "      <td>True</td>\n",
       "      <td>True</td>\n",
       "      <td>True</td>\n",
       "      <td>True</td>\n",
       "      <td>False</td>\n",
       "      <td>True</td>\n",
       "      <td>True</td>\n",
       "      <td>True</td>\n",
       "      <td>True</td>\n",
       "      <td>True</td>\n",
       "    </tr>\n",
       "  </tbody>\n",
       "</table>\n",
       "<p>8000 rows × 1194 columns</p>\n",
       "</div>"
      ],
      "text/plain": [
       "      release  n_0000  n_0001  n_0002  n_0003  n_0004  n_0005  n_0006  n_0007  \\\n",
       "0       False    True    True   False    True    True   False    True    True   \n",
       "1       False    True    True   False    True    True   False    True    True   \n",
       "2       False    True    True   False    True    True   False    True    True   \n",
       "3       False    True    True   False    True    True   False    True    True   \n",
       "4       False    True    True   False    True    True   False    True    True   \n",
       "...       ...     ...     ...     ...     ...     ...     ...     ...     ...   \n",
       "7995    False    True    True   False    True    True   False    True    True   \n",
       "7996    False    True    True   False    True    True   False    True    True   \n",
       "7997    False    True   False   False    True    True   False    True    True   \n",
       "7998    False    True    True   False    True    True   False    True    True   \n",
       "7999    False    True   False   False    True    True   False   False   False   \n",
       "\n",
       "      n_0009  ...  c_1366  c_1367  c_1369  c_1370  c_1372  c_1373  c_1374  \\\n",
       "0       True  ...    True    True    True    True   False    True   False   \n",
       "1       True  ...    True    True    True   False   False    True    True   \n",
       "2       True  ...    True    True    True   False   False    True   False   \n",
       "3       True  ...    True    True    True    True   False    True    True   \n",
       "4       True  ...    True    True    True   False   False    True   False   \n",
       "...      ...  ...     ...     ...     ...     ...     ...     ...     ...   \n",
       "7995    True  ...   False    True    True    True   False    True    True   \n",
       "7996    True  ...    True    True    True    True   False    True   False   \n",
       "7997    True  ...    True    True    True    True   False    True    True   \n",
       "7998    True  ...    True    True    True    True   False    True   False   \n",
       "7999    True  ...    True    True    True    True   False    True    True   \n",
       "\n",
       "      c_1375  c_1376  c_1377  \n",
       "0       True    True    True  \n",
       "1       True    True    True  \n",
       "2       True    True    True  \n",
       "3       True    True    True  \n",
       "4       True    True    True  \n",
       "...      ...     ...     ...  \n",
       "7995    True    True   False  \n",
       "7996    True    True    True  \n",
       "7997    True    True    True  \n",
       "7998    True    True    True  \n",
       "7999    True    True    True  \n",
       "\n",
       "[8000 rows x 1194 columns]"
      ]
     },
     "execution_count": 26,
     "metadata": {},
     "output_type": "execute_result"
    }
   ],
   "source": [
    "feature_is_na = train_df.isna()\n",
    "feature_is_na"
   ]
  },
  {
   "cell_type": "code",
   "execution_count": 37,
   "metadata": {},
   "outputs": [],
   "source": [
    "na_with_labels = pd.concat((feature_is_na, train_labels_df), axis=1)\n",
    "corr = na_with_labels.corr()[train_labels_df.columns].abs()"
   ]
  },
  {
   "cell_type": "code",
   "execution_count": 39,
   "metadata": {},
   "outputs": [
    {
     "data": {
      "text/html": [
       "<div>\n",
       "<style scoped>\n",
       "    .dataframe tbody tr th:only-of-type {\n",
       "        vertical-align: middle;\n",
       "    }\n",
       "\n",
       "    .dataframe tbody tr th {\n",
       "        vertical-align: top;\n",
       "    }\n",
       "\n",
       "    .dataframe thead th {\n",
       "        text-align: right;\n",
       "    }\n",
       "</style>\n",
       "<table border=\"1\" class=\"dataframe\">\n",
       "  <thead>\n",
       "    <tr style=\"text-align: right;\">\n",
       "      <th></th>\n",
       "      <th>service_a</th>\n",
       "      <th>service_b</th>\n",
       "      <th>service_c</th>\n",
       "      <th>service_d</th>\n",
       "      <th>service_e</th>\n",
       "      <th>service_f</th>\n",
       "      <th>service_g</th>\n",
       "      <th>service_h</th>\n",
       "      <th>service_i</th>\n",
       "      <th>service_j</th>\n",
       "      <th>service_k</th>\n",
       "      <th>service_l</th>\n",
       "      <th>service_m</th>\n",
       "      <th>service_n</th>\n",
       "    </tr>\n",
       "  </thead>\n",
       "  <tbody>\n",
       "    <tr>\n",
       "      <th>release</th>\n",
       "      <td>NaN</td>\n",
       "      <td>NaN</td>\n",
       "      <td>NaN</td>\n",
       "      <td>NaN</td>\n",
       "      <td>NaN</td>\n",
       "      <td>NaN</td>\n",
       "      <td>NaN</td>\n",
       "      <td>NaN</td>\n",
       "      <td>NaN</td>\n",
       "      <td>NaN</td>\n",
       "      <td>NaN</td>\n",
       "      <td>NaN</td>\n",
       "      <td>NaN</td>\n",
       "      <td>NaN</td>\n",
       "    </tr>\n",
       "    <tr>\n",
       "      <th>n_0000</th>\n",
       "      <td>0.01</td>\n",
       "      <td>0.00</td>\n",
       "      <td>0.02</td>\n",
       "      <td>0.01</td>\n",
       "      <td>0.01</td>\n",
       "      <td>0.01</td>\n",
       "      <td>0.01</td>\n",
       "      <td>0.00</td>\n",
       "      <td>0.00</td>\n",
       "      <td>0.01</td>\n",
       "      <td>0.00</td>\n",
       "      <td>0.00</td>\n",
       "      <td>0.01</td>\n",
       "      <td>0.02</td>\n",
       "    </tr>\n",
       "    <tr>\n",
       "      <th>n_0001</th>\n",
       "      <td>0.08</td>\n",
       "      <td>0.05</td>\n",
       "      <td>0.05</td>\n",
       "      <td>0.03</td>\n",
       "      <td>0.00</td>\n",
       "      <td>0.00</td>\n",
       "      <td>0.02</td>\n",
       "      <td>0.02</td>\n",
       "      <td>0.02</td>\n",
       "      <td>0.04</td>\n",
       "      <td>0.05</td>\n",
       "      <td>0.02</td>\n",
       "      <td>0.03</td>\n",
       "      <td>0.01</td>\n",
       "    </tr>\n",
       "    <tr>\n",
       "      <th>n_0002</th>\n",
       "      <td>0.00</td>\n",
       "      <td>0.02</td>\n",
       "      <td>0.07</td>\n",
       "      <td>0.02</td>\n",
       "      <td>0.03</td>\n",
       "      <td>0.04</td>\n",
       "      <td>0.01</td>\n",
       "      <td>0.12</td>\n",
       "      <td>0.03</td>\n",
       "      <td>0.24</td>\n",
       "      <td>0.17</td>\n",
       "      <td>0.07</td>\n",
       "      <td>0.07</td>\n",
       "      <td>0.07</td>\n",
       "    </tr>\n",
       "    <tr>\n",
       "      <th>n_0003</th>\n",
       "      <td>0.02</td>\n",
       "      <td>0.04</td>\n",
       "      <td>0.01</td>\n",
       "      <td>0.00</td>\n",
       "      <td>0.01</td>\n",
       "      <td>0.01</td>\n",
       "      <td>0.00</td>\n",
       "      <td>0.01</td>\n",
       "      <td>0.02</td>\n",
       "      <td>0.01</td>\n",
       "      <td>0.02</td>\n",
       "      <td>0.01</td>\n",
       "      <td>0.01</td>\n",
       "      <td>0.03</td>\n",
       "    </tr>\n",
       "    <tr>\n",
       "      <th>...</th>\n",
       "      <td>...</td>\n",
       "      <td>...</td>\n",
       "      <td>...</td>\n",
       "      <td>...</td>\n",
       "      <td>...</td>\n",
       "      <td>...</td>\n",
       "      <td>...</td>\n",
       "      <td>...</td>\n",
       "      <td>...</td>\n",
       "      <td>...</td>\n",
       "      <td>...</td>\n",
       "      <td>...</td>\n",
       "      <td>...</td>\n",
       "      <td>...</td>\n",
       "    </tr>\n",
       "    <tr>\n",
       "      <th>service_j</th>\n",
       "      <td>0.06</td>\n",
       "      <td>0.06</td>\n",
       "      <td>0.05</td>\n",
       "      <td>0.00</td>\n",
       "      <td>0.03</td>\n",
       "      <td>0.06</td>\n",
       "      <td>0.03</td>\n",
       "      <td>0.01</td>\n",
       "      <td>0.00</td>\n",
       "      <td>1.00</td>\n",
       "      <td>0.53</td>\n",
       "      <td>0.01</td>\n",
       "      <td>0.00</td>\n",
       "      <td>0.03</td>\n",
       "    </tr>\n",
       "    <tr>\n",
       "      <th>service_k</th>\n",
       "      <td>0.07</td>\n",
       "      <td>0.04</td>\n",
       "      <td>0.02</td>\n",
       "      <td>0.02</td>\n",
       "      <td>0.04</td>\n",
       "      <td>0.06</td>\n",
       "      <td>0.05</td>\n",
       "      <td>0.05</td>\n",
       "      <td>0.00</td>\n",
       "      <td>0.53</td>\n",
       "      <td>1.00</td>\n",
       "      <td>0.08</td>\n",
       "      <td>0.07</td>\n",
       "      <td>0.04</td>\n",
       "    </tr>\n",
       "    <tr>\n",
       "      <th>service_l</th>\n",
       "      <td>0.04</td>\n",
       "      <td>0.03</td>\n",
       "      <td>0.13</td>\n",
       "      <td>0.15</td>\n",
       "      <td>0.17</td>\n",
       "      <td>0.01</td>\n",
       "      <td>0.01</td>\n",
       "      <td>0.31</td>\n",
       "      <td>0.04</td>\n",
       "      <td>0.01</td>\n",
       "      <td>0.08</td>\n",
       "      <td>1.00</td>\n",
       "      <td>0.80</td>\n",
       "      <td>0.12</td>\n",
       "    </tr>\n",
       "    <tr>\n",
       "      <th>service_m</th>\n",
       "      <td>0.06</td>\n",
       "      <td>0.05</td>\n",
       "      <td>0.14</td>\n",
       "      <td>0.17</td>\n",
       "      <td>0.17</td>\n",
       "      <td>0.02</td>\n",
       "      <td>0.01</td>\n",
       "      <td>0.21</td>\n",
       "      <td>0.02</td>\n",
       "      <td>0.00</td>\n",
       "      <td>0.07</td>\n",
       "      <td>0.80</td>\n",
       "      <td>1.00</td>\n",
       "      <td>0.09</td>\n",
       "    </tr>\n",
       "    <tr>\n",
       "      <th>service_n</th>\n",
       "      <td>0.05</td>\n",
       "      <td>0.07</td>\n",
       "      <td>0.11</td>\n",
       "      <td>0.04</td>\n",
       "      <td>0.02</td>\n",
       "      <td>0.06</td>\n",
       "      <td>0.07</td>\n",
       "      <td>0.18</td>\n",
       "      <td>0.05</td>\n",
       "      <td>0.03</td>\n",
       "      <td>0.04</td>\n",
       "      <td>0.12</td>\n",
       "      <td>0.09</td>\n",
       "      <td>1.00</td>\n",
       "    </tr>\n",
       "  </tbody>\n",
       "</table>\n",
       "<p>1208 rows × 14 columns</p>\n",
       "</div>"
      ],
      "text/plain": [
       "           service_a  service_b  service_c  service_d  service_e  service_f  \\\n",
       "release          NaN        NaN        NaN        NaN        NaN        NaN   \n",
       "n_0000          0.01       0.00       0.02       0.01       0.01       0.01   \n",
       "n_0001          0.08       0.05       0.05       0.03       0.00       0.00   \n",
       "n_0002          0.00       0.02       0.07       0.02       0.03       0.04   \n",
       "n_0003          0.02       0.04       0.01       0.00       0.01       0.01   \n",
       "...              ...        ...        ...        ...        ...        ...   \n",
       "service_j       0.06       0.06       0.05       0.00       0.03       0.06   \n",
       "service_k       0.07       0.04       0.02       0.02       0.04       0.06   \n",
       "service_l       0.04       0.03       0.13       0.15       0.17       0.01   \n",
       "service_m       0.06       0.05       0.14       0.17       0.17       0.02   \n",
       "service_n       0.05       0.07       0.11       0.04       0.02       0.06   \n",
       "\n",
       "           service_g  service_h  service_i  service_j  service_k  service_l  \\\n",
       "release          NaN        NaN        NaN        NaN        NaN        NaN   \n",
       "n_0000          0.01       0.00       0.00       0.01       0.00       0.00   \n",
       "n_0001          0.02       0.02       0.02       0.04       0.05       0.02   \n",
       "n_0002          0.01       0.12       0.03       0.24       0.17       0.07   \n",
       "n_0003          0.00       0.01       0.02       0.01       0.02       0.01   \n",
       "...              ...        ...        ...        ...        ...        ...   \n",
       "service_j       0.03       0.01       0.00       1.00       0.53       0.01   \n",
       "service_k       0.05       0.05       0.00       0.53       1.00       0.08   \n",
       "service_l       0.01       0.31       0.04       0.01       0.08       1.00   \n",
       "service_m       0.01       0.21       0.02       0.00       0.07       0.80   \n",
       "service_n       0.07       0.18       0.05       0.03       0.04       0.12   \n",
       "\n",
       "           service_m  service_n  \n",
       "release          NaN        NaN  \n",
       "n_0000          0.01       0.02  \n",
       "n_0001          0.03       0.01  \n",
       "n_0002          0.07       0.07  \n",
       "n_0003          0.01       0.03  \n",
       "...              ...        ...  \n",
       "service_j       0.00       0.03  \n",
       "service_k       0.07       0.04  \n",
       "service_l       0.80       0.12  \n",
       "service_m       1.00       0.09  \n",
       "service_n       0.09       1.00  \n",
       "\n",
       "[1208 rows x 14 columns]"
      ]
     },
     "execution_count": 39,
     "metadata": {},
     "output_type": "execute_result"
    }
   ],
   "source": [
    "corr"
   ]
  },
  {
   "attachments": {},
   "cell_type": "markdown",
   "metadata": {},
   "source": [
    "relase NaN потому что он определен на всех записях"
   ]
  },
  {
   "cell_type": "code",
   "execution_count": 40,
   "metadata": {},
   "outputs": [
    {
     "data": {
      "text/plain": [
       "c_0572      0.57\n",
       "service_a   1.00\n",
       "service_b   0.56\n",
       "Name: service_a, dtype: float64"
      ]
     },
     "execution_count": 40,
     "metadata": {},
     "output_type": "execute_result"
    }
   ],
   "source": [
    "label = \"service_a\"\n",
    "corr[label][corr[label] > 0.5]"
   ]
  },
  {
   "cell_type": "code",
   "execution_count": 43,
   "metadata": {},
   "outputs": [
    {
     "data": {
      "text/plain": [
       "b    1543\n",
       "g     128\n",
       "d     111\n",
       "c      75\n",
       "f      38\n",
       "a      15\n",
       "Name: c_0572, dtype: int64"
      ]
     },
     "execution_count": 43,
     "metadata": {},
     "output_type": "execute_result"
    }
   ],
   "source": [
    "train_df[\"c_0572\"].value_counts()"
   ]
  },
  {
   "attachments": {},
   "cell_type": "markdown",
   "metadata": {},
   "source": [
    "проверим, насколько хорошо работает чисто эта фича"
   ]
  },
  {
   "cell_type": "code",
   "execution_count": 49,
   "metadata": {},
   "outputs": [
    {
     "data": {
      "text/plain": [
       "array([0.73, 0.75, 0.74, 0.75, 0.74])"
      ]
     },
     "execution_count": 49,
     "metadata": {},
     "output_type": "execute_result"
    }
   ],
   "source": [
    "nan_predictor = LogisticRegression()\n",
    "cross_val_score(nan_predictor, feature_is_na[[\"c_0572\"]], train_labels_df[\"service_a\"], scoring=\"roc_auc\")"
   ]
  },
  {
   "cell_type": "code",
   "execution_count": 50,
   "metadata": {},
   "outputs": [
    {
     "data": {
      "text/plain": [
       "array([-0.51, -0.49, -0.5 , -0.5 , -0.51])"
      ]
     },
     "execution_count": 50,
     "metadata": {},
     "output_type": "execute_result"
    }
   ],
   "source": [
    "cross_val_score(nan_predictor, feature_is_na[[\"c_0572\"]], train_labels_df[\"service_a\"], scoring=\"neg_log_loss\")"
   ]
  },
  {
   "attachments": {},
   "cell_type": "markdown",
   "metadata": {},
   "source": [
    "lol"
   ]
  },
  {
   "attachments": {},
   "cell_type": "markdown",
   "metadata": {},
   "source": [
    "В бейзлайне у нас roc auc 0.91, log_loss 0.37. а у service_b максимально выбило 0.49"
   ]
  },
  {
   "attachments": {},
   "cell_type": "markdown",
   "metadata": {},
   "source": [
    "пройдемся по другим колонкам"
   ]
  },
  {
   "cell_type": "code",
   "execution_count": 53,
   "metadata": {},
   "outputs": [
    {
     "data": {
      "text/plain": [
       "c_0572      0.36\n",
       "service_a   0.56\n",
       "service_b   1.00\n",
       "service_c   0.41\n",
       "Name: service_b, dtype: float64"
      ]
     },
     "execution_count": 53,
     "metadata": {},
     "output_type": "execute_result"
    }
   ],
   "source": [
    "label = \"service_b\"\n",
    "corr[label][corr[label] > 0.3]"
   ]
  },
  {
   "attachments": {},
   "cell_type": "markdown",
   "metadata": {},
   "source": [
    "Какая знакомая колонка 🤔"
   ]
  },
  {
   "cell_type": "code",
   "execution_count": 57,
   "metadata": {},
   "outputs": [
    {
     "data": {
      "text/plain": [
       "array([0.65, 0.67, 0.66, 0.67, 0.66])"
      ]
     },
     "execution_count": 57,
     "metadata": {},
     "output_type": "execute_result"
    }
   ],
   "source": [
    "cross_val_score(LogisticRegression(), feature_is_na[[\"c_0572\"]], train_labels_df[\"service_b\"], scoring=\"roc_auc\")"
   ]
  },
  {
   "cell_type": "code",
   "execution_count": 58,
   "metadata": {},
   "outputs": [
    {
     "data": {
      "text/plain": [
       "array([-0.58, -0.57, -0.57, -0.57, -0.57])"
      ]
     },
     "execution_count": 58,
     "metadata": {},
     "output_type": "execute_result"
    }
   ],
   "source": [
    "cross_val_score(LogisticRegression(), feature_is_na[[\"c_0572\"]], train_labels_df[\"service_b\"], scoring=\"neg_log_loss\")"
   ]
  },
  {
   "attachments": {},
   "cell_type": "markdown",
   "metadata": {},
   "source": [
    "интересно, сколько таких колонок нужно добавить чтобы получить скор лучше бейзлайна"
   ]
  },
  {
   "cell_type": "code",
   "execution_count": 61,
   "metadata": {},
   "outputs": [],
   "source": [
    "from sklearn.pipeline import Pipeline\n",
    "from sklearn.compose import ColumnTransformer\n",
    "from sklearn.preprocessing import OneHotEncoder"
   ]
  },
  {
   "cell_type": "code",
   "execution_count": 94,
   "metadata": {},
   "outputs": [],
   "source": [
    "train_counts = train_df.describe(include=\"all\").loc[\"count\"]\n",
    "well_defined_columns = train_counts[train_counts > 7000].index\n",
    "well_done_df = train_df[well_defined_columns]\n",
    "\n",
    "well_done_df = well_done_df.reindex(columns=sorted(well_done_df.columns, key=lambda col: well_done_df.dtypes[col]))\n",
    "cat_features = np.where(well_done_df.dtypes == object)[0]\n",
    "numerical_features = np.where(well_done_df.dtypes != object)[0]"
   ]
  },
  {
   "cell_type": "code",
   "execution_count": 100,
   "metadata": {},
   "outputs": [],
   "source": [
    "pipeline = Pipeline(\n",
    "    (\n",
    "        (\n",
    "            \"impute\",\n",
    "            ColumnTransformer(\n",
    "                (\n",
    "                    (\n",
    "                        \"impute_numerical\",\n",
    "                        SimpleImputer(strategy=\"mean\"),\n",
    "                        numerical_features,\n",
    "                    ),\n",
    "                    (\n",
    "                        \"impute_categorical\",\n",
    "                        SimpleImputer(strategy=\"most_frequent\"),\n",
    "                        cat_features,\n",
    "                    ),\n",
    "                ),\n",
    "                remainder=\"passthrough\",\n",
    "            ),\n",
    "        ),\n",
    "        (\n",
    "            \"one_hot_categorical\",\n",
    "            ColumnTransformer(\n",
    "                ((\"inner\", OneHotEncoder(handle_unknown=\"ignore\", sparse_output=False), cat_features),),\n",
    "                remainder=\"passthrough\",\n",
    "            ),\n",
    "        ),\n",
    "        (\"model\", LogisticRegression(solver=\"liblinear\", random_state=seed)),\n",
    "    )\n",
    ")"
   ]
  },
  {
   "cell_type": "code",
   "execution_count": 73,
   "metadata": {},
   "outputs": [
    {
     "data": {
      "text/plain": [
       "array([-0.53, -0.52, -0.52, -0.53, -0.51])"
      ]
     },
     "execution_count": 73,
     "metadata": {},
     "output_type": "execute_result"
    }
   ],
   "source": [
    "cross_val_score(\n",
    "    pipeline,\n",
    "    well_done_df,\n",
    "    train_labels_df[\"service_b\"],\n",
    "    scoring=\"neg_log_loss\",\n",
    ")"
   ]
  },
  {
   "cell_type": "code",
   "execution_count": 74,
   "metadata": {},
   "outputs": [
    {
     "data": {
      "text/plain": [
       "array([-0.53, -0.52, -0.52, -0.53, -0.51])"
      ]
     },
     "execution_count": 74,
     "metadata": {},
     "output_type": "execute_result"
    }
   ],
   "source": [
    "cross_val_score(\n",
    "    pipeline,\n",
    "    pd.concat((well_done_df, feature_is_na[[\"c_0572\"]]), axis=1),\n",
    "    train_labels_df[\"service_b\"],\n",
    "    scoring=\"neg_log_loss\",\n",
    ")"
   ]
  },
  {
   "attachments": {},
   "cell_type": "markdown",
   "metadata": {},
   "source": [
    "не улучшается"
   ]
  },
  {
   "cell_type": "code",
   "execution_count": 97,
   "metadata": {},
   "outputs": [
    {
     "data": {
      "text/plain": [
       "array([-0.42, -0.4 , -0.42, -0.42, -0.42])"
      ]
     },
     "execution_count": 97,
     "metadata": {},
     "output_type": "execute_result"
    }
   ],
   "source": [
    "cross_val_score(\n",
    "    pipeline,\n",
    "    well_done_df,\n",
    "    train_labels_df[\"service_a\"],\n",
    "    scoring=\"neg_log_loss\",\n",
    ")"
   ]
  },
  {
   "cell_type": "code",
   "execution_count": 98,
   "metadata": {},
   "outputs": [
    {
     "data": {
      "text/plain": [
       "array([-0.42, -0.4 , -0.42, -0.42, -0.42])"
      ]
     },
     "execution_count": 98,
     "metadata": {},
     "output_type": "execute_result"
    }
   ],
   "source": [
    "cross_val_score(\n",
    "    pipeline,\n",
    "    pd.concat((well_done_df, feature_is_na[[\"c_0572\"]]), axis=1),\n",
    "    train_labels_df[\"service_a\"],\n",
    "    scoring=\"neg_log_loss\",\n",
    ")"
   ]
  },
  {
   "attachments": {},
   "cell_type": "markdown",
   "metadata": {},
   "source": [
    "Попробуем засунуть все isna"
   ]
  },
  {
   "cell_type": "code",
   "execution_count": 106,
   "metadata": {},
   "outputs": [],
   "source": [
    "feature_is_na.columns = [f\"{name}_isna\" for name in train_df.columns]"
   ]
  },
  {
   "cell_type": "code",
   "execution_count": 109,
   "metadata": {},
   "outputs": [
    {
     "data": {
      "text/plain": [
       "array([-0.45, -0.44, -0.44, -0.45, -0.45])"
      ]
     },
     "execution_count": 109,
     "metadata": {},
     "output_type": "execute_result"
    }
   ],
   "source": [
    "well_done_with_isna = pd.concat((well_done_df, feature_is_na), axis=1)\n",
    "well_done_with_isna = well_done_with_isna.reindex(\n",
    "    columns=sorted(\n",
    "        well_done_with_isna.columns, key=lambda col: well_done_with_isna.dtypes[col]\n",
    "    )\n",
    ")\n",
    "cat_features = np.where(well_done_with_isna.dtypes == object)[0]\n",
    "numerical_features = np.where(well_done_with_isna.dtypes != object)[0]\n",
    "\n",
    "pipeline = Pipeline(\n",
    "    (\n",
    "        (\n",
    "            \"impute\",\n",
    "            ColumnTransformer(\n",
    "                (\n",
    "                    (\n",
    "                        \"impute_numerical\",\n",
    "                        SimpleImputer(strategy=\"mean\"),\n",
    "                        numerical_features,\n",
    "                    ),\n",
    "                    (\n",
    "                        \"impute_categorical\",\n",
    "                        SimpleImputer(strategy=\"most_frequent\"),\n",
    "                        cat_features,\n",
    "                    ),\n",
    "                ),\n",
    "                remainder=\"passthrough\",\n",
    "            ),\n",
    "        ),\n",
    "        (\n",
    "            \"one_hot_categorical\",\n",
    "            ColumnTransformer(\n",
    "                (\n",
    "                    (\n",
    "                        \"inner\",\n",
    "                        OneHotEncoder(handle_unknown=\"ignore\", sparse_output=False),\n",
    "                        cat_features,\n",
    "                    ),\n",
    "                ),\n",
    "                remainder=\"passthrough\",\n",
    "            ),\n",
    "        ),\n",
    "        # (\"model\", LogisticRegression(solver=\"liblinear\", random_state=seed)),\n",
    "        (\"model\", RandomForestClassifier(random_state=seed)),\n",
    "    )\n",
    ")\n",
    "\n",
    "cross_val_score(\n",
    "    pipeline,\n",
    "    well_done_with_isna,\n",
    "    train_labels_df[\"service_a\"],\n",
    "    scoring=\"neg_log_loss\",\n",
    ")"
   ]
  },
  {
   "attachments": {},
   "cell_type": "markdown",
   "metadata": {},
   "source": [
    "Наверное, слишком сложно"
   ]
  },
  {
   "cell_type": "code",
   "execution_count": 110,
   "metadata": {},
   "outputs": [
    {
     "data": {
      "text/html": [
       "<div>\n",
       "<style scoped>\n",
       "    .dataframe tbody tr th:only-of-type {\n",
       "        vertical-align: middle;\n",
       "    }\n",
       "\n",
       "    .dataframe tbody tr th {\n",
       "        vertical-align: top;\n",
       "    }\n",
       "\n",
       "    .dataframe thead th {\n",
       "        text-align: right;\n",
       "    }\n",
       "</style>\n",
       "<table border=\"1\" class=\"dataframe\">\n",
       "  <thead>\n",
       "    <tr style=\"text-align: right;\">\n",
       "      <th></th>\n",
       "      <th>release_isna</th>\n",
       "      <th>n_0000_isna</th>\n",
       "      <th>n_0001_isna</th>\n",
       "      <th>n_0002_isna</th>\n",
       "      <th>n_0003_isna</th>\n",
       "      <th>n_0004_isna</th>\n",
       "      <th>n_0005_isna</th>\n",
       "      <th>n_0006_isna</th>\n",
       "      <th>n_0007_isna</th>\n",
       "      <th>n_0009_isna</th>\n",
       "      <th>...</th>\n",
       "      <th>c_1223</th>\n",
       "      <th>c_1227</th>\n",
       "      <th>c_1236</th>\n",
       "      <th>c_1244</th>\n",
       "      <th>c_1252</th>\n",
       "      <th>c_1259</th>\n",
       "      <th>c_1286</th>\n",
       "      <th>c_1316</th>\n",
       "      <th>c_1348</th>\n",
       "      <th>c_1372</th>\n",
       "    </tr>\n",
       "  </thead>\n",
       "  <tbody>\n",
       "    <tr>\n",
       "      <th>0</th>\n",
       "      <td>False</td>\n",
       "      <td>True</td>\n",
       "      <td>True</td>\n",
       "      <td>False</td>\n",
       "      <td>True</td>\n",
       "      <td>True</td>\n",
       "      <td>False</td>\n",
       "      <td>True</td>\n",
       "      <td>True</td>\n",
       "      <td>True</td>\n",
       "      <td>...</td>\n",
       "      <td>c</td>\n",
       "      <td>a</td>\n",
       "      <td>c</td>\n",
       "      <td>d</td>\n",
       "      <td>b</td>\n",
       "      <td>n</td>\n",
       "      <td>b</td>\n",
       "      <td>b</td>\n",
       "      <td>b</td>\n",
       "      <td>a</td>\n",
       "    </tr>\n",
       "    <tr>\n",
       "      <th>1</th>\n",
       "      <td>False</td>\n",
       "      <td>True</td>\n",
       "      <td>True</td>\n",
       "      <td>False</td>\n",
       "      <td>True</td>\n",
       "      <td>True</td>\n",
       "      <td>False</td>\n",
       "      <td>True</td>\n",
       "      <td>True</td>\n",
       "      <td>True</td>\n",
       "      <td>...</td>\n",
       "      <td>a</td>\n",
       "      <td>a</td>\n",
       "      <td>c</td>\n",
       "      <td>d</td>\n",
       "      <td>b</td>\n",
       "      <td>e</td>\n",
       "      <td>b</td>\n",
       "      <td>b</td>\n",
       "      <td>b</td>\n",
       "      <td>a</td>\n",
       "    </tr>\n",
       "    <tr>\n",
       "      <th>2</th>\n",
       "      <td>False</td>\n",
       "      <td>True</td>\n",
       "      <td>True</td>\n",
       "      <td>False</td>\n",
       "      <td>True</td>\n",
       "      <td>True</td>\n",
       "      <td>False</td>\n",
       "      <td>True</td>\n",
       "      <td>True</td>\n",
       "      <td>True</td>\n",
       "      <td>...</td>\n",
       "      <td>c</td>\n",
       "      <td>a</td>\n",
       "      <td>a</td>\n",
       "      <td>d</td>\n",
       "      <td>b</td>\n",
       "      <td>w</td>\n",
       "      <td>b</td>\n",
       "      <td>b</td>\n",
       "      <td>b</td>\n",
       "      <td>a</td>\n",
       "    </tr>\n",
       "    <tr>\n",
       "      <th>3</th>\n",
       "      <td>False</td>\n",
       "      <td>True</td>\n",
       "      <td>True</td>\n",
       "      <td>False</td>\n",
       "      <td>True</td>\n",
       "      <td>True</td>\n",
       "      <td>False</td>\n",
       "      <td>True</td>\n",
       "      <td>True</td>\n",
       "      <td>True</td>\n",
       "      <td>...</td>\n",
       "      <td>c</td>\n",
       "      <td>a</td>\n",
       "      <td>c</td>\n",
       "      <td>d</td>\n",
       "      <td>b</td>\n",
       "      <td>e</td>\n",
       "      <td>b</td>\n",
       "      <td>a</td>\n",
       "      <td>b</td>\n",
       "      <td>a</td>\n",
       "    </tr>\n",
       "    <tr>\n",
       "      <th>4</th>\n",
       "      <td>False</td>\n",
       "      <td>True</td>\n",
       "      <td>True</td>\n",
       "      <td>False</td>\n",
       "      <td>True</td>\n",
       "      <td>True</td>\n",
       "      <td>False</td>\n",
       "      <td>True</td>\n",
       "      <td>True</td>\n",
       "      <td>True</td>\n",
       "      <td>...</td>\n",
       "      <td>c</td>\n",
       "      <td>a</td>\n",
       "      <td>c</td>\n",
       "      <td>d</td>\n",
       "      <td>b</td>\n",
       "      <td>e</td>\n",
       "      <td>b</td>\n",
       "      <td>b</td>\n",
       "      <td>b</td>\n",
       "      <td>a</td>\n",
       "    </tr>\n",
       "    <tr>\n",
       "      <th>...</th>\n",
       "      <td>...</td>\n",
       "      <td>...</td>\n",
       "      <td>...</td>\n",
       "      <td>...</td>\n",
       "      <td>...</td>\n",
       "      <td>...</td>\n",
       "      <td>...</td>\n",
       "      <td>...</td>\n",
       "      <td>...</td>\n",
       "      <td>...</td>\n",
       "      <td>...</td>\n",
       "      <td>...</td>\n",
       "      <td>...</td>\n",
       "      <td>...</td>\n",
       "      <td>...</td>\n",
       "      <td>...</td>\n",
       "      <td>...</td>\n",
       "      <td>...</td>\n",
       "      <td>...</td>\n",
       "      <td>...</td>\n",
       "      <td>...</td>\n",
       "    </tr>\n",
       "    <tr>\n",
       "      <th>7995</th>\n",
       "      <td>False</td>\n",
       "      <td>True</td>\n",
       "      <td>True</td>\n",
       "      <td>False</td>\n",
       "      <td>True</td>\n",
       "      <td>True</td>\n",
       "      <td>False</td>\n",
       "      <td>True</td>\n",
       "      <td>True</td>\n",
       "      <td>True</td>\n",
       "      <td>...</td>\n",
       "      <td>c</td>\n",
       "      <td>b</td>\n",
       "      <td>c</td>\n",
       "      <td>a</td>\n",
       "      <td>b</td>\n",
       "      <td>i</td>\n",
       "      <td>a</td>\n",
       "      <td>a</td>\n",
       "      <td>c</td>\n",
       "      <td>a</td>\n",
       "    </tr>\n",
       "    <tr>\n",
       "      <th>7996</th>\n",
       "      <td>False</td>\n",
       "      <td>True</td>\n",
       "      <td>True</td>\n",
       "      <td>False</td>\n",
       "      <td>True</td>\n",
       "      <td>True</td>\n",
       "      <td>False</td>\n",
       "      <td>True</td>\n",
       "      <td>True</td>\n",
       "      <td>True</td>\n",
       "      <td>...</td>\n",
       "      <td>c</td>\n",
       "      <td>a</td>\n",
       "      <td>c</td>\n",
       "      <td>d</td>\n",
       "      <td>b</td>\n",
       "      <td>w</td>\n",
       "      <td>b</td>\n",
       "      <td>b</td>\n",
       "      <td>b</td>\n",
       "      <td>a</td>\n",
       "    </tr>\n",
       "    <tr>\n",
       "      <th>7997</th>\n",
       "      <td>False</td>\n",
       "      <td>True</td>\n",
       "      <td>False</td>\n",
       "      <td>False</td>\n",
       "      <td>True</td>\n",
       "      <td>True</td>\n",
       "      <td>False</td>\n",
       "      <td>True</td>\n",
       "      <td>True</td>\n",
       "      <td>True</td>\n",
       "      <td>...</td>\n",
       "      <td>c</td>\n",
       "      <td>a</td>\n",
       "      <td>c</td>\n",
       "      <td>d</td>\n",
       "      <td>b</td>\n",
       "      <td>n</td>\n",
       "      <td>b</td>\n",
       "      <td>b</td>\n",
       "      <td>b</td>\n",
       "      <td>a</td>\n",
       "    </tr>\n",
       "    <tr>\n",
       "      <th>7998</th>\n",
       "      <td>False</td>\n",
       "      <td>True</td>\n",
       "      <td>True</td>\n",
       "      <td>False</td>\n",
       "      <td>True</td>\n",
       "      <td>True</td>\n",
       "      <td>False</td>\n",
       "      <td>True</td>\n",
       "      <td>True</td>\n",
       "      <td>True</td>\n",
       "      <td>...</td>\n",
       "      <td>c</td>\n",
       "      <td>a</td>\n",
       "      <td>a</td>\n",
       "      <td>a</td>\n",
       "      <td>b</td>\n",
       "      <td>n</td>\n",
       "      <td>b</td>\n",
       "      <td>b</td>\n",
       "      <td>b</td>\n",
       "      <td>a</td>\n",
       "    </tr>\n",
       "    <tr>\n",
       "      <th>7999</th>\n",
       "      <td>False</td>\n",
       "      <td>True</td>\n",
       "      <td>False</td>\n",
       "      <td>False</td>\n",
       "      <td>True</td>\n",
       "      <td>True</td>\n",
       "      <td>False</td>\n",
       "      <td>False</td>\n",
       "      <td>False</td>\n",
       "      <td>True</td>\n",
       "      <td>...</td>\n",
       "      <td>c</td>\n",
       "      <td>a</td>\n",
       "      <td>c</td>\n",
       "      <td>d</td>\n",
       "      <td>b</td>\n",
       "      <td>n</td>\n",
       "      <td>b</td>\n",
       "      <td>b</td>\n",
       "      <td>c</td>\n",
       "      <td>b</td>\n",
       "    </tr>\n",
       "  </tbody>\n",
       "</table>\n",
       "<p>8000 rows × 1284 columns</p>\n",
       "</div>"
      ],
      "text/plain": [
       "      release_isna  n_0000_isna  n_0001_isna  n_0002_isna  n_0003_isna  \\\n",
       "0            False         True         True        False         True   \n",
       "1            False         True         True        False         True   \n",
       "2            False         True         True        False         True   \n",
       "3            False         True         True        False         True   \n",
       "4            False         True         True        False         True   \n",
       "...            ...          ...          ...          ...          ...   \n",
       "7995         False         True         True        False         True   \n",
       "7996         False         True         True        False         True   \n",
       "7997         False         True        False        False         True   \n",
       "7998         False         True         True        False         True   \n",
       "7999         False         True        False        False         True   \n",
       "\n",
       "      n_0004_isna  n_0005_isna  n_0006_isna  n_0007_isna  n_0009_isna  ...  \\\n",
       "0            True        False         True         True         True  ...   \n",
       "1            True        False         True         True         True  ...   \n",
       "2            True        False         True         True         True  ...   \n",
       "3            True        False         True         True         True  ...   \n",
       "4            True        False         True         True         True  ...   \n",
       "...           ...          ...          ...          ...          ...  ...   \n",
       "7995         True        False         True         True         True  ...   \n",
       "7996         True        False         True         True         True  ...   \n",
       "7997         True        False         True         True         True  ...   \n",
       "7998         True        False         True         True         True  ...   \n",
       "7999         True        False        False        False         True  ...   \n",
       "\n",
       "      c_1223  c_1227  c_1236  c_1244  c_1252  c_1259  c_1286  c_1316  c_1348  \\\n",
       "0          c       a       c       d       b       n       b       b       b   \n",
       "1          a       a       c       d       b       e       b       b       b   \n",
       "2          c       a       a       d       b       w       b       b       b   \n",
       "3          c       a       c       d       b       e       b       a       b   \n",
       "4          c       a       c       d       b       e       b       b       b   \n",
       "...      ...     ...     ...     ...     ...     ...     ...     ...     ...   \n",
       "7995       c       b       c       a       b       i       a       a       c   \n",
       "7996       c       a       c       d       b       w       b       b       b   \n",
       "7997       c       a       c       d       b       n       b       b       b   \n",
       "7998       c       a       a       a       b       n       b       b       b   \n",
       "7999       c       a       c       d       b       n       b       b       c   \n",
       "\n",
       "      c_1372  \n",
       "0          a  \n",
       "1          a  \n",
       "2          a  \n",
       "3          a  \n",
       "4          a  \n",
       "...      ...  \n",
       "7995       a  \n",
       "7996       a  \n",
       "7997       a  \n",
       "7998       a  \n",
       "7999       b  \n",
       "\n",
       "[8000 rows x 1284 columns]"
      ]
     },
     "execution_count": 110,
     "metadata": {},
     "output_type": "execute_result"
    }
   ],
   "source": [
    "well_done_with_isna"
   ]
  }
 ],
 "metadata": {
  "kernelspec": {
   "display_name": ".venv",
   "language": "python",
   "name": "python3"
  },
  "language_info": {
   "codemirror_mode": {
    "name": "ipython",
    "version": 3
   },
   "file_extension": ".py",
   "mimetype": "text/x-python",
   "name": "python",
   "nbconvert_exporter": "python",
   "pygments_lexer": "ipython3",
   "version": "3.9.12"
  },
  "orig_nbformat": 4,
  "vscode": {
   "interpreter": {
    "hash": "787916fbffaf37388ff98c1bd1131ec0bcbfc3d9d65a17da37bcef2262b30c90"
   }
  }
 },
 "nbformat": 4,
 "nbformat_minor": 2
}
